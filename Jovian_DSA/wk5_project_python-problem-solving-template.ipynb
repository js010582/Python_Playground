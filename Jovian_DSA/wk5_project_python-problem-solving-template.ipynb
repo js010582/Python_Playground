{
 "cells": [
  {
   "cell_type": "markdown",
   "metadata": {},
   "source": [
    "# LINKED LIST SORTING IN AN ASCENDING ORDER"
   ]
  },
  {
   "cell_type": "code",
   "execution_count": 1,
   "metadata": {},
   "outputs": [],
   "source": [
    "filename = 'wk5_project_python-problem-solving-template.ipynb'\n",
    "project_name = 'DSA_Sort_List' # give it an appropriate name"
   ]
  },
  {
   "cell_type": "code",
   "execution_count": 2,
   "metadata": {},
   "outputs": [],
   "source": [
    "!pip install jovian --upgrade --quiet"
   ]
  },
  {
   "cell_type": "code",
   "execution_count": 3,
   "metadata": {},
   "outputs": [
    {
     "data": {
      "application/javascript": "if (window.IPython && IPython.notebook.kernel) IPython.notebook.kernel.execute('jovian.utils.jupyter.get_notebook_name_saved = lambda: \"' + IPython.notebook.notebook_name + '\"')",
      "text/plain": [
       "<IPython.core.display.Javascript object>"
      ]
     },
     "metadata": {},
     "output_type": "display_data"
    }
   ],
   "source": [
    "import jovian"
   ]
  },
  {
   "cell_type": "code",
   "execution_count": 4,
   "metadata": {},
   "outputs": [
    {
     "data": {
      "application/javascript": "window.require && require([\"base/js/namespace\"],function(Jupyter){Jupyter.notebook.save_checkpoint()})",
      "text/plain": [
       "<IPython.core.display.Javascript object>"
      ]
     },
     "metadata": {},
     "output_type": "display_data"
    },
    {
     "name": "stdout",
     "output_type": "stream",
     "text": [
      "[jovian] Please enter your API key ( from https://jovian.ai/ ):\u001b[0m\n",
      "API KEY:[jovian] Updating notebook \"js010582/dsa-sort-list\" on https://jovian.ai/\u001b[0m\n",
      "[jovian] Committed successfully! https://jovian.ai/js010582/dsa-sort-list\u001b[0m\n"
     ]
    },
    {
     "data": {
      "text/plain": [
       "'https://jovian.ai/js010582/dsa-sort-list'"
      ]
     },
     "execution_count": 4,
     "metadata": {},
     "output_type": "execute_result"
    }
   ],
   "source": [
    "jovian.commit(filename=filename, project=project_name)"
   ]
  },
  {
   "cell_type": "markdown",
   "metadata": {},
   "source": [
    "## Problem Statement\n",
    "\n",
    "\n",
    "> Given the head of a linked list, return the list after sorting it in ascending order.\n",
    "\n",
    "\n",
    "Source: https://leetcode.com/problems/sort-list/"
   ]
  },
  {
   "cell_type": "markdown",
   "metadata": {},
   "source": [
    "## The Method\n",
    "\n",
    "Here's the systematic strategy we'll apply for solving problems:\n",
    "\n",
    "1. State the problem clearly. Identify the input & output formats.\n",
    "2. Come up with some example inputs & outputs. Try to cover all edge cases.\n",
    "3. Come up with a correct solution for the problem. State it in plain English.\n",
    "4. Implement the solution and test it using example inputs. Fix bugs, if any.\n",
    "5. Analyze the algorithm's complexity and identify inefficiencies, if any.\n",
    "6. Apply the right technique to overcome the inefficiency. Repeat steps 3 to 6.\n",
    "\n",
    "This approach is explained in detail in [Lesson 1](https://jovian.ai/learn/data-structures-and-algorithms-in-python/lesson/lesson-1-binary-search-linked-lists-and-complexity) of the course. Let's apply this approach step-by-step."
   ]
  },
  {
   "cell_type": "markdown",
   "metadata": {},
   "source": [
    "## Solution\n",
    "\n",
    "\n",
    "### 1. State the problem clearly. Identify the input & output formats.\n",
    "\n",
    "While this problem is stated clearly enough, it's always useful to try and express in your own words, in a way that makes it most clear for you. \n",
    "\n",
    "\n",
    "**Problem**\n",
    "\n",
    "> **Given the head of a unsorted linked lists, return the linked list sorted in ascending order.**\n",
    "\n",
    "<br/>\n",
    "\n",
    "\n",
    "**Input**\n",
    "\n",
    "1. **( -1 ) &rarr; ( 5 ) &rarr; ( 3 ) &rarr; ( 4 ) &rarr; ( 0 )**\n",
    "\n",
    "**Output**\n",
    "\n",
    "1. **( -1 ) &rarr; ( 0 ) &rarr; ( 3 ) &rarr; ( 4 ) &rarr; ( 5 )**\n",
    "\n",
    "<br/>\n",
    "\n",
    "Based on the above, we can now create a signature of our function:"
   ]
  },
  {
   "cell_type": "code",
   "execution_count": 5,
   "metadata": {},
   "outputs": [],
   "source": [
    "# Create a function signature here. The body of the function can contain a single statement: pass\n",
    "def linksort(list1):\n",
    "    pass"
   ]
  },
  {
   "cell_type": "markdown",
   "metadata": {},
   "source": [
    "Save and upload your work before continuing."
   ]
  },
  {
   "cell_type": "code",
   "execution_count": 6,
   "metadata": {},
   "outputs": [],
   "source": [
    "import jovian"
   ]
  },
  {
   "cell_type": "code",
   "execution_count": 7,
   "metadata": {},
   "outputs": [
    {
     "data": {
      "application/javascript": "window.require && require([\"base/js/namespace\"],function(Jupyter){Jupyter.notebook.save_checkpoint()})",
      "text/plain": [
       "<IPython.core.display.Javascript object>"
      ]
     },
     "metadata": {},
     "output_type": "display_data"
    },
    {
     "name": "stdout",
     "output_type": "stream",
     "text": [
      "[jovian] Updating notebook \"js010582/dsa-sort-list\" on https://jovian.ai/\u001b[0m\n",
      "[jovian] Committed successfully! https://jovian.ai/js010582/dsa-sort-list\u001b[0m\n"
     ]
    },
    {
     "data": {
      "text/plain": [
       "'https://jovian.ai/js010582/dsa-sort-list'"
      ]
     },
     "execution_count": 7,
     "metadata": {},
     "output_type": "execute_result"
    }
   ],
   "source": [
    "jovian.commit(filename=filename, project=project_name)"
   ]
  },
  {
   "cell_type": "markdown",
   "metadata": {},
   "source": [
    "### 2. Come up with some example inputs & outputs. Try to cover all edge cases.\n",
    "\n",
    "Our function should be able to handle any set of valid inputs we pass into it. Here's a list of some possible variations we might encounter:\n",
    "\n",
    "1. **( -1 ) &rarr; ( 5 ) &rarr; ( 3 ) &rarr; ( 4 ) &rarr; ( 0 )**\n",
    "2. **( 10 ) &rarr; ( 20 ) &rarr; ( 30 ) &rarr; ( 40 ) &rarr; ( 50 )**\n",
    "3. **( 5 ) &rarr; ( 4 ) &rarr; ( 3 ) &rarr; ( 2 ) &rarr; ( 1 )**\n",
    "4. **( -1 )**\n",
    "5. **( 0 ) &rarr; ( 0 ) &rarr; ( 0 )**\n",
    "\n",
    "(add more if required)\n",
    "\n",
    "\n",
    "We'll express our test cases as dictionaries, to test them easily. Each dictionary will contain 2 keys: `input` (a dictionary itself containing one key for each argument to the function and `output` (the expected result from the function). "
   ]
  },
  {
   "cell_type": "code",
   "execution_count": 9,
   "id": "a4528ecb",
   "metadata": {},
   "outputs": [],
   "source": [
    "test1 = {\n",
    "    'input': [-1, 5, 3, 4, 0],\n",
    "    'output': [-1, 0, 3, 4, 5]\n",
    "}"
   ]
  },
  {
   "cell_type": "code",
   "execution_count": 10,
   "metadata": {},
   "outputs": [],
   "source": [
    "test2 = {\n",
    "    'input': [10, 20, 30, 40, 50],\n",
    "    'output': [10, 20, 30, 40, 50]\n",
    "}"
   ]
  },
  {
   "cell_type": "code",
   "execution_count": 11,
   "id": "fb2a4d85",
   "metadata": {},
   "outputs": [],
   "source": [
    "test3 = {\n",
    "    'input': [5, 4, 3, 2, 1],\n",
    "    'output': [1, 2, 3, 4, 5]\n",
    "}"
   ]
  },
  {
   "cell_type": "code",
   "execution_count": 12,
   "id": "53a13bc3",
   "metadata": {},
   "outputs": [],
   "source": [
    "test4 = {\n",
    "    'input': [-1],\n",
    "    'output': [-1]\n",
    "}"
   ]
  },
  {
   "cell_type": "code",
   "execution_count": 13,
   "id": "3d5f1aa6",
   "metadata": {},
   "outputs": [],
   "source": [
    "test5 = {\n",
    "    'input': [0, 0, 0],\n",
    "    'output': [0, 0, 0]\n",
    "}"
   ]
  },
  {
   "cell_type": "markdown",
   "metadata": {},
   "source": [
    "Create one test case for each of the scenarios listed above. We'll store our test cases in an array called `tests`."
   ]
  },
  {
   "cell_type": "code",
   "execution_count": 14,
   "metadata": {},
   "outputs": [],
   "source": [
    "tests = [test1,test2,test3,test4,test5]"
   ]
  },
  {
   "cell_type": "markdown",
   "metadata": {},
   "source": [
    "### 3. Come up with a correct solution for the problem. State it in plain English.\n",
    "\n",
    "Our first goal should always be to come up with a _correct_ solution to the problem, which may not necessarily be the most _efficient_ solution. Come with a correct solution and explain it in simple words below:\n",
    "\n",
    "1. **Given a link list, we'll traverse through starting from the head node and find the node with the lowest value**\n",
    "2. **Node with lowest value will be inserted to the head of the new link list.**\n",
    "3. **The node just inserted into the new link list will be deleted from the previously searched link list**\n",
    "4. **Steps 1 - 3 will be repeated until no values exist in the given link list**\n",
    "5. **Sorted link list is complete and will return the head of the first node of the sorted link list**\n",
    "\n",
    "(add more steps if required)\n",
    "\n",
    "\n",
    "Let's save and upload our work before continuing.\n",
    "\n",
    "\n"
   ]
  },
  {
   "cell_type": "code",
   "execution_count": 15,
   "metadata": {},
   "outputs": [
    {
     "data": {
      "application/javascript": "window.require && require([\"base/js/namespace\"],function(Jupyter){Jupyter.notebook.save_checkpoint()})",
      "text/plain": [
       "<IPython.core.display.Javascript object>"
      ]
     },
     "metadata": {},
     "output_type": "display_data"
    },
    {
     "name": "stdout",
     "output_type": "stream",
     "text": [
      "[jovian] Updating notebook \"js010582/dsa-sort-list\" on https://jovian.ai/\u001b[0m\n",
      "[jovian] Committed successfully! https://jovian.ai/js010582/dsa-sort-list\u001b[0m\n"
     ]
    },
    {
     "data": {
      "text/plain": [
       "'https://jovian.ai/js010582/dsa-sort-list'"
      ]
     },
     "execution_count": 15,
     "metadata": {},
     "output_type": "execute_result"
    }
   ],
   "source": [
    "jovian.commit(filename=filename, project=project_name)"
   ]
  },
  {
   "cell_type": "markdown",
   "metadata": {},
   "source": [
    "###  4. Implement the solution and test it using example inputs. Fix bugs, if any."
   ]
  },
  {
   "cell_type": "code",
   "execution_count": 38,
   "metadata": {},
   "outputs": [],
   "source": [
    "#Need a helper function to convert array of integers into a linked list\n",
    "class linkNode:\n",
    "    def __init__(self, val = None):\n",
    "        self.val = val\n",
    "        self.next = None\n",
    "\n",
    "class linkList:\n",
    "    def __init__(self):\n",
    "        self.head = None\n",
    "\n",
    "    def add(self,input):\n",
    "        newnode = linkNode() #creates new node\n",
    "        newnode.val = input #saves input variable into new node\n",
    "        newnode.next = self.head #linkes previous head to next pointer on new node\n",
    "        self.head = newnode #sets the newly created node to be the new head of list\n",
    "    \n",
    "    def show(self):\n",
    "        node = self.head\n",
    "        while node:\n",
    "            print(node.val)\n",
    "            node = node.next\n",
    "    \n",
    "    def deletenode(self,node):\n",
    "        node.val = node.next.val\n",
    "        node.next = node.next.next\n",
    "\n",
    "    #Returns link list as an array\n",
    "    def linklistarray(self,heada):\n",
    "        returnarray = []\n",
    "        while heada:\n",
    "            returnarray.append(heada.val)\n",
    "            heada = heada.next\n",
    "        return returnarray\n",
    "    \n",
    "    #Adds a list of values to link list\n",
    "    def listadd(self, arraylist):\n",
    "        length = len(arraylist) #length of list\n",
    "        for count in range(length-1,-1,-1): #iterate from end of array to begining\n",
    "            self.add(arraylist[count])\n",
    "    \n",
    "\n",
    "\n"
   ]
  },
  {
   "cell_type": "code",
   "execution_count": 43,
   "id": "d5351d63",
   "metadata": {},
   "outputs": [],
   "source": [
    "# class linkNode:\n",
    "#     def __init__(self, val = None):\n",
    "#         self.val = val\n",
    "#         self.next = None\n",
    "\n",
    "def linksort(linklist):\n",
    "\n",
    "    sorted = linkNode() #Sorted link list that will be returned\n",
    "    temphead = linkNode() #Create temp node to point to input link list\n",
    "    temphead.next = linklist\n",
    "    \n",
    "    lowest = linkNode() #store lowest value before passing it to sorted\n",
    "    lowest = temphead.next #initially setting lowest\n",
    "\n",
    "    #Sort through link list until empty\n",
    "    print(temphead.next.val)\n",
    "    \n",
    "    while temphead.next != None:\n",
    "        \n",
    "        lowest = temphead\n",
    "        temphead = temphead.next\n",
    "\n",
    "        while temphead:\n",
    "            print(f\"comparing {temphead.val} and {lowest.val}\")\n",
    "            if temphead.val < lowest.val:\n",
    "                print(f\"Swapped lowest to \")\n",
    "                lowest = temphead\n",
    "\n",
    "            temphead = temphead.next\n",
    "        \n",
    "        print(f\"Inserting {lowest.val}\")\n",
    "        sorted.next = lowest\n",
    "    \n",
    "    return sorted.next"
   ]
  },
  {
   "cell_type": "code",
   "execution_count": 44,
   "metadata": {},
   "outputs": [
    {
     "name": "stdout",
     "output_type": "stream",
     "text": [
      "6\n",
      "comparing 6 and -6\n",
      "comparing 6 and -6\n",
      "comparing 5 and -6\n",
      "comparing 3 and -6\n",
      "Inserting -6\n"
     ]
    },
    {
     "ename": "AttributeError",
     "evalue": "'NoneType' object has no attribute 'next'",
     "output_type": "error",
     "traceback": [
      "\u001b[0;31m---------------------------------------------------------------------------\u001b[0m",
      "\u001b[0;31mAttributeError\u001b[0m                            Traceback (most recent call last)",
      "\u001b[1;32m/home/js010582/git_workspaces/Python_Playground/Jovian_DSA/wk5_project_python-problem-solving-template.ipynb Cell 26'\u001b[0m in \u001b[0;36m<cell line: 8>\u001b[0;34m()\u001b[0m\n\u001b[1;32m      <a href='vscode-notebook-cell:/home/js010582/git_workspaces/Python_Playground/Jovian_DSA/wk5_project_python-problem-solving-template.ipynb#ch0000024?line=4'>5</a>\u001b[0m solver1\u001b[39m.\u001b[39mlistadd(list1)\n\u001b[1;32m      <a href='vscode-notebook-cell:/home/js010582/git_workspaces/Python_Playground/Jovian_DSA/wk5_project_python-problem-solving-template.ipynb#ch0000024?line=5'>6</a>\u001b[0m \u001b[39m# solver1.show()\u001b[39;00m\n\u001b[0;32m----> <a href='vscode-notebook-cell:/home/js010582/git_workspaces/Python_Playground/Jovian_DSA/wk5_project_python-problem-solving-template.ipynb#ch0000024?line=7'>8</a>\u001b[0m linksort(solver1\u001b[39m.\u001b[39;49mhead)\n",
      "\u001b[1;32m/home/js010582/git_workspaces/Python_Playground/Jovian_DSA/wk5_project_python-problem-solving-template.ipynb Cell 25'\u001b[0m in \u001b[0;36mlinksort\u001b[0;34m(heada)\u001b[0m\n\u001b[1;32m     <a href='vscode-notebook-cell:/home/js010582/git_workspaces/Python_Playground/Jovian_DSA/wk5_project_python-problem-solving-template.ipynb#ch0000062?line=13'>14</a>\u001b[0m \u001b[39m#Sort through link list until empty\u001b[39;00m\n\u001b[1;32m     <a href='vscode-notebook-cell:/home/js010582/git_workspaces/Python_Playground/Jovian_DSA/wk5_project_python-problem-solving-template.ipynb#ch0000062?line=14'>15</a>\u001b[0m \u001b[39mprint\u001b[39m(temphead\u001b[39m.\u001b[39mnext\u001b[39m.\u001b[39mval)\n\u001b[0;32m---> <a href='vscode-notebook-cell:/home/js010582/git_workspaces/Python_Playground/Jovian_DSA/wk5_project_python-problem-solving-template.ipynb#ch0000062?line=16'>17</a>\u001b[0m \u001b[39mwhile\u001b[39;00m temphead\u001b[39m.\u001b[39;49mnext \u001b[39m!=\u001b[39m \u001b[39mNone\u001b[39;00m:\n\u001b[1;32m     <a href='vscode-notebook-cell:/home/js010582/git_workspaces/Python_Playground/Jovian_DSA/wk5_project_python-problem-solving-template.ipynb#ch0000062?line=18'>19</a>\u001b[0m     lowest \u001b[39m=\u001b[39m temphead\n\u001b[1;32m     <a href='vscode-notebook-cell:/home/js010582/git_workspaces/Python_Playground/Jovian_DSA/wk5_project_python-problem-solving-template.ipynb#ch0000062?line=19'>20</a>\u001b[0m     temphead \u001b[39m=\u001b[39m temphead\u001b[39m.\u001b[39mnext\n",
      "\u001b[0;31mAttributeError\u001b[0m: 'NoneType' object has no attribute 'next'"
     ]
    }
   ],
   "source": [
    "\n",
    "list1 = [-6, 6, 6, 5, 3,]\n",
    "solver1 = linkList()\n",
    "\n",
    "#insert list1 into our linklist\n",
    "solver1.listadd(list1)\n",
    "# solver1.show()\n",
    "\n",
    "linksort(solver1.head)"
   ]
  },
  {
   "cell_type": "code",
   "execution_count": null,
   "metadata": {},
   "outputs": [],
   "source": [
    "item,car = 1,2"
   ]
  },
  {
   "cell_type": "code",
   "execution_count": null,
   "metadata": {},
   "outputs": [],
   "source": []
  },
  {
   "cell_type": "markdown",
   "metadata": {},
   "source": [
    "We can test the function by passing the input to it directly or by using the `evaluate_test_case` function from `jovian`."
   ]
  },
  {
   "cell_type": "code",
   "execution_count": null,
   "metadata": {},
   "outputs": [],
   "source": [
    "from jovian.pythondsa import evaluate_test_case"
   ]
  },
  {
   "cell_type": "code",
   "execution_count": null,
   "metadata": {},
   "outputs": [
    {
     "ename": "SyntaxError",
     "evalue": "invalid syntax (3241858382.py, line 1)",
     "output_type": "error",
     "traceback": [
      "\u001b[1;36m  File \u001b[1;32m\"C:\\Users\\js010582\\AppData\\Local\\Temp\\ipykernel_14968\\3241858382.py\"\u001b[1;36m, line \u001b[1;32m1\u001b[0m\n\u001b[1;33m    evaluate_test_case(???)\u001b[0m\n\u001b[1;37m                       ^\u001b[0m\n\u001b[1;31mSyntaxError\u001b[0m\u001b[1;31m:\u001b[0m invalid syntax\n"
     ]
    }
   ],
   "source": [
    "evaluate_test_case(???)"
   ]
  },
  {
   "cell_type": "markdown",
   "metadata": {},
   "source": [
    "Evaluate your function against all the test cases together using the `evaluate_test_cases` (plural) function from `jovian`."
   ]
  },
  {
   "cell_type": "code",
   "execution_count": null,
   "metadata": {},
   "outputs": [],
   "source": [
    "from jovian.pythondsa import evaluate_test_cases"
   ]
  },
  {
   "cell_type": "code",
   "execution_count": null,
   "metadata": {},
   "outputs": [],
   "source": [
    "evaluate_test_cases(???)"
   ]
  },
  {
   "cell_type": "markdown",
   "metadata": {},
   "source": [
    "Verify that all the test cases were evaluated. We expect them all to fail, since we haven't implemented the function yet.\n",
    "\n",
    "Let's save our work before continuing."
   ]
  },
  {
   "cell_type": "code",
   "execution_count": null,
   "metadata": {},
   "outputs": [],
   "source": [
    "jovian.commit()"
   ]
  },
  {
   "cell_type": "code",
   "execution_count": null,
   "metadata": {},
   "outputs": [],
   "source": []
  },
  {
   "cell_type": "markdown",
   "metadata": {},
   "source": [
    "### 5. Analyze the algorithm's complexity and identify inefficiencies, if any."
   ]
  },
  {
   "cell_type": "code",
   "execution_count": null,
   "metadata": {},
   "outputs": [],
   "source": []
  },
  {
   "cell_type": "code",
   "execution_count": null,
   "metadata": {},
   "outputs": [],
   "source": []
  },
  {
   "cell_type": "code",
   "execution_count": null,
   "metadata": {},
   "outputs": [],
   "source": []
  },
  {
   "cell_type": "code",
   "execution_count": null,
   "metadata": {},
   "outputs": [],
   "source": [
    "jovian.commit()"
   ]
  },
  {
   "cell_type": "markdown",
   "metadata": {},
   "source": [
    "### 6. Apply the right technique to overcome the inefficiency. Repeat steps 3 to 6."
   ]
  },
  {
   "cell_type": "code",
   "execution_count": null,
   "metadata": {},
   "outputs": [],
   "source": []
  },
  {
   "cell_type": "code",
   "execution_count": null,
   "metadata": {},
   "outputs": [],
   "source": []
  },
  {
   "cell_type": "code",
   "execution_count": null,
   "metadata": {},
   "outputs": [],
   "source": [
    "jovian.commit()"
   ]
  },
  {
   "cell_type": "markdown",
   "metadata": {},
   "source": [
    "### 7. Come up with a correct solution for the problem. State it in plain English.\n",
    "\n",
    "Come with the optimized correct solution and explain it in simple words below:\n",
    "\n",
    "1. **???**\n",
    "2. **???**\n",
    "3. **???**\n",
    "4. **???**\n",
    "5. **???**\n",
    "\n",
    "(add more steps if required)\n",
    "\n",
    "\n",
    "Let's save and upload our work before continuing.\n",
    "\n"
   ]
  },
  {
   "cell_type": "code",
   "execution_count": null,
   "metadata": {},
   "outputs": [],
   "source": [
    "jovian.commit()"
   ]
  },
  {
   "cell_type": "code",
   "execution_count": null,
   "metadata": {},
   "outputs": [],
   "source": []
  },
  {
   "cell_type": "code",
   "execution_count": null,
   "metadata": {},
   "outputs": [],
   "source": []
  },
  {
   "cell_type": "code",
   "execution_count": null,
   "metadata": {},
   "outputs": [],
   "source": []
  },
  {
   "cell_type": "markdown",
   "metadata": {},
   "source": [
    "### 8. Implement the solution and test it using example inputs. Fix bugs, if any."
   ]
  },
  {
   "cell_type": "code",
   "execution_count": null,
   "metadata": {},
   "outputs": [],
   "source": []
  },
  {
   "cell_type": "code",
   "execution_count": null,
   "metadata": {},
   "outputs": [],
   "source": []
  },
  {
   "cell_type": "code",
   "execution_count": null,
   "metadata": {},
   "outputs": [],
   "source": []
  },
  {
   "cell_type": "code",
   "execution_count": null,
   "metadata": {},
   "outputs": [],
   "source": []
  },
  {
   "cell_type": "markdown",
   "metadata": {},
   "source": [
    "### 9. Analyze the algorithm's complexity and identify inefficiencies, if any."
   ]
  },
  {
   "cell_type": "code",
   "execution_count": null,
   "metadata": {},
   "outputs": [],
   "source": []
  },
  {
   "cell_type": "code",
   "execution_count": null,
   "metadata": {},
   "outputs": [],
   "source": []
  },
  {
   "cell_type": "code",
   "execution_count": null,
   "metadata": {},
   "outputs": [],
   "source": []
  },
  {
   "cell_type": "markdown",
   "metadata": {},
   "source": [
    "If you found the problem on an external platform, you can make a submission to test your solution.\n",
    "\n",
    "Share your approach and start a discussion on the Jovian forum: https://jovian.ai/forum/c/data-structures-and-algorithms-in-python/78"
   ]
  },
  {
   "cell_type": "code",
   "execution_count": null,
   "metadata": {},
   "outputs": [],
   "source": [
    "jovian.commit()"
   ]
  },
  {
   "cell_type": "code",
   "execution_count": null,
   "metadata": {},
   "outputs": [],
   "source": []
  }
 ],
 "metadata": {
  "kernelspec": {
   "display_name": "Python 3.10.4 64-bit",
   "language": "python",
   "name": "python3"
  },
  "language_info": {
   "codemirror_mode": {
    "name": "ipython",
    "version": 3
   },
   "file_extension": ".py",
   "mimetype": "text/x-python",
   "name": "python",
   "nbconvert_exporter": "python",
   "pygments_lexer": "ipython3",
   "version": "3.10.4"
  },
  "vscode": {
   "interpreter": {
    "hash": "916dbcbb3f70747c44a77c7bcd40155683ae19c65e1c03b4aa3499c5328201f1"
   }
  }
 },
 "nbformat": 4,
 "nbformat_minor": 5
}
