{
 "cells": [
  {
   "cell_type": "markdown",
   "id": "1a1140ec",
   "metadata": {},
   "source": [
    "# LINKED LIST SORTING IN AN ASCENDING ORDER"
   ]
  },
  {
   "cell_type": "code",
   "execution_count": 1,
   "id": "f24581b1",
   "metadata": {},
   "outputs": [],
   "source": [
    "filename = 'wk5_project_python-problem-solving-template.ipynb'\n",
    "project_name = 'DSA_Sort_List' # give it an appropriate name"
   ]
  },
  {
   "cell_type": "code",
   "execution_count": 2,
   "id": "1f3ad60a",
   "metadata": {},
   "outputs": [],
   "source": [
    "!pip install jovian --upgrade --quiet"
   ]
  },
  {
   "cell_type": "code",
   "execution_count": 3,
   "id": "e2e82397",
   "metadata": {},
   "outputs": [
    {
     "data": {
      "application/javascript": "if (window.IPython && IPython.notebook.kernel) IPython.notebook.kernel.execute('jovian.utils.jupyter.get_notebook_name_saved = lambda: \"' + IPython.notebook.notebook_name + '\"')",
      "text/plain": [
       "<IPython.core.display.Javascript object>"
      ]
     },
     "metadata": {},
     "output_type": "display_data"
    }
   ],
   "source": [
    "import jovian"
   ]
  },
  {
   "cell_type": "code",
   "execution_count": 4,
   "id": "db32da2a",
   "metadata": {},
   "outputs": [
    {
     "data": {
      "application/javascript": "window.require && require([\"base/js/namespace\"],function(Jupyter){Jupyter.notebook.save_checkpoint()})",
      "text/plain": [
       "<IPython.core.display.Javascript object>"
      ]
     },
     "metadata": {},
     "output_type": "display_data"
    },
    {
     "name": "stdout",
     "output_type": "stream",
     "text": [
      "[jovian] Updating notebook \"js010582/dsa-sort-list\" on https://jovian.ai/\u001b[0m\n",
      "[jovian] Committed successfully! https://jovian.ai/js010582/dsa-sort-list\u001b[0m\n"
     ]
    },
    {
     "data": {
      "text/plain": [
       "'https://jovian.ai/js010582/dsa-sort-list'"
      ]
     },
     "execution_count": 4,
     "metadata": {},
     "output_type": "execute_result"
    }
   ],
   "source": [
    "jovian.commit(filename=filename, project=project_name)"
   ]
  },
  {
   "cell_type": "markdown",
   "id": "f60ea7b5",
   "metadata": {},
   "source": [
    "## Problem Statement\n",
    "\n",
    "\n",
    "> Given the head of a linked list, return the list after sorting it in ascending order.\n",
    "\n",
    "\n",
    "Source: https://leetcode.com/problems/sort-list/"
   ]
  },
  {
   "cell_type": "markdown",
   "id": "b06e68b9",
   "metadata": {},
   "source": [
    "## The Method\n",
    "\n",
    "Here's the systematic strategy we'll apply for solving problems:\n",
    "\n",
    "1. State the problem clearly. Identify the input & output formats.\n",
    "2. Come up with some example inputs & outputs. Try to cover all edge cases.\n",
    "3. Come up with a correct solution for the problem. State it in plain English.\n",
    "4. Implement the solution and test it using example inputs. Fix bugs, if any.\n",
    "5. Analyze the algorithm's complexity and identify inefficiencies, if any.\n",
    "6. Apply the right technique to overcome the inefficiency. Repeat steps 3 to 6.\n",
    "\n",
    "This approach is explained in detail in [Lesson 1](https://jovian.ai/learn/data-structures-and-algorithms-in-python/lesson/lesson-1-binary-search-linked-lists-and-complexity) of the course. Let's apply this approach step-by-step."
   ]
  },
  {
   "cell_type": "markdown",
   "id": "4ded738a",
   "metadata": {},
   "source": [
    "## Solution\n",
    "\n",
    "\n",
    "### 1. State the problem clearly. Identify the input & output formats.\n",
    "\n",
    "While this problem is stated clearly enough, it's always useful to try and express in your own words, in a way that makes it most clear for you. \n",
    "\n",
    "\n",
    "**Problem**\n",
    "\n",
    "> **Given the head of a unsorted linked lists, return the linked list sorted in ascending order.**\n",
    "\n",
    "<br/>\n",
    "\n",
    "\n",
    "**Input**\n",
    "\n",
    "1. **( -1 ) &rarr; ( 5 ) &rarr; ( 3 ) &rarr; ( 4 ) &rarr; ( 0 )**\n",
    "\n",
    "**Output**\n",
    "\n",
    "1. **( -1 ) &rarr; ( 0 ) &rarr; ( 3 ) &rarr; ( 4 ) &rarr; ( 5 )**\n",
    "\n",
    "<br/>\n",
    "\n",
    "Based on the above, we can now create a signature of our function:"
   ]
  },
  {
   "cell_type": "code",
   "execution_count": 5,
   "id": "bd9514f7",
   "metadata": {},
   "outputs": [],
   "source": [
    "# Create a function signature here. The body of the function can contain a single statement: pass\n",
    "def linksort(list1):\n",
    "    pass"
   ]
  },
  {
   "cell_type": "markdown",
   "id": "0cf92bfb",
   "metadata": {},
   "source": [
    "Save and upload your work before continuing."
   ]
  },
  {
   "cell_type": "code",
   "execution_count": 6,
   "id": "1e674936",
   "metadata": {},
   "outputs": [],
   "source": [
    "import jovian"
   ]
  },
  {
   "cell_type": "code",
   "execution_count": 35,
   "id": "1f7afccb",
   "metadata": {},
   "outputs": [
    {
     "data": {
      "application/javascript": "window.require && require([\"base/js/namespace\"],function(Jupyter){Jupyter.notebook.save_checkpoint()})",
      "text/plain": [
       "<IPython.core.display.Javascript object>"
      ]
     },
     "metadata": {},
     "output_type": "display_data"
    },
    {
     "name": "stdout",
     "output_type": "stream",
     "text": [
      "[jovian] Updating notebook \"js010582/dsa-sort-list\" on https://jovian.ai/\u001b[0m\n",
      "[jovian] Committed successfully! https://jovian.ai/js010582/dsa-sort-list\u001b[0m\n"
     ]
    },
    {
     "data": {
      "text/plain": [
       "'https://jovian.ai/js010582/dsa-sort-list'"
      ]
     },
     "execution_count": 35,
     "metadata": {},
     "output_type": "execute_result"
    }
   ],
   "source": [
    "jovian.commit(filename=filename, project=project_name)"
   ]
  },
  {
   "cell_type": "markdown",
   "id": "b1bf41a6",
   "metadata": {},
   "source": [
    "### 2. Come up with some example inputs & outputs. Try to cover all edge cases.\n",
    "\n",
    "Our function should be able to handle any set of valid inputs we pass into it. Here's a list of some possible variations we might encounter:\n",
    "\n",
    "1. **( -1 ) &rarr; ( 5 ) &rarr; ( 3 ) &rarr; ( 4 ) &rarr; ( 0 )**\n",
    "2. **( 10 ) &rarr; ( 20 ) &rarr; ( 30 ) &rarr; ( 40 ) &rarr; ( 50 ) &rarr; ( 60 )**\n",
    "3. **( 5 ) &rarr; ( 4 ) &rarr; ( 3 ) &rarr; ( 2 ) &rarr; ( 1 )**\n",
    "4. **( -1 )**\n",
    "5. **( 0 ) &rarr; ( 0 ) &rarr; ( 0 )**\n",
    "\n",
    "(add more if required)\n",
    "\n",
    "\n",
    "We'll express our test cases as dictionaries, to test them easily. Each dictionary will contain 2 keys: `input` (a dictionary itself containing one key for each argument to the function and `output` (the expected result from the function). "
   ]
  },
  {
   "cell_type": "code",
   "execution_count": 8,
   "id": "a4528ecb",
   "metadata": {},
   "outputs": [],
   "source": [
    "test1 = {\n",
    "    'input': [-1, 5, 3, 4, 0],\n",
    "    'output': [-1, 0, 3, 4, 5]\n",
    "}"
   ]
  },
  {
   "cell_type": "code",
   "execution_count": 9,
   "id": "79b9f4d7",
   "metadata": {},
   "outputs": [],
   "source": [
    "test2 = {\n",
    "    'input': [10, 20, 30, 40, 50, 60],\n",
    "    'output': [10, 20, 30, 40, 50, 60]\n",
    "}"
   ]
  },
  {
   "cell_type": "code",
   "execution_count": 10,
   "id": "fb2a4d85",
   "metadata": {},
   "outputs": [],
   "source": [
    "test3 = {\n",
    "    'input': [5, 4, 3, 2, 1],\n",
    "    'output': [1, 2, 3, 4, 5]\n",
    "}"
   ]
  },
  {
   "cell_type": "code",
   "execution_count": 11,
   "id": "53a13bc3",
   "metadata": {},
   "outputs": [],
   "source": [
    "test4 = {\n",
    "    'input': [-1],\n",
    "    'output': [-1]\n",
    "}"
   ]
  },
  {
   "cell_type": "code",
   "execution_count": 12,
   "id": "3d5f1aa6",
   "metadata": {},
   "outputs": [],
   "source": [
    "test5 = {\n",
    "    'input': [0, 0, 0],\n",
    "    'output': [0, 0, 0]\n",
    "}"
   ]
  },
  {
   "cell_type": "markdown",
   "id": "7bb01bff",
   "metadata": {},
   "source": [
    "Create one test case for each of the scenarios listed above. We'll store our test cases in an array called `tests`."
   ]
  },
  {
   "cell_type": "code",
   "execution_count": 13,
   "id": "3c9aa4ee",
   "metadata": {},
   "outputs": [],
   "source": [
    "tests = [test1,test2,test3,test4,test5]"
   ]
  },
  {
   "cell_type": "markdown",
   "id": "b76c0e67",
   "metadata": {},
   "source": [
    "### 3. Come up with a correct solution for the problem. State it in plain English.\n",
    "\n",
    "Our first goal should always be to come up with a _correct_ solution to the problem, which may not necessarily be the most _efficient_ solution. Come with a correct solution and explain it in simple words below:\n",
    "\n",
    "1. **Given a link list, we'll traverse through the linked list and store the elements into an array**\n",
    "2. **The array will go through a bubble sort in order of ascending values**\n",
    "3. **The newly sorted array will be converted into a new sorted linked list**\n",
    "4. **Sorted link list is complete and will return the head of the sorted link list**\n",
    "\n",
    "(add more steps if required)\n",
    "\n",
    "\n",
    "Let's save and upload our work before continuing.\n",
    "\n",
    "\n"
   ]
  },
  {
   "cell_type": "code",
   "execution_count": 14,
   "id": "ebcedc87",
   "metadata": {},
   "outputs": [
    {
     "data": {
      "application/javascript": "window.require && require([\"base/js/namespace\"],function(Jupyter){Jupyter.notebook.save_checkpoint()})",
      "text/plain": [
       "<IPython.core.display.Javascript object>"
      ]
     },
     "metadata": {},
     "output_type": "display_data"
    },
    {
     "name": "stdout",
     "output_type": "stream",
     "text": [
      "[jovian] Updating notebook \"js010582/dsa-sort-list\" on https://jovian.ai/\u001b[0m\n",
      "[jovian] Committed successfully! https://jovian.ai/js010582/dsa-sort-list\u001b[0m\n"
     ]
    },
    {
     "data": {
      "text/plain": [
       "'https://jovian.ai/js010582/dsa-sort-list'"
      ]
     },
     "execution_count": 14,
     "metadata": {},
     "output_type": "execute_result"
    }
   ],
   "source": [
    "jovian.commit(filename=filename, project=project_name)"
   ]
  },
  {
   "cell_type": "markdown",
   "id": "78259500",
   "metadata": {},
   "source": [
    "###  4. Implement the solution and test it using example inputs. Fix bugs, if any."
   ]
  },
  {
   "cell_type": "code",
   "execution_count": 15,
   "id": "fe433641",
   "metadata": {},
   "outputs": [],
   "source": [
    "#Need a helper function to convert array of integers into a linked list\n",
    "class linkNode:\n",
    "    def __init__(self, val = None):\n",
    "        self.val = val\n",
    "        self.next = None\n",
    "\n",
    "class linkList:\n",
    "    def __init__(self):\n",
    "        self.head = None\n",
    "\n",
    "    def add(self,input):\n",
    "        newnode = linkNode() #creates new node\n",
    "        newnode.val = input #saves input variable into new node\n",
    "        newnode.next = self.head #linkes previous head to next pointer on new node\n",
    "        self.head = newnode #sets the newly created node to be the new head of list\n",
    "    \n",
    "    def show(self):\n",
    "        node = self.head\n",
    "        while node:\n",
    "            print(node.val)\n",
    "            node = node.next\n",
    "    \n",
    "    def deletenode(self,node):\n",
    "        node.val = node.next.val\n",
    "        node.next = node.next.next\n",
    "\n",
    "    #Returns link list as an array\n",
    "    def linklistarray(self,heada):\n",
    "        returnarray = []\n",
    "        while heada:\n",
    "            returnarray.append(heada.val)\n",
    "            heada = heada.next\n",
    "        return returnarray\n",
    "    \n",
    "    #Adds a list of values to link list\n",
    "    def listadd(self, heada):\n",
    "        length = len(heada) #length of list\n",
    "        for count in range(length-1,-1,-1): #iterate from end of array to begining\n",
    "            self.add(heada[count])\n",
    "    \n",
    "    def linksort(self):\n",
    "        node = self.head\n",
    "\n",
    "        #Store unsorted linked list\n",
    "        unsorted = []\n",
    "\n",
    "        #Convert link list to array\n",
    "        while node:\n",
    "            # print(f\"on value: {node.val}\")\n",
    "            unsorted.append(node.val)\n",
    "            node = node.next\n",
    "        \n",
    "        #bubble sort\n",
    "        length = len(unsorted)\n",
    "        # print(f\"Length: {length}\")\n",
    "\n",
    "        sorted = False\n",
    "        while sorted is False:\n",
    "            sorted = True\n",
    "            for count in range(0,length-1):\n",
    "                if (unsorted[count] > unsorted[count+1]):\n",
    "                    unsorted[count], unsorted[count+1] = unsorted[count+1], unsorted[count]\n",
    "                    sorted = False\n",
    "\n",
    "        return unsorted\n"
   ]
  },
  {
   "cell_type": "code",
   "execution_count": 16,
   "id": "607b186f",
   "metadata": {},
   "outputs": [
    {
     "name": "stdout",
     "output_type": "stream",
     "text": [
      "Input Array: [-1, 5, 3, 4, 0]\n",
      "Expected:     [-1, 0, 3, 4, 5]\n",
      "Output Array: [-1, 0, 3, 4, 5]\n"
     ]
    }
   ],
   "source": [
    "solver1 = linkList()\n",
    "list1 = test1['input']\n",
    "\n",
    "print(f\"Input Array: {list1}\")\n",
    "\n",
    "#insert list1 into our linklist\n",
    "solver1.listadd(list1)\n",
    "\n",
    "print(f\"Expected:     {test1['output']}\")\n",
    "print(f\"Output Array: {solver1.linksort()}\")\n",
    "\n",
    "# solver2 = linkList()"
   ]
  },
  {
   "cell_type": "code",
   "execution_count": 17,
   "id": "a269e718",
   "metadata": {},
   "outputs": [
    {
     "name": "stdout",
     "output_type": "stream",
     "text": [
      "Input Array: [10, 20, 30, 40, 50, 60]\n",
      "Expected:     [10, 20, 30, 40, 50, 60]\n",
      "Output Array: [10, 20, 30, 40, 50, 60]\n"
     ]
    }
   ],
   "source": [
    "solver1 = linkList()\n",
    "list1 = test2['input']\n",
    "\n",
    "print(f\"Input Array: {list1}\")\n",
    "\n",
    "#insert list1 into our linklist\n",
    "solver1.listadd(list1)\n",
    "\n",
    "print(f\"Expected:     {test2['output']}\")\n",
    "print(f\"Output Array: {solver1.linksort()}\")\n",
    "\n",
    "# solver2 = linkList()"
   ]
  },
  {
   "cell_type": "code",
   "execution_count": 18,
   "id": "4dee5428",
   "metadata": {},
   "outputs": [
    {
     "name": "stdout",
     "output_type": "stream",
     "text": [
      "Input Array: [5, 4, 3, 2, 1]\n",
      "Expected:     [1, 2, 3, 4, 5]\n",
      "Output Array: [1, 2, 3, 4, 5]\n"
     ]
    }
   ],
   "source": [
    "solver1 = linkList()\n",
    "list1 = test3['input']\n",
    "\n",
    "print(f\"Input Array: {list1}\")\n",
    "\n",
    "#insert list1 into our linklist\n",
    "solver1.listadd(list1)\n",
    "\n",
    "print(f\"Expected:     {test3['output']}\")\n",
    "print(f\"Output Array: {solver1.linksort()}\")\n",
    "\n",
    "# solver2 = linkList()"
   ]
  },
  {
   "cell_type": "code",
   "execution_count": 19,
   "id": "b871d9f9",
   "metadata": {},
   "outputs": [
    {
     "name": "stdout",
     "output_type": "stream",
     "text": [
      "Input Array: [-1]\n",
      "Expected:     [-1]\n",
      "Output Array: [-1]\n"
     ]
    }
   ],
   "source": [
    "solver1 = linkList()\n",
    "list1 = test4['input']\n",
    "\n",
    "print(f\"Input Array: {list1}\")\n",
    "\n",
    "#insert list1 into our linklist\n",
    "solver1.listadd(list1)\n",
    "\n",
    "print(f\"Expected:     {test4['output']}\")\n",
    "print(f\"Output Array: {solver1.linksort()}\")\n",
    "\n",
    "# solver2 = linkList()"
   ]
  },
  {
   "cell_type": "code",
   "execution_count": 20,
   "id": "fd33d1b7",
   "metadata": {},
   "outputs": [
    {
     "name": "stdout",
     "output_type": "stream",
     "text": [
      "Input Array: [0, 0, 0]\n",
      "Expected:     [0, 0, 0]\n",
      "Output Array: [0, 0, 0]\n"
     ]
    }
   ],
   "source": [
    "solver1 = linkList()\n",
    "list1 = test5['input']\n",
    "\n",
    "print(f\"Input Array: {list1}\")\n",
    "\n",
    "#insert list1 into our linklist\n",
    "solver1.listadd(list1)\n",
    "\n",
    "print(f\"Expected:     {test5['output']}\")\n",
    "print(f\"Output Array: {solver1.linksort()}\")\n",
    "\n",
    "# solver2 = linkList()"
   ]
  },
  {
   "cell_type": "markdown",
   "id": "2a2bccb1",
   "metadata": {},
   "source": [
    "We can test the function by passing the input to it directly or by using the `evaluate_test_case` function from `jovian`."
   ]
  },
  {
   "cell_type": "code",
   "execution_count": 21,
   "id": "ef9cc81a",
   "metadata": {},
   "outputs": [],
   "source": [
    "from jovian.pythondsa import evaluate_test_case"
   ]
  },
  {
   "cell_type": "code",
   "execution_count": 22,
   "id": "d07814a5",
   "metadata": {},
   "outputs": [],
   "source": [
    "# evaluate_test_case(???)"
   ]
  },
  {
   "cell_type": "markdown",
   "id": "2d57ffb4",
   "metadata": {},
   "source": [
    "Evaluate your function against all the test cases together using the `evaluate_test_cases` (plural) function from `jovian`."
   ]
  },
  {
   "cell_type": "code",
   "execution_count": 23,
   "id": "52a9cf5f",
   "metadata": {},
   "outputs": [],
   "source": [
    "from jovian.pythondsa import evaluate_test_cases"
   ]
  },
  {
   "cell_type": "code",
   "execution_count": 24,
   "id": "70a3403b",
   "metadata": {},
   "outputs": [],
   "source": [
    "# evaluate_test_cases(???)"
   ]
  },
  {
   "cell_type": "markdown",
   "id": "8d6e97d0",
   "metadata": {},
   "source": [
    "Verify that all the test cases were evaluated. We expect them all to fail, since we haven't implemented the function yet.\n",
    "\n",
    "Let's save our work before continuing."
   ]
  },
  {
   "cell_type": "code",
   "execution_count": 25,
   "id": "3a244321",
   "metadata": {},
   "outputs": [
    {
     "data": {
      "application/javascript": "window.require && require([\"base/js/namespace\"],function(Jupyter){Jupyter.notebook.save_checkpoint()})",
      "text/plain": [
       "<IPython.core.display.Javascript object>"
      ]
     },
     "metadata": {},
     "output_type": "display_data"
    },
    {
     "name": "stdout",
     "output_type": "stream",
     "text": [
      "[jovian] Updating notebook \"js010582/dsa-sort-list\" on https://jovian.ai/\u001b[0m\n",
      "[jovian] Committed successfully! https://jovian.ai/js010582/dsa-sort-list\u001b[0m\n"
     ]
    },
    {
     "data": {
      "text/plain": [
       "'https://jovian.ai/js010582/dsa-sort-list'"
      ]
     },
     "execution_count": 25,
     "metadata": {},
     "output_type": "execute_result"
    }
   ],
   "source": [
    "jovian.commit(filename=filename, project=project_name)"
   ]
  },
  {
   "cell_type": "markdown",
   "id": "d84e326d",
   "metadata": {},
   "source": [
    "### 5. Analyze the algorithm's complexity and identify inefficiencies, if any."
   ]
  },
  {
   "cell_type": "markdown",
   "id": "251daf01",
   "metadata": {},
   "source": [
    "Complexity is O(n) when converting to an array, then O(n^2) when performing the bubble sort, finally O(n) when converting it back to a link list.\n",
    "Resulting Time Complexity is O(n) + O(n^2) + O(n) = O(n^2). \n",
    "Space Complexity is O(n) because the link list is converted to an array then sorted in place before being returned.\n",
    "I personally did not have a lot of familiarity with linked lists but this initial brute force method was a catalyst to understand the limitations and methods to manipulating linked lists."
   ]
  },
  {
   "cell_type": "code",
   "execution_count": 26,
   "id": "2e4a403e",
   "metadata": {},
   "outputs": [
    {
     "data": {
      "application/javascript": "window.require && require([\"base/js/namespace\"],function(Jupyter){Jupyter.notebook.save_checkpoint()})",
      "text/plain": [
       "<IPython.core.display.Javascript object>"
      ]
     },
     "metadata": {},
     "output_type": "display_data"
    },
    {
     "name": "stdout",
     "output_type": "stream",
     "text": [
      "[jovian] Updating notebook \"js010582/dsa-sort-list\" on https://jovian.ai/\u001b[0m\n",
      "[jovian] Committed successfully! https://jovian.ai/js010582/dsa-sort-list\u001b[0m\n"
     ]
    },
    {
     "data": {
      "text/plain": [
       "'https://jovian.ai/js010582/dsa-sort-list'"
      ]
     },
     "execution_count": 26,
     "metadata": {},
     "output_type": "execute_result"
    }
   ],
   "source": [
    "jovian.commit(filename=filename, project=project_name)"
   ]
  },
  {
   "cell_type": "markdown",
   "id": "31aaf2b5",
   "metadata": {},
   "source": [
    "### 6. Apply the right technique to overcome the inefficiency. Repeat steps 3 to 6."
   ]
  },
  {
   "cell_type": "markdown",
   "id": "a8a33012",
   "metadata": {},
   "source": [
    "### 7. Come up with a correct solution for the problem. State it in plain English.\n",
    "\n",
    "### The 2nd Attempt will attempt to use a recursive merge sort method which will utilize the divide and conquer technique learned from previous weeks lecture.\n",
    "\n",
    "1. **A function will be created called linksort that will accept a single link list as an input.**\n",
    "2. **The link list will be split roughly in half and will call itself again until a link list is a single node.**\n",
    "3. **The merge function will come into play begining with creating a new head node. The node with the lowest value will be inserted first and then add the next node with the lowest value.**\n",
    "4. **Eventually we'll have a single sorted link list that will be returned to the user.**\n",
    "\n",
    "Let's save and upload our work before continuing.\n",
    "\n",
    "\n",
    "\n"
   ]
  },
  {
   "cell_type": "code",
   "execution_count": 27,
   "id": "291849a0",
   "metadata": {},
   "outputs": [
    {
     "data": {
      "application/javascript": "window.require && require([\"base/js/namespace\"],function(Jupyter){Jupyter.notebook.save_checkpoint()})",
      "text/plain": [
       "<IPython.core.display.Javascript object>"
      ]
     },
     "metadata": {},
     "output_type": "display_data"
    },
    {
     "name": "stdout",
     "output_type": "stream",
     "text": [
      "[jovian] Updating notebook \"js010582/dsa-sort-list\" on https://jovian.ai/\u001b[0m\n",
      "[jovian] Committed successfully! https://jovian.ai/js010582/dsa-sort-list\u001b[0m\n"
     ]
    },
    {
     "data": {
      "text/plain": [
       "'https://jovian.ai/js010582/dsa-sort-list'"
      ]
     },
     "execution_count": 27,
     "metadata": {},
     "output_type": "execute_result"
    }
   ],
   "source": [
    "jovian.commit(filename=filename, project=project_name)"
   ]
  },
  {
   "cell_type": "markdown",
   "id": "0118e183",
   "metadata": {},
   "source": [
    "### 8. Implement the solution and test it using example inputs. Fix bugs, if any."
   ]
  },
  {
   "cell_type": "code",
   "execution_count": 28,
   "id": "90916e02",
   "metadata": {},
   "outputs": [],
   "source": [
    "#Need a helper function to convert array of integers into a linked list\n",
    "class linkNode:\n",
    "    def __init__(self, val = None):\n",
    "        self.val = val\n",
    "        self.next = None\n",
    "\n",
    "class linkList:\n",
    "    def __init__(self):\n",
    "        self.head = None\n",
    "\n",
    "    def add(self,input):\n",
    "        newnode = linkNode() #creates new node\n",
    "        newnode.val = input #saves input variable into new node\n",
    "        newnode.next = self.head #linkes previous head to next pointer on new node\n",
    "        self.head = newnode #sets the newly created node to be the new head of list\n",
    "    \n",
    "    def show(self):\n",
    "        node = self.head\n",
    "        while node:\n",
    "            print(node.val)\n",
    "            node = node.next\n",
    "    \n",
    "    def deletenode(self,node):\n",
    "        node.val = node.next.val\n",
    "        node.next = node.next.next\n",
    "\n",
    "    #Returns link list as an array\n",
    "    def linklistarray(self,heada):\n",
    "        returnarray = []\n",
    "        while heada:\n",
    "            returnarray.append(heada.val)\n",
    "            heada = heada.next\n",
    "        return returnarray\n",
    "    \n",
    "    #Adds a list of values to link list\n",
    "    def listadd(self, heada):\n",
    "        length = len(heada) #length of list\n",
    "        for count in range(length-1,-1,-1): #iterate from end of array to begining\n",
    "            self.add(heada[count])\n",
    "    \n",
    "    def linksort(self,head):\n",
    "        printnode = linkNode()\n",
    "        printnode = head\n",
    "        # print(f\"Calling linksort on {self.linklistarray(printnode)}\")\n",
    "\n",
    "        if not head or not head.next:\n",
    "            return head\n",
    "\n",
    "        # splitting list into two parts\n",
    "        left = head\n",
    "        right = self.getMid(head)\n",
    "        tmp = right.next\n",
    "        right.next = None\n",
    "        right = tmp\n",
    "\n",
    "        left = self.linksort(left)\n",
    "        right = self.linksort(right)\n",
    "        return self.merge(left,right)\n",
    "    \n",
    "    def getMid(self,head):\n",
    "        slow, fast = head, head.next\n",
    "        while fast and fast.next:\n",
    "            slow = slow.next\n",
    "            fast = fast.next.next\n",
    "        return slow #item that will set the right list\n",
    "       \n",
    "    def merge(self, left, right):\n",
    "        # print(\"Merging\")\n",
    "        tail = dummy = linkNode()\n",
    "        while left and right:\n",
    "            if left.val < right.val:\n",
    "                tail.next = left\n",
    "                left = left.next\n",
    "            else:\n",
    "                tail.next = right\n",
    "                right = right.next\n",
    "            tail = tail.next\n",
    "        if left:\n",
    "            tail.next = left\n",
    "        if right:\n",
    "            tail.next = right\n",
    "\n",
    "        return dummy.next"
   ]
  },
  {
   "cell_type": "code",
   "execution_count": 29,
   "id": "284a91dd",
   "metadata": {},
   "outputs": [
    {
     "name": "stdout",
     "output_type": "stream",
     "text": [
      "Input Array: [-1, 5, 3, 4, 0]\n",
      "Expected:     [-1, 0, 3, 4, 5]\n",
      "Output Array: [-1, 0, 3, 4, 5]\n"
     ]
    }
   ],
   "source": [
    "solver1 = linkList()\n",
    "list1 = test1['input']\n",
    "\n",
    "print(f\"Input Array: {list1}\")\n",
    "\n",
    "#insert list1 into our linklist\n",
    "solver1.listadd(list1)\n",
    "\n",
    "print(f\"Expected:     {test1['output']}\")\n",
    "print(f\"Output Array: {solver1.linklistarray(solver1.linksort(solver1.head))}\")\n"
   ]
  },
  {
   "cell_type": "code",
   "execution_count": 30,
   "id": "661d89bd",
   "metadata": {},
   "outputs": [
    {
     "name": "stdout",
     "output_type": "stream",
     "text": [
      "Input Array: [10, 20, 30, 40, 50, 60]\n",
      "Expected:     [10, 20, 30, 40, 50, 60]\n",
      "Output Array: [10, 20, 30, 40, 50, 60]\n"
     ]
    }
   ],
   "source": [
    "solver1 = linkList()\n",
    "list1 = test2['input']\n",
    "\n",
    "print(f\"Input Array: {list1}\")\n",
    "\n",
    "#insert list1 into our linklist\n",
    "solver1.listadd(list1)\n",
    "\n",
    "print(f\"Expected:     {test2['output']}\")\n",
    "print(f\"Output Array: {solver1.linklistarray(solver1.linksort(solver1.head))}\")\n"
   ]
  },
  {
   "cell_type": "code",
   "execution_count": 31,
   "id": "ba918b8a",
   "metadata": {},
   "outputs": [
    {
     "name": "stdout",
     "output_type": "stream",
     "text": [
      "Input Array: [5, 4, 3, 2, 1]\n",
      "Expected:     [1, 2, 3, 4, 5]\n",
      "Output Array: [1, 2, 3, 4, 5]\n"
     ]
    }
   ],
   "source": [
    "solver1 = linkList()\n",
    "list1 = test3['input']\n",
    "\n",
    "print(f\"Input Array: {list1}\")\n",
    "\n",
    "#insert list1 into our linklist\n",
    "solver1.listadd(list1)\n",
    "\n",
    "print(f\"Expected:     {test3['output']}\")\n",
    "print(f\"Output Array: {solver1.linklistarray(solver1.linksort(solver1.head))}\")\n"
   ]
  },
  {
   "cell_type": "code",
   "execution_count": 32,
   "id": "3831bdab",
   "metadata": {},
   "outputs": [
    {
     "name": "stdout",
     "output_type": "stream",
     "text": [
      "Input Array: [-1]\n",
      "Expected:     [-1]\n",
      "Output Array: [-1]\n"
     ]
    }
   ],
   "source": [
    "solver1 = linkList()\n",
    "list1 = test4['input']\n",
    "\n",
    "print(f\"Input Array: {list1}\")\n",
    "\n",
    "#insert list1 into our linklist\n",
    "solver1.listadd(list1)\n",
    "\n",
    "print(f\"Expected:     {test4['output']}\")\n",
    "print(f\"Output Array: {solver1.linklistarray(solver1.linksort(solver1.head))}\")\n"
   ]
  },
  {
   "cell_type": "code",
   "execution_count": 33,
   "id": "2d386297",
   "metadata": {},
   "outputs": [
    {
     "name": "stdout",
     "output_type": "stream",
     "text": [
      "Input Array: [0, 0, 0]\n",
      "Expected:     [0, 0, 0]\n",
      "Output Array: [0, 0, 0]\n"
     ]
    }
   ],
   "source": [
    "solver1 = linkList()\n",
    "list1 = test5['input']\n",
    "\n",
    "print(f\"Input Array: {list1}\")\n",
    "\n",
    "#insert list1 into our linklist\n",
    "solver1.listadd(list1)\n",
    "\n",
    "print(f\"Expected:     {test5['output']}\")\n",
    "print(f\"Output Array: {solver1.linklistarray(solver1.linksort(solver1.head))}\")\n"
   ]
  },
  {
   "cell_type": "markdown",
   "id": "70dce476",
   "metadata": {},
   "source": [
    "### 9. Analyze the algorithm's complexity and identify inefficiencies, if any."
   ]
  },
  {
   "cell_type": "markdown",
   "id": "f5740a64",
   "metadata": {},
   "source": [
    "Time Complexity is O(n*log(n))"
   ]
  },
  {
   "cell_type": "markdown",
   "id": "ff42b66f",
   "metadata": {},
   "source": [
    "Space Complexity is O(log(n))"
   ]
  },
  {
   "cell_type": "markdown",
   "id": "89ba7b0b",
   "metadata": {},
   "source": [
    "If you found the problem on an external platform, you can make a submission to test your solution.\n",
    "\n",
    "Share your approach and start a discussion on the Jovian forum: https://jovian.ai/forum/c/data-structures-and-algorithms-in-python/78"
   ]
  },
  {
   "cell_type": "code",
   "execution_count": 34,
   "id": "90a83f36",
   "metadata": {},
   "outputs": [
    {
     "data": {
      "application/javascript": "window.require && require([\"base/js/namespace\"],function(Jupyter){Jupyter.notebook.save_checkpoint()})",
      "text/plain": [
       "<IPython.core.display.Javascript object>"
      ]
     },
     "metadata": {},
     "output_type": "display_data"
    },
    {
     "name": "stdout",
     "output_type": "stream",
     "text": [
      "[jovian] Updating notebook \"js010582/dsa-sort-list\" on https://jovian.ai/\u001b[0m\n",
      "[jovian] Committed successfully! https://jovian.ai/js010582/dsa-sort-list\u001b[0m\n"
     ]
    },
    {
     "data": {
      "text/plain": [
       "'https://jovian.ai/js010582/dsa-sort-list'"
      ]
     },
     "execution_count": 34,
     "metadata": {},
     "output_type": "execute_result"
    }
   ],
   "source": [
    "jovian.commit(filename=filename, project=project_name)"
   ]
  },
  {
   "cell_type": "code",
   "execution_count": null,
   "id": "4ce76d62",
   "metadata": {},
   "outputs": [],
   "source": []
  }
 ],
 "metadata": {
  "kernelspec": {
   "display_name": "Python 3.10.4 64-bit",
   "language": "python",
   "name": "python3"
  },
  "language_info": {
   "codemirror_mode": {
    "name": "ipython",
    "version": 3
   },
   "file_extension": ".py",
   "mimetype": "text/x-python",
   "name": "python",
   "nbconvert_exporter": "python",
   "pygments_lexer": "ipython3",
   "version": "3.10.4"
  },
  "vscode": {
   "interpreter": {
    "hash": "916dbcbb3f70747c44a77c7bcd40155683ae19c65e1c03b4aa3499c5328201f1"
   }
  }
 },
 "nbformat": 4,
 "nbformat_minor": 5
}
