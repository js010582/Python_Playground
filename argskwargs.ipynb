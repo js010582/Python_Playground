{
 "cells": [
  {
   "cell_type": "markdown",
   "metadata": {},
   "source": []
  },
  {
   "cell_type": "code",
   "execution_count": 21,
   "metadata": {},
   "outputs": [
    {
     "name": "stdout",
     "output_type": "stream",
     "text": [
      "2\n",
      "3\n",
      "2\n",
      "7\n"
     ]
    }
   ],
   "source": [
    "\n",
    "def addition(*args):\n",
    "    count = 0\n",
    "    for arg in args:\n",
    "        print(arg)\n",
    "        # print(count);\n",
    "        count += arg\n",
    "    print(count)\n",
    "\n",
    "addition(2,3,2)"
   ]
  },
  {
   "cell_type": "code",
   "execution_count": 24,
   "metadata": {},
   "outputs": [
    {
     "ename": "TypeError",
     "evalue": "addition() takes 0 positional arguments but 1 was given",
     "output_type": "error",
     "traceback": [
      "\u001b[0;31m---------------------------------------------------------------------------\u001b[0m",
      "\u001b[0;31mTypeError\u001b[0m                                 Traceback (most recent call last)",
      "Input \u001b[0;32mIn [24]\u001b[0m, in \u001b[0;36m<cell line: 9>\u001b[0;34m()\u001b[0m\n\u001b[1;32m      1\u001b[0m \u001b[39mdef\u001b[39;00m \u001b[39maddition\u001b[39m(\u001b[39m*\u001b[39m\u001b[39m*\u001b[39mkwargs):\n\u001b[1;32m      2\u001b[0m     \u001b[39m# count = 0\u001b[39;00m\n\u001b[1;32m      3\u001b[0m     \u001b[39m# for arg in args:\u001b[39;00m\n\u001b[1;32m      4\u001b[0m     \u001b[39m#     print(arg)\u001b[39;00m\n\u001b[1;32m      5\u001b[0m     \u001b[39m#     # print(count);\u001b[39;00m\n\u001b[1;32m      6\u001b[0m     \u001b[39m#     count += arg\u001b[39;00m\n\u001b[1;32m      7\u001b[0m     \u001b[39mprint\u001b[39m(kwargs)\n\u001b[0;32m----> 9\u001b[0m addition([\u001b[39m2\u001b[39;49m,\u001b[39m3\u001b[39;49m,\u001b[39m2\u001b[39;49m])\n",
      "\u001b[0;31mTypeError\u001b[0m: addition() takes 0 positional arguments but 1 was given"
     ]
    }
   ],
   "source": [
    "\n",
    "def addition(**kwargs):\n",
    "    # count = 0\n",
    "    # for arg in args:\n",
    "    #     print(arg)\n",
    "    #     # print(count);\n",
    "    #     count += arg\n",
    "    print(kwargs)\n",
    "\n",
    "addition([2,3,2])"
   ]
  },
  {
   "cell_type": "code",
   "execution_count": null,
   "metadata": {},
   "outputs": [],
   "source": []
  }
 ],
 "metadata": {
  "interpreter": {
   "hash": "18a88444c60b15ade15f3b7412e27f94167feb3c1614f51d86ea18cdd9c556c6"
  },
  "kernelspec": {
   "display_name": "Python 3.10.4 ('ML')",
   "language": "python",
   "name": "python3"
  },
  "language_info": {
   "codemirror_mode": {
    "name": "ipython",
    "version": 3
   },
   "file_extension": ".py",
   "mimetype": "text/x-python",
   "name": "python",
   "nbconvert_exporter": "python",
   "pygments_lexer": "ipython3",
   "version": "3.10.4"
  },
  "orig_nbformat": 4
 },
 "nbformat": 4,
 "nbformat_minor": 2
}
