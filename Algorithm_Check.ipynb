{
 "cells": [
  {
   "cell_type": "code",
   "execution_count": 21,
   "metadata": {},
   "outputs": [
    {
     "name": "stdout",
     "output_type": "stream",
     "text": [
      "Pair with sum 7 is: ( 5 , 2 )\n",
      "Pair with sum 7 is: ( -4 , 11 )\n"
     ]
    }
   ],
   "source": [
    "#two sum problem naive\n",
    "def twoSumNaive(num_arr, pair_sum):\n",
    "  # search first element in the array\n",
    "  for i in range(len(num_arr) - 1):\n",
    "    # search other element in the array\n",
    "    for j in range(i + 1, len(num_arr)):\n",
    "      # if these two elemets sum to pair_sum, print the pair\n",
    "      if num_arr[i] + num_arr[j] == pair_sum:\n",
    "        print(\"Pair with sum\", pair_sum,\"is: (\", num_arr[i],\",\",num_arr[j],\")\")\n",
    "\n",
    "      \n",
    "\n",
    "# Driver Code\n",
    "num_arr = [3, 5, 2, -4, 8, 11]\n",
    "pair_sum = 7\n",
    "\n",
    "# Function call inside print\n",
    "twoSumNaive(num_arr, pair_sum) "
   ]
  },
  {
   "cell_type": "code",
   "execution_count": 20,
   "metadata": {},
   "outputs": [
    {
     "name": "stdout",
     "output_type": "stream",
     "text": [
      "Pair with sum 9 is: ( 5 , 4 )\n",
      "Pair with sum 9 is: ( 8 , 1 )\n"
     ]
    }
   ],
   "source": [
    "#two sum problem hash\n",
    "def twoSumHashing(num_arr, pair_sum):\n",
    "    sums = []\n",
    "    hashTable = {}\n",
    "\n",
    "    for i in range(len(num_arr)):   \n",
    "        complement = pair_sum - num_arr[i]\n",
    "        if complement in hashTable:\n",
    "            print(\"Pair with sum\", pair_sum,\"is: (\", num_arr[i],\",\",complement,\")\")\n",
    "        hashTable[num_arr[i]] = num_arr[i]\n",
    "\n",
    "# Driver Code\n",
    "num_arr = [4, 5, 1, 8]\n",
    "pair_sum = 9    \n",
    "  \n",
    "# Calling function\n",
    "twoSumHashing(num_arr, pair_sum)"
   ]
  },
  {
   "cell_type": "code",
   "execution_count": null,
   "metadata": {},
   "outputs": [],
   "source": []
  }
 ],
 "metadata": {
  "interpreter": {
   "hash": "18a88444c60b15ade15f3b7412e27f94167feb3c1614f51d86ea18cdd9c556c6"
  },
  "kernelspec": {
   "display_name": "Python 3.10.4 ('ML')",
   "language": "python",
   "name": "python3"
  },
  "language_info": {
   "codemirror_mode": {
    "name": "ipython",
    "version": 3
   },
   "file_extension": ".py",
   "mimetype": "text/x-python",
   "name": "python",
   "nbconvert_exporter": "python",
   "pygments_lexer": "ipython3",
   "version": "3.10.4"
  },
  "orig_nbformat": 4
 },
 "nbformat": 4,
 "nbformat_minor": 2
}
