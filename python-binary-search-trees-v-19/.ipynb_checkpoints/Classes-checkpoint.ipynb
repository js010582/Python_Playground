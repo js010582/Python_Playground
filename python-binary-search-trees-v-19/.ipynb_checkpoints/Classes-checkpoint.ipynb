{
 "cells": [
  {
   "cell_type": "code",
   "execution_count": null,
   "id": "5ee16210-36ae-4d36-abb2-4935772bd01c",
   "metadata": {},
   "outputs": [],
   "source": [
    "#Class examples\n",
    "\n",
    "class user:\n",
    "    def __init__(self, username, firstname):\n",
    "        self.username = username\n",
    "        self.firstname = firstname\n",
    "\n"
   ]
  }
 ],
 "metadata": {
  "kernelspec": {
   "display_name": "Python 3 (ipykernel)",
   "language": "python",
   "name": "python3"
  },
  "language_info": {
   "codemirror_mode": {
    "name": "ipython",
    "version": 3
   },
   "file_extension": ".py",
   "mimetype": "text/x-python",
   "name": "python",
   "nbconvert_exporter": "python",
   "pygments_lexer": "ipython3",
   "version": "3.10.4"
  }
 },
 "nbformat": 4,
 "nbformat_minor": 5
}
