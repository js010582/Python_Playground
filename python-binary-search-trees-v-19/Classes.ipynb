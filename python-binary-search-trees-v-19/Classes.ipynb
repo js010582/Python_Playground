{
 "cells": [
  {
   "cell_type": "code",
   "execution_count": 5,
   "id": "5ee16210-36ae-4d36-abb2-4935772bd01c",
   "metadata": {},
   "outputs": [],
   "source": [
    "class user:\n",
    "    def __init__(self, username, name):\n",
    "        self.username = username\n",
    "        self.name = name\n",
    "        print(f\"created user {self.username}\")\n",
    "    def __repr__()"
   ]
  },
  {
   "cell_type": "code",
   "execution_count": 7,
   "id": "3ac4340a-0191-4f5b-9aeb-09b8e0e884ec",
   "metadata": {},
   "outputs": [
    {
     "name": "stdout",
     "output_type": "stream",
     "text": [
      "created user js010582\n"
     ]
    }
   ],
   "source": [
    "user2 = user('js010582', 'jasper')"
   ]
  },
  {
   "cell_type": "code",
   "execution_count": 9,
   "id": "68bbf235-27d5-4a8e-bb3e-3f987ed604e6",
   "metadata": {},
   "outputs": [
    {
     "name": "stdout",
     "output_type": "stream",
     "text": [
      "js010582\n"
     ]
    }
   ],
   "source": [
    "print(user2.username)"
   ]
  }
 ],
 "metadata": {
  "kernelspec": {
   "display_name": "Python 3 (ipykernel)",
   "language": "python",
   "name": "python3"
  },
  "language_info": {
   "codemirror_mode": {
    "name": "ipython",
    "version": 3
   },
   "file_extension": ".py",
   "mimetype": "text/x-python",
   "name": "python",
   "nbconvert_exporter": "python",
   "pygments_lexer": "ipython3",
   "version": "3.10.4"
  }
 },
 "nbformat": 4,
 "nbformat_minor": 5
}
