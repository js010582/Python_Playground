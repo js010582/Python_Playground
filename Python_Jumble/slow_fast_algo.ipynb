{
 "cells": [
  {
   "cell_type": "code",
   "execution_count": 5,
   "metadata": {},
   "outputs": [],
   "source": [
    "class Node:\n",
    "    def __init__(self, data=None):\n",
    "        self.data = data\n",
    "        self.next = None\n",
    "\n",
    "class Linked:\n",
    "    def __init__(self):\n",
    "        self.head = None\n",
    "\n",
    "    def show(self):\n",
    "        node = self.head\n",
    "        while node is not None:\n",
    "            print(node.data)\n",
    "            node = node.next\n",
    "    \n",
    "    def add(self, new):\n",
    "        new_node = Node(new)\n",
    "        new_node.next = self.head\n",
    "        self.head = new_node\n",
    "\n",
    "    #Adds a list of values to link list\n",
    "    def listadd(self, list1):\n",
    "        length = len(list1) #length of list\n",
    "        for count in range(length-1,-1,-1): #iterate from end of array to begining\n",
    "            self.add(list1[count])\n",
    "    \n",
    "    def getmid(self,list1):\n",
    "        node = Node()\n",
    "        node.next = list1\n",
    "        slow = fast = node.next\n",
    "\n",
    "        while slow.next:\n",
    "            pass"
   ]
  },
  {
   "cell_type": "code",
   "execution_count": 7,
   "metadata": {},
   "outputs": [
    {
     "name": "stdout",
     "output_type": "stream",
     "text": [
      "[1, 2, 3, 4, 5, 6, 7, 8, 9, 10, 11]\n"
     ]
    }
   ],
   "source": [
    "llist = Linked()\n",
    "llist.add([1,2,3,4,5,6,7,8,9,10,11])\n",
    "\n",
    "llist.show()"
   ]
  }
 ],
 "metadata": {
  "kernelspec": {
   "display_name": "Python 3.7.13 ('Python_37_')",
   "language": "python",
   "name": "python3"
  },
  "language_info": {
   "codemirror_mode": {
    "name": "ipython",
    "version": 3
   },
   "file_extension": ".py",
   "mimetype": "text/x-python",
   "name": "python",
   "nbconvert_exporter": "python",
   "pygments_lexer": "ipython3",
   "version": "3.7.13"
  },
  "orig_nbformat": 4,
  "vscode": {
   "interpreter": {
    "hash": "18b1d3956e4bc07f5bda42b48ea6c804d878c969f9ec30e5a7709cfc0fa67b24"
   }
  }
 },
 "nbformat": 4,
 "nbformat_minor": 2
}
