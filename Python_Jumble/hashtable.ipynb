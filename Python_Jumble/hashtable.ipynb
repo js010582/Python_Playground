{
 "cells": [
  {
   "cell_type": "code",
   "execution_count": 14,
   "metadata": {},
   "outputs": [
    {
     "ename": "AttributeError",
     "evalue": "'set' object has no attribute 'get'",
     "output_type": "error",
     "traceback": [
      "\u001b[1;31m---------------------------------------------------------------------------\u001b[0m",
      "\u001b[1;31mAttributeError\u001b[0m                            Traceback (most recent call last)",
      "\u001b[1;32m~\\AppData\\Local\\Temp\\ipykernel_24756\\1010630496.py\u001b[0m in \u001b[0;36m<module>\u001b[1;34m\u001b[0m\n\u001b[0;32m      1\u001b[0m \u001b[0mhashtable\u001b[0m \u001b[1;33m=\u001b[0m \u001b[1;33m{\u001b[0m\u001b[1;36m3\u001b[0m\u001b[1;33m}\u001b[0m\u001b[1;33m\u001b[0m\u001b[1;33m\u001b[0m\u001b[0m\n\u001b[0;32m      2\u001b[0m \u001b[1;33m\u001b[0m\u001b[0m\n\u001b[1;32m----> 3\u001b[1;33m \u001b[0mhashtable\u001b[0m\u001b[1;33m.\u001b[0m\u001b[0mget\u001b[0m\u001b[1;33m(\u001b[0m\u001b[1;36m3\u001b[0m\u001b[1;33m)\u001b[0m\u001b[1;33m\u001b[0m\u001b[1;33m\u001b[0m\u001b[0m\n\u001b[0m",
      "\u001b[1;31mAttributeError\u001b[0m: 'set' object has no attribute 'get'"
     ]
    }
   ],
   "source": [
    "hashtable = {3}\n",
    "\n",
    "hashtable.get(3)"
   ]
  },
  {
   "cell_type": "code",
   "execution_count": 15,
   "metadata": {},
   "outputs": [],
   "source": [
    "class Solution:\n",
    "    def isAnagram(self, s: str, t: str) -> bool:\n",
    "        shash, thash = {}, {}\n",
    "        for c in s:\n",
    "            shash[c] = 1 + shash.get(c,0)\n",
    "        for c in t:\n",
    "            thash[c] = 1 + shash.get(c,0)\n",
    "            \n",
    "        if shash == thash:\n",
    "            return True\n",
    "        else:\n",
    "            return False"
   ]
  },
  {
   "cell_type": "code",
   "execution_count": 22,
   "metadata": {},
   "outputs": [
    {
     "name": "stdout",
     "output_type": "stream",
     "text": [
      "4\n"
     ]
    }
   ],
   "source": [
    "hash1 = {}\n",
    "hash1[1] = 4\n",
    "\n",
    "print(hash1.get(1))\n"
   ]
  },
  {
   "cell_type": "code",
   "execution_count": 1,
   "metadata": {},
   "outputs": [
    {
     "name": "stdout",
     "output_type": "stream",
     "text": [
      "1 2\n"
     ]
    }
   ],
   "source": [
    "i = 1\n",
    "m = 2\n",
    "1\n",
    "print(i,m)\n",
    "\n",
    "2, 7, 11, 15 target 9\n",
    "check if (7 is in hashmap) else store 2 index c"
   ]
  },
  {
   "cell_type": "code",
   "execution_count": 18,
   "metadata": {},
   "outputs": [],
   "source": [
    "from typing import List\n",
    "\n",
    "class Solution:\n",
    "    def twoSum(self, nums: List[int], target: int) -> List[int]:\n",
    "        numhash = {}\n",
    "        \n",
    "        for count in range(len(nums)):\n",
    "            print(f\"on {count}\")\n",
    "            if (target - nums[count]) in numhash:\n",
    "                return count,numhash[target - nums[count]]\n",
    "            else:\n",
    "                # print(f\"stored hash\")\n",
    "                numhash[nums[count]] = count\n",
    "        print(numhash)"
   ]
  },
  {
   "cell_type": "code",
   "execution_count": 20,
   "metadata": {},
   "outputs": [],
   "source": [
    "from typing import List\n",
    "\n",
    "class Solution:\n",
    "    def twoSum(self, nums: List[int], target: int) -> List[int]:\n",
    "        numhash = {}\n",
    "        \n",
    "        for count in range(len(nums)):\n",
    "            if (target - nums[count]) in numhash:\n",
    "                return count,numhash[target - nums[count]]\n",
    "            else:\n",
    "                numhash[nums[count]] = count"
   ]
  },
  {
   "cell_type": "code",
   "execution_count": 21,
   "metadata": {},
   "outputs": [
    {
     "data": {
      "text/plain": [
       "(1, 0)"
      ]
     },
     "execution_count": 21,
     "metadata": {},
     "output_type": "execute_result"
    }
   ],
   "source": [
    "solve = Solution()\n",
    "nums = [2,7,11,15]\n",
    "target = 9\n",
    "\n",
    "solve.twoSum(nums, target)\n"
   ]
  },
  {
   "cell_type": "code",
   "execution_count": 6,
   "metadata": {},
   "outputs": [
    {
     "name": "stdout",
     "output_type": "stream",
     "text": [
      "dict_keys([4, 1, 2, 5, 3])\n"
     ]
    }
   ],
   "source": [
    "hashmap = {}\n",
    "hashmap[4] = 'four'\n",
    "hashmap[1] = 'one'\n",
    "hashmap[2] = 'two'\n",
    "hashmap[5] = 'five'\n",
    "hashmap[3] = 'three'\n",
    "\n",
    "\n",
    "\n",
    "keys = hashmap.keys()\n",
    "print (keys)"
   ]
  }
 ],
 "metadata": {
  "kernelspec": {
   "display_name": "Python 3.7.13 ('Python_37_')",
   "language": "python",
   "name": "python3"
  },
  "language_info": {
   "codemirror_mode": {
    "name": "ipython",
    "version": 3
   },
   "file_extension": ".py",
   "mimetype": "text/x-python",
   "name": "python",
   "nbconvert_exporter": "python",
   "pygments_lexer": "ipython3",
   "version": "3.7.13"
  },
  "orig_nbformat": 4,
  "vscode": {
   "interpreter": {
    "hash": "18b1d3956e4bc07f5bda42b48ea6c804d878c969f9ec30e5a7709cfc0fa67b24"
   }
  }
 },
 "nbformat": 4,
 "nbformat_minor": 2
}
