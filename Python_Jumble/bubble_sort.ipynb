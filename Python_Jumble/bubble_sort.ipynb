{
 "cells": [
  {
   "cell_type": "code",
   "execution_count": 8,
   "metadata": {},
   "outputs": [
    {
     "name": "stdout",
     "output_type": "stream",
     "text": [
      "[2, 2, 3, 3, 5, 6, 7, 8, 9]\n"
     ]
    }
   ],
   "source": [
    "def bubble(list_a):\n",
    "    indexing_length = len(list_a) - 1\n",
    "\n",
    "    sorted = False\n",
    "\n",
    "    while not sorted:\n",
    "        sorted = True\n",
    "        for i in range(0,indexing_length):\n",
    "            if list_a[i] > list_a[i+1]:\n",
    "                sorted = False\n",
    "                list_a[i], list_a[i+1] = list_a[i+1], list_a[1]\n",
    "    return list_a\n",
    "    \n",
    "if __name__ == \"__main__\":\n",
    "    print(bubble([4,6,8,3,2,5,7,8,9]))"
   ]
  },
  {
   "cell_type": "code",
   "execution_count": 2,
   "metadata": {},
   "outputs": [
    {
     "name": "stdout",
     "output_type": "stream",
     "text": [
      "1 and 2\n",
      "2 and 1\n"
     ]
    }
   ],
   "source": [
    "var1 = 1\n",
    "var2 = 2\n",
    "\n",
    "print(f\"{var1} and {var2}\")\n",
    "\n",
    "var1, var2 = var2, var1\n",
    "\n",
    "print(f\"{var1} and {var2}\")"
   ]
  }
 ],
 "metadata": {
  "kernelspec": {
   "display_name": "Python 3.7.13 ('Python_37_')",
   "language": "python",
   "name": "python3"
  },
  "language_info": {
   "codemirror_mode": {
    "name": "ipython",
    "version": 3
   },
   "file_extension": ".py",
   "mimetype": "text/x-python",
   "name": "python",
   "nbconvert_exporter": "python",
   "pygments_lexer": "ipython3",
   "version": "3.7.13"
  },
  "orig_nbformat": 4,
  "vscode": {
   "interpreter": {
    "hash": "18b1d3956e4bc07f5bda42b48ea6c804d878c969f9ec30e5a7709cfc0fa67b24"
   }
  }
 },
 "nbformat": 4,
 "nbformat_minor": 2
}
