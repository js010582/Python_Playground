{
 "cells": [
  {
   "cell_type": "code",
   "execution_count": 4,
   "metadata": {},
   "outputs": [
    {
     "name": "stdout",
     "output_type": "stream",
     "text": [
      "called f1\n"
     ]
    }
   ],
   "source": [
    "def f1():\n",
    "    print(\"called f1\")\n",
    "\n",
    "def f2(func):\n",
    "    func()\n",
    "\n",
    "f2(f1)"
   ]
  },
  {
   "cell_type": "code",
   "execution_count": 16,
   "metadata": {},
   "outputs": [
    {
     "name": "stdout",
     "output_type": "stream",
     "text": [
      "Started\n",
      "Hello\n",
      "Ended\n"
     ]
    }
   ],
   "source": [
    "def f1(func):\n",
    "    def wrapper():\n",
    "        print(\"Started\")\n",
    "        func()\n",
    "        print(\"Ended\")\n",
    "\n",
    "    return wrapper\n",
    "\n",
    "@f1\n",
    "def f():\n",
    "    print(\"Hello\")\n",
    "\n",
    "# f = f1(f)\n",
    "\n",
    "f()"
   ]
  },
  {
   "cell_type": "code",
   "execution_count": 1,
   "metadata": {},
   "outputs": [
    {
     "name": "stdout",
     "output_type": "stream",
     "text": [
      "a function\n",
      "another function\n"
     ]
    }
   ],
   "source": [
    "#Another Example\n",
    "def turn_into_another_function(fnc):\n",
    "    \n",
    "    return another_function\n",
    "\n",
    "\n",
    "def a_function():\n",
    "\n",
    "    print('a function')\n",
    "\n",
    "def another_function():\n",
    "\n",
    "    print('another function')\n",
    "\n",
    "a_function()\n",
    "another_function()\n"
   ]
  },
  {
   "cell_type": "code",
   "execution_count": 10,
   "metadata": {},
   "outputs": [
    {
     "name": "stdout",
     "output_type": "stream",
     "text": [
      " Turn strings_like_this into StringsLikeThis \n"
     ]
    }
   ],
   "source": [
    "from functools import wraps\n",
    "\n",
    "#real example\n",
    "def mapper(fnc):\n",
    "\n",
    "    @wraps(fnc)\n",
    "    def inner(list_of_values):\n",
    "\n",
    "        \"\"\"This is the inner()\"\"\"\n",
    "        return [fnc(value) for value in list_of_values]\n",
    "    \n",
    "    return inner\n",
    "\n",
    "\n",
    "@mapper\n",
    "def camelcase(s):\n",
    "    \"\"\" Turn strings_like_this into StringsLikeThis \"\"\"\n",
    "    return ''.join([word.capitalize() for word in s.split('_')])\n",
    "\n",
    "# print(camelcase('something_is_fishy'))\n",
    "\n",
    "names = [\n",
    "    'rick_ross',\n",
    "    'a$ap_rocky',\n",
    "    'snoop_dogg'\n",
    "]\n",
    "\n",
    "# print(camelcase(names))\n",
    "print(camelcase.__doc__)"
   ]
  }
 ],
 "metadata": {
  "interpreter": {
   "hash": "18a88444c60b15ade15f3b7412e27f94167feb3c1614f51d86ea18cdd9c556c6"
  },
  "kernelspec": {
   "display_name": "Python 3.10.4 ('ML')",
   "language": "python",
   "name": "python3"
  },
  "language_info": {
   "codemirror_mode": {
    "name": "ipython",
    "version": 3
   },
   "file_extension": ".py",
   "mimetype": "text/x-python",
   "name": "python",
   "nbconvert_exporter": "python",
   "pygments_lexer": "ipython3",
   "version": "3.10.4"
  },
  "orig_nbformat": 4
 },
 "nbformat": 4,
 "nbformat_minor": 2
}
