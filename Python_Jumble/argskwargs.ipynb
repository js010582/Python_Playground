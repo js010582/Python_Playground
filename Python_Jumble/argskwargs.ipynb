{
 "cells": [
  {
   "cell_type": "markdown",
   "metadata": {},
   "source": []
  },
  {
   "cell_type": "code",
   "execution_count": 1,
   "metadata": {},
   "outputs": [
    {
     "name": "stdout",
     "output_type": "stream",
     "text": [
      "2\n",
      "3\n",
      "2\n",
      "7\n"
     ]
    }
   ],
   "source": [
    "\n",
    "def addition(*args):\n",
    "    count = 0\n",
    "    for arg in args:\n",
    "        print(arg)\n",
    "        \n",
    "        # print(count);\n",
    "        count += arg\n",
    "    print(count)\n",
    "\n",
    "addition(2,3,2)"
   ]
  },
  {
   "cell_type": "code",
   "execution_count": 11,
   "metadata": {},
   "outputs": [
    {
     "name": "stdout",
     "output_type": "stream",
     "text": [
      "[1, 4, 1]\n"
     ]
    }
   ],
   "source": [
    "\n",
    "def addition(*kwargs):\n",
    "    # count = 0\n",
    "    # for arg in args:\n",
    "    #     print(arg)\n",
    "    #     # print(count);\n",
    "    #     count += arg\n",
    "    try:\n",
    "        print(kwargs[1])\n",
    "    except:\n",
    "        print(\"error\")\n",
    "\n",
    "addition([2,3,2],[1,4,1])"
   ]
  },
  {
   "cell_type": "code",
   "execution_count": null,
   "metadata": {},
   "outputs": [],
   "source": []
  }
 ],
 "metadata": {
  "interpreter": {
   "hash": "18a88444c60b15ade15f3b7412e27f94167feb3c1614f51d86ea18cdd9c556c6"
  },
  "kernelspec": {
   "display_name": "Python 3.10.4 ('ML')",
   "language": "python",
   "name": "python3"
  },
  "language_info": {
   "codemirror_mode": {
    "name": "ipython",
    "version": 3
   },
   "file_extension": ".py",
   "mimetype": "text/x-python",
   "name": "python",
   "nbconvert_exporter": "python",
   "pygments_lexer": "ipython3",
   "version": "3.10.4"
  },
  "orig_nbformat": 4
 },
 "nbformat": 4,
 "nbformat_minor": 2
}
