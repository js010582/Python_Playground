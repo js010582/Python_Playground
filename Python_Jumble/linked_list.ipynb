{
 "cells": [
  {
   "cell_type": "markdown",
   "metadata": {},
   "source": [
    "### Custom Linked List Class"
   ]
  },
  {
   "cell_type": "code",
   "execution_count": 24,
   "metadata": {},
   "outputs": [],
   "source": [
    "class Node:\n",
    "    def __init__(self, data=None):\n",
    "        self.data = data\n",
    "        self.next = None\n",
    "\n",
    "class Linked:\n",
    "    def __init__(self):\n",
    "        self.head = None\n",
    "\n",
    "    def show(self):\n",
    "        node = self.head\n",
    "        while node is not None:\n",
    "            print(node.data)\n",
    "            node = node.next\n",
    "    \n",
    "    def add(self, new):\n",
    "        new_node = Node(new)\n",
    "        new_node.next = self.head\n",
    "        self.head = new_node"
   ]
  },
  {
   "cell_type": "code",
   "execution_count": 25,
   "metadata": {},
   "outputs": [
    {
     "name": "stdout",
     "output_type": "stream",
     "text": [
      "jasp\n"
     ]
    }
   ],
   "source": [
    "link = Linked()\n",
    "elem = Node('jasp')\n",
    "link.head = elem\n",
    "link.show()\n"
   ]
  },
  {
   "cell_type": "code",
   "execution_count": 26,
   "metadata": {},
   "outputs": [
    {
     "name": "stdout",
     "output_type": "stream",
     "text": [
      "jasp\n",
      "Python\n"
     ]
    }
   ],
   "source": [
    "elem2 = Node('Python')\n",
    "link.head.next = elem2\n",
    "link.show()"
   ]
  },
  {
   "cell_type": "code",
   "execution_count": 27,
   "metadata": {},
   "outputs": [
    {
     "name": "stdout",
     "output_type": "stream",
     "text": [
      "certification\n",
      "jasp\n",
      "Python\n"
     ]
    }
   ],
   "source": [
    "link.add(\"certification\")\n",
    "link.show()"
   ]
  },
  {
   "cell_type": "code",
   "execution_count": 28,
   "metadata": {},
   "outputs": [
    {
     "name": "stdout",
     "output_type": "stream",
     "text": [
      "stuf\n",
      "certification\n",
      "jasp\n",
      "Python\n"
     ]
    }
   ],
   "source": [
    "link.add(\"stuf\")\n",
    "link.show()"
   ]
  },
  {
   "cell_type": "markdown",
   "metadata": {},
   "source": [
    "### Convert List to Link List"
   ]
  },
  {
   "cell_type": "code",
   "execution_count": 10,
   "metadata": {},
   "outputs": [],
   "source": [
    "class listnode:\n",
    "    def __init__(self, data = None):\n",
    "        self.data = data\n",
    "        self.next = None\n",
    "\n",
    "class linklist:\n",
    "    def __init__(self):\n",
    "        self.head = None\n",
    "    \n",
    "    def show(self):\n",
    "        node = self.head\n",
    "        while node is not None:\n",
    "            print(node.data)\n",
    "            node = node.next\n",
    "    "
   ]
  },
  {
   "cell_type": "code",
   "execution_count": 11,
   "metadata": {},
   "outputs": [
    {
     "name": "stdout",
     "output_type": "stream",
     "text": [
      "Jasper\n",
      "Carina\n"
     ]
    }
   ],
   "source": [
    "numList = linklist()\n",
    "node1 = listnode(\"Jasper\")\n",
    "\n",
    "numList.head = node1\n",
    "\n",
    "node2 = listnode(\"Carina\")\n",
    "\n",
    "node1.next = node2\n",
    "\n",
    "numList.show()"
   ]
  },
  {
   "cell_type": "markdown",
   "metadata": {},
   "source": [
    "#### Practice Problems\n",
    "https://www.w3resource.com/python-exercises/data-structures-and-algorithms/python-linked-list.php\n",
    "\n",
    "1. Write a Python program to create a singly linked list, append some items and iterate through the list. Go to the editor\n",
    "\n",
    "2. Write a Python program to find the size of a singly linked list. Go to the editor\n",
    "\n",
    "3. Write a Python program to search a specific item in a singly linked list and return true if the item is found otherwise return false. Go to the editor\n",
    "\n",
    "4. Write a Python program to access a specific item in a singly linked list using index value. Go to the editor\n",
    "\n",
    "5. Write a Python program to set a new value of an item in a singly linked list using index value. Go to the editor\n",
    "\n",
    "6. Write a Python program to delete the first item from a singly linked list. Go to the editor\n",
    "\n",
    "7. Write a Python program to delete the last item from a singly linked list. Go to the editor\n",
    "\n",
    "8. Write a Python program to create a doubly linked list, append some items and iterate through the list (print forward). Go to the editor\n",
    "\n",
    "9. Write a Python program to create a doubly linked list and print nodes from current position to first node. Go to the editor\n",
    "\n",
    "10. Write a Python program to count the number of items of a given doubly linked list. Go to the editor\n",
    "\n",
    "11. Write a Python program to print a given doubly linked list in reverse order. Go to the editor\n",
    "\n",
    "12. Write a Python program to insert an item in front of a given doubly linked list. Go to the editor\n",
    "\n",
    "13. Write a Python program to search a specific item in a given doubly linked list and return true if the item is found otherwise return false. Go to the editor\n",
    "\n",
    "14. Write a Python program to delete a specific item from a given doubly linked list."
   ]
  },
  {
   "cell_type": "code",
   "execution_count": 13,
   "metadata": {},
   "outputs": [],
   "source": [
    "#1. Write a Python program to create a singly linked list, append some items and iterate through the list. \n",
    "\n",
    "class Node:\n",
    "    def __init__(self, da = None):\n",
    "        self.data = da\n",
    "        self.next = None\n",
    "    \n",
    "\n",
    "\n",
    "class Listnode:\n",
    "    def __init__(self):\n",
    "        self.head = None\n",
    "\n",
    "    def list(self)\n",
    "        self.head = \n",
    "        while(data!=None):\n",
    "            print(self.data)\n",
    "    \n"
   ]
  },
  {
   "cell_type": "code",
   "execution_count": 14,
   "metadata": {},
   "outputs": [
    {
     "name": "stdout",
     "output_type": "stream",
     "text": [
      "Jasper\n"
     ]
    }
   ],
   "source": [
    "\n",
    "node_1 = Node('Jasper')\n",
    "\n",
    "\n",
    "print(node_1.data)"
   ]
  }
 ],
 "metadata": {
  "interpreter": {
   "hash": "18a88444c60b15ade15f3b7412e27f94167feb3c1614f51d86ea18cdd9c556c6"
  },
  "kernelspec": {
   "display_name": "Python 3.10.4 ('ML')",
   "language": "python",
   "name": "python3"
  },
  "language_info": {
   "codemirror_mode": {
    "name": "ipython",
    "version": 3
   },
   "file_extension": ".py",
   "mimetype": "text/x-python",
   "name": "python",
   "nbconvert_exporter": "python",
   "pygments_lexer": "ipython3",
   "version": "3.10.4"
  },
  "orig_nbformat": 4
 },
 "nbformat": 4,
 "nbformat_minor": 2
}
