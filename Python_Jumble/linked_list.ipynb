{
 "cells": [
  {
   "cell_type": "markdown",
   "metadata": {},
   "source": [
    "### Custom Linked List Class"
   ]
  },
  {
   "cell_type": "code",
   "execution_count": 1,
   "metadata": {},
   "outputs": [],
   "source": [
    "class Node:\n",
    "    def __init__(self, data=None):\n",
    "        self.data = data\n",
    "        self.next = None\n",
    "\n",
    "class Linked:\n",
    "    def __init__(self):\n",
    "        self.head = None\n",
    "\n",
    "    def show(self):\n",
    "        node = self.head\n",
    "        while node is not None:\n",
    "            print(node.data)\n",
    "            node = node.next\n",
    "    \n",
    "    def add(self, new):\n",
    "        new_node = Node(new)\n",
    "        new_node.next = self.head\n",
    "        self.head = new_node"
   ]
  },
  {
   "cell_type": "code",
   "execution_count": 2,
   "metadata": {},
   "outputs": [
    {
     "name": "stdout",
     "output_type": "stream",
     "text": [
      "jasp\n"
     ]
    }
   ],
   "source": [
    "link = Linked()\n",
    "elem = Node('jasp')\n",
    "link.head = elem\n",
    "link.show()\n"
   ]
  },
  {
   "cell_type": "code",
   "execution_count": 3,
   "metadata": {},
   "outputs": [
    {
     "name": "stdout",
     "output_type": "stream",
     "text": [
      "jasp\n",
      "Python\n"
     ]
    }
   ],
   "source": [
    "elem2 = Node('Python')\n",
    "link.head.next = elem2\n",
    "link.show()"
   ]
  },
  {
   "cell_type": "code",
   "execution_count": 4,
   "metadata": {},
   "outputs": [
    {
     "name": "stdout",
     "output_type": "stream",
     "text": [
      "certification\n",
      "jasp\n",
      "Python\n"
     ]
    }
   ],
   "source": [
    "link.add(\"certification\")\n",
    "link.show()"
   ]
  },
  {
   "cell_type": "code",
   "execution_count": 5,
   "metadata": {},
   "outputs": [
    {
     "name": "stdout",
     "output_type": "stream",
     "text": [
      "stuf\n",
      "certification\n",
      "jasp\n",
      "Python\n"
     ]
    }
   ],
   "source": [
    "link.add(\"stuf\")\n",
    "link.show()"
   ]
  },
  {
   "cell_type": "markdown",
   "metadata": {},
   "source": [
    "### Convert List to Link List"
   ]
  },
  {
   "cell_type": "code",
   "execution_count": 6,
   "metadata": {},
   "outputs": [],
   "source": [
    "class listnode:\n",
    "    def __init__(self, data = None):\n",
    "        self.data = data\n",
    "        self.next = None\n",
    "\n",
    "class linklist:\n",
    "    def __init__(self):\n",
    "        self.head = None\n",
    "    \n",
    "    def show(self):\n",
    "        node = self.head\n",
    "        while node is not None:\n",
    "            print(node.data)\n",
    "            node = node.next\n",
    "    "
   ]
  },
  {
   "cell_type": "code",
   "execution_count": 7,
   "metadata": {},
   "outputs": [
    {
     "name": "stdout",
     "output_type": "stream",
     "text": [
      "Jasper\n",
      "Carina\n"
     ]
    }
   ],
   "source": [
    "numList = linklist()\n",
    "node1 = listnode(\"Jasper\")\n",
    "\n",
    "numList.head = node1\n",
    "\n",
    "node2 = listnode(\"Carina\")\n",
    "\n",
    "node1.next = node2\n",
    "\n",
    "numList.show()"
   ]
  },
  {
   "cell_type": "code",
   "execution_count": null,
   "metadata": {},
   "outputs": [],
   "source": [
    "node1.isem"
   ]
  },
  {
   "cell_type": "markdown",
   "metadata": {},
   "source": [
    "#### Practice Problems\n",
    "https://www.w3resource.com/python-exercises/data-structures-and-algorithms/python-linked-list.php\n",
    "\n",
    "1. Write a Python program to create a singly linked list, append some items and iterate through the list. Go to the editor\n",
    "\n",
    "2. Write a Python program to find the size of a singly linked list. Go to the editor\n",
    "\n",
    "3. Write a Python program to search a specific item in a singly linked list and return true if the item is found otherwise return false. Go to the editor\n",
    "\n",
    "4. Write a Python program to access a specific item in a singly linked list using index value. Go to the editor\n",
    "\n",
    "5. Write a Python program to set a new value of an item in a singly linked list using index value. Go to the editor\n",
    "\n",
    "6. Write a Python program to delete the first item from a singly linked list. Go to the editor\n",
    "\n",
    "7. Write a Python program to delete the last item from a singly linked list. Go to the editor\n",
    "\n",
    "8. Write a Python program to create a doubly linked list, append some items and iterate through the list (print forward). Go to the editor\n",
    "\n",
    "9. Write a Python program to create a doubly linked list and print nodes from current position to first node. Go to the editor\n",
    "\n",
    "10. Write a Python program to count the number of items of a given doubly linked list. Go to the editor\n",
    "\n",
    "11. Write a Python program to print a given doubly linked list in reverse order. Go to the editor\n",
    "\n",
    "12. Write a Python program to insert an item in front of a given doubly linked list. Go to the editor\n",
    "\n",
    "13. Write a Python program to search a specific item in a given doubly linked list and return true if the item is found otherwise return false. Go to the editor\n",
    "\n",
    "14. Write a Python program to delete a specific item from a given doubly linked list."
   ]
  },
  {
   "cell_type": "code",
   "execution_count": 8,
   "metadata": {},
   "outputs": [
    {
     "name": "stdout",
     "output_type": "stream",
     "text": [
      "Carina\n",
      "Tom\n",
      "Jasper\n"
     ]
    }
   ],
   "source": [
    "#1. Write a Python program to create a singly linked list, append some items and iterate through the list. \n",
    "\n",
    "class Node:\n",
    "    def __init__(self, da = None):\n",
    "        self.data = da\n",
    "        self.next = None\n",
    "    \n",
    "class Listnode:\n",
    "    def __init__(self):\n",
    "        self.head = None\n",
    "\n",
    "    def list(self):\n",
    "        node = self.head \n",
    "        while node:\n",
    "            value = node.data\n",
    "            node = node.next\n",
    "            print(value)\n",
    "    \n",
    "    def add(self,newdata):\n",
    "        newnode = Node(newdata)\n",
    "        newnode.next = self.head\n",
    "        self.head = newnode\n",
    "\n",
    "    # def remove(self,name):\n",
    "    #     node = self.head\n",
    "    #     while node is not None:\n",
    "            \n",
    "    #         if node.data == name:\n",
    "\n",
    "\n",
    "# node_1.data = ...\n",
    "# node_1.next = node_2.data\n",
    "#               node_2.next = node_3.data\n",
    "#                             node_3.next\n",
    "\n",
    "linklist = Listnode()\n",
    "linklist.add('Jasper')\n",
    "linklist.add('Tom')\n",
    "linklist.add('Carina')\n",
    "linklist.list()    \n"
   ]
  },
  {
   "cell_type": "code",
   "execution_count": 9,
   "metadata": {},
   "outputs": [
    {
     "name": "stdout",
     "output_type": "stream",
     "text": [
      "PHP\n",
      "Python\n",
      "C#\n",
      "C++\n",
      "Java\n",
      "\n",
      "head.data:  PHP\n",
      "tail.data:  Java\n"
     ]
    }
   ],
   "source": [
    "# https://www.w3resource.com/python-exercises/data-structures-and-algorithms/python-linked-list-exercise-1.php\n",
    "class Node:\n",
    "    # Singly linked node\n",
    "    def __init__(self, data=None):\n",
    "        self.data = data\n",
    "        self.next = None\n",
    "class singly_linked_list:\n",
    "    def __init__(self):\n",
    "        # Createe an empty list\n",
    "        self.head = None\n",
    "        self.tail = None\n",
    "        self.count = 0\n",
    "    def iterate_item(self):\n",
    "        # Iterate the list.\n",
    "        current_item = self.head\n",
    "        while current_item:\n",
    "            val = current_item.data\n",
    "            current_item = current_item.next\n",
    "            yield val\n",
    "    def append_item(self, data):\n",
    "        #Append items on the list\n",
    "        node = Node(data)\n",
    "        if self.tail:\n",
    "            self.tail.next = node\n",
    "            self.tail = node\n",
    "        else:\n",
    "            self.head = node\n",
    "            self.tail = node\n",
    "        self.count += 1\n",
    "        \n",
    "items = singly_linked_list()\n",
    "items.append_item('PHP')\n",
    "items.append_item('Python')\n",
    "items.append_item('C#')\n",
    "items.append_item('C++')\n",
    "items.append_item('Java')\n",
    "for val in items.iterate_item():\n",
    "    print(val)\n",
    "print(\"\\nhead.data: \",items.head.data)\n",
    "print(\"tail.data: \",items.tail.data)\n"
   ]
  },
  {
   "cell_type": "code",
   "execution_count": null,
   "metadata": {},
   "outputs": [],
   "source": []
  },
  {
   "cell_type": "code",
   "execution_count": 10,
   "metadata": {},
   "outputs": [
    {
     "name": "stdout",
     "output_type": "stream",
     "text": [
      "Carina\n",
      "Tom\n",
      "Jasper\n"
     ]
    }
   ],
   "source": [
    "linklist.list()"
   ]
  }
 ],
 "metadata": {
  "kernelspec": {
   "display_name": "Python 3.7.13 ('Python_37_')",
   "language": "python",
   "name": "python3"
  },
  "language_info": {
   "codemirror_mode": {
    "name": "ipython",
    "version": 3
   },
   "file_extension": ".py",
   "mimetype": "text/x-python",
   "name": "python",
   "nbconvert_exporter": "python",
   "pygments_lexer": "ipython3",
   "version": "3.7.13"
  },
  "orig_nbformat": 4,
  "vscode": {
   "interpreter": {
    "hash": "18b1d3956e4bc07f5bda42b48ea6c804d878c969f9ec30e5a7709cfc0fa67b24"
   }
  }
 },
 "nbformat": 4,
 "nbformat_minor": 2
}
