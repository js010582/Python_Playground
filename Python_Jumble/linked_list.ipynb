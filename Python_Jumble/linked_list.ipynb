{
 "cells": [
  {
   "cell_type": "markdown",
   "metadata": {},
   "source": [
    "### Custom Linked List Class"
   ]
  },
  {
   "cell_type": "code",
   "execution_count": 24,
   "metadata": {},
   "outputs": [],
   "source": [
    "class Node:\n",
    "    def __init__(self, data=None):\n",
    "        self.data = data\n",
    "        self.next = None\n",
    "\n",
    "class Linked:\n",
    "    def __init__(self):\n",
    "        self.head = None\n",
    "\n",
    "    def show(self):\n",
    "        node = self.head\n",
    "        while node is not None:\n",
    "            print(node.data)\n",
    "            node = node.next\n",
    "    \n",
    "    def add(self, new):\n",
    "        new_node = Node(new)\n",
    "        new_node.next = self.head\n",
    "        self.head = new_node"
   ]
  },
  {
   "cell_type": "code",
   "execution_count": 25,
   "metadata": {},
   "outputs": [
    {
     "name": "stdout",
     "output_type": "stream",
     "text": [
      "jasp\n"
     ]
    }
   ],
   "source": [
    "link = Linked()\n",
    "elem = Node('jasp')\n",
    "link.head = elem\n",
    "link.show()\n"
   ]
  },
  {
   "cell_type": "code",
   "execution_count": 26,
   "metadata": {},
   "outputs": [
    {
     "name": "stdout",
     "output_type": "stream",
     "text": [
      "jasp\n",
      "Python\n"
     ]
    }
   ],
   "source": [
    "elem2 = Node('Python')\n",
    "link.head.next = elem2\n",
    "link.show()"
   ]
  },
  {
   "cell_type": "code",
   "execution_count": 27,
   "metadata": {},
   "outputs": [
    {
     "name": "stdout",
     "output_type": "stream",
     "text": [
      "certification\n",
      "jasp\n",
      "Python\n"
     ]
    }
   ],
   "source": [
    "link.add(\"certification\")\n",
    "link.show()"
   ]
  },
  {
   "cell_type": "code",
   "execution_count": 28,
   "metadata": {},
   "outputs": [
    {
     "name": "stdout",
     "output_type": "stream",
     "text": [
      "stuf\n",
      "certification\n",
      "jasp\n",
      "Python\n"
     ]
    }
   ],
   "source": [
    "link.add(\"stuf\")\n",
    "link.show()"
   ]
  },
  {
   "cell_type": "code",
   "execution_count": null,
   "metadata": {},
   "outputs": [],
   "source": []
  }
 ],
 "metadata": {
  "interpreter": {
   "hash": "1270df1c966dc45aaea412178422fa798ec1ee8c5fe2455d0c2ae09a5171dbbf"
  },
  "kernelspec": {
   "display_name": "Python 3.9.7 ('Python_37')",
   "language": "python",
   "name": "python3"
  },
  "language_info": {
   "codemirror_mode": {
    "name": "ipython",
    "version": 3
   },
   "file_extension": ".py",
   "mimetype": "text/x-python",
   "name": "python",
   "nbconvert_exporter": "python",
   "pygments_lexer": "ipython3",
   "version": "3.9.7"
  },
  "orig_nbformat": 4
 },
 "nbformat": 4,
 "nbformat_minor": 2
}
