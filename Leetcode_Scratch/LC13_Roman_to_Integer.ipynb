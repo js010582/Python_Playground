{
 "cells": [
  {
   "cell_type": "code",
   "execution_count": 22,
   "metadata": {},
   "outputs": [
    {
     "data": {
      "text/plain": [
       "58"
      ]
     },
     "execution_count": 22,
     "metadata": {},
     "output_type": "execute_result"
    }
   ],
   "source": [
    "class Solution:\n",
    "    def romanToInt(self, s: str) -> int:\n",
    "        translate = {\n",
    "            'I': 1, \n",
    "            'V': 5, \n",
    "            'X': 10, \n",
    "            'L': 50, \n",
    "            'C': 100, \n",
    "            'D': 500, \n",
    "            'M': 1000\n",
    "        }\n",
    "\n",
    "        sum = 0\n",
    "        \n",
    "        for index, char in enumerate(s):\n",
    "            currval = translate[s[index]]\n",
    "            if index < (len(s) - 1):\n",
    "                if currval < translate[s[index+1]]:\n",
    "                    sum-= currval\n",
    "                else:\n",
    "                    sum+=currval\n",
    "            else:\n",
    "                sum+=currval\n",
    "                    \n",
    "        return sum\n",
    "\n",
    "    \n",
    "sol = Solution()\n",
    "sol.romanToInt(\"XIV\")"
   ]
  },
  {
   "cell_type": "code",
   "execution_count": 2,
   "metadata": {},
   "outputs": [
    {
     "name": "stdout",
     "output_type": "stream",
     "text": [
      "IIIIIIII\n",
      "IIIIIIII\n",
      "IIIIIIII\n"
     ]
    },
    {
     "data": {
      "text/plain": [
       "8"
      ]
     },
     "execution_count": 2,
     "metadata": {},
     "output_type": "execute_result"
    }
   ],
   "source": [
    "class Solution:\n",
    "    def romanToInt(self, s: str) -> int:\n",
    "        translations = {\n",
    "            \"I\": 1,\n",
    "            \"V\": 5,\n",
    "            \"X\": 10,\n",
    "            \"L\": 50,\n",
    "            \"C\": 100,\n",
    "            \"D\": 500,\n",
    "            \"M\": 1000\n",
    "        }\n",
    "        number = 0\n",
    "        s = s.replace(\"IV\", \"IIII\").replace(\"IX\", \"VIIII\").replace(\"XL\", \"XXXX\").replace(\"XC\", \"LXXXX\").replace(\"CD\", \"CCCC\").replace(\"CM\", \"DCCCC\")\n",
    "        print(s)\n",
    "        # s = s.replace(\"XL\", \"XXXX\").replace(\"XC\", \"LXXXX\")\n",
    "        print(s)\n",
    "        # s = s.replace(\"CD\", \"CCCC\").replace(\"CM\", \"DCCCC\")\n",
    "\n",
    "        print(s)\n",
    "        for char in s:\n",
    "            number += translations[char]\n",
    "        return number\n",
    "    \n",
    "sol = Solution()\n",
    "\n",
    "sol.romanToInt(\"IVIV\")"
   ]
  }
 ],
 "metadata": {
  "kernelspec": {
   "display_name": "base",
   "language": "python",
   "name": "python3"
  },
  "language_info": {
   "codemirror_mode": {
    "name": "ipython",
    "version": 3
   },
   "file_extension": ".py",
   "mimetype": "text/x-python",
   "name": "python",
   "nbconvert_exporter": "python",
   "pygments_lexer": "ipython3",
   "version": "3.11.7"
  }
 },
 "nbformat": 4,
 "nbformat_minor": 2
}
