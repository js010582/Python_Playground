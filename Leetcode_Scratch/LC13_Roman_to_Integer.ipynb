{
 "cells": [
  {
   "cell_type": "code",
   "execution_count": 22,
   "metadata": {},
   "outputs": [
    {
     "data": {
      "text/plain": [
       "58"
      ]
     },
     "execution_count": 22,
     "metadata": {},
     "output_type": "execute_result"
    }
   ],
   "source": [
    "# 13. Roman to Integer\n",
    "# Iterate through a string and check a dictionary\n",
    "\n",
    "class Solution(object):\n",
    "    def romanToInt(self, s):\n",
    "        \"\"\"\n",
    "        :type s: str\n",
    "        :rtype: int\n",
    "        \"\"\"\n",
    "\n",
    "        roman_to_int = {\n",
    "            'I': 1,\n",
    "            'V': 5,\n",
    "            'X': 10,\n",
    "            'L': 50,\n",
    "            'C': 100,\n",
    "            'D': 500,\n",
    "            'M': 1000\n",
    "        }\n",
    "\n",
    "        sum = 0\n",
    "\n",
    "        for index, char in enumerate(s):\n",
    "\n",
    "            if index < (len(s) - 1):\n",
    "                \n",
    "\n",
    "            if roman_to_int[char] < \n",
    "            sum += roman_to_int[char]\n",
    "\n",
    "        return sum\n",
    "    \n",
    "sol = Solution()\n",
    "sol.romanToInt(\"XIV\")"
   ]
  },
  {
   "cell_type": "code",
   "execution_count": 2,
   "metadata": {},
   "outputs": [
    {
     "name": "stdout",
     "output_type": "stream",
     "text": [
      "IIIIIIII\n",
      "IIIIIIII\n",
      "IIIIIIII\n"
     ]
    },
    {
     "data": {
      "text/plain": [
       "8"
      ]
     },
     "execution_count": 2,
     "metadata": {},
     "output_type": "execute_result"
    }
   ],
   "source": [
    "class Solution:\n",
    "    def romanToInt(self, s: str) -> int:\n",
    "        translations = {\n",
    "            \"I\": 1,\n",
    "            \"V\": 5,\n",
    "            \"X\": 10,\n",
    "            \"L\": 50,\n",
    "            \"C\": 100,\n",
    "            \"D\": 500,\n",
    "            \"M\": 1000\n",
    "        }\n",
    "        number = 0\n",
    "        s = s.replace(\"IV\", \"IIII\").replace(\"IX\", \"VIIII\")\n",
    "        s = s.replace(\"XL\", \"XXXX\").replace(\"XC\", \"LXXXX\")\n",
    "        s = s.replace(\"CD\", \"CCCC\").replace(\"CM\", \"DCCCC\")\n",
    "\n",
    "        print(s)\n",
    "        for char in s:\n",
    "            number += translations[char]\n",
    "        return number\n",
    "    \n",
    "sol = Solution()\n",
    "\n",
    "sol.romanToInt(\"IVIV\")"
   ]
  },
  {
   "cell_type": "code",
   "execution_count": 2,
   "metadata": {},
   "outputs": [
    {
     "name": "stdout",
     "output_type": "stream",
     "text": [
      "Currently on 0\n",
      "Current: A, Next: B\n",
      "A is less than B\n",
      "Currently on 1\n",
      "Current: B, Next: C\n",
      "B is less than C\n",
      "Currently on 2\n",
      "Current: C, Next: D\n",
      "C is less than D\n",
      "Currently on 3\n",
      "Current: D, Next: E\n",
      "D is less than E\n"
     ]
    }
   ],
   "source": [
    "def compare_next(s: str):\n",
    "    for i, current_char in enumerate(s):\n",
    "        if i < len(s) - 1:  # Ensure there's a next character to compare\n",
    "            next_char = s[i + 1]\n",
    "            print(f\"Currently on {i}\")\n",
    "            # You can now compare current_char and next_char\n",
    "            print(f\"Current: {current_char}, Next: {next_char}\")\n",
    "            if current_char < next_char:\n",
    "                print(f\"{current_char} is less than {next_char}\")\n",
    "            elif current_char > next_char:\n",
    "                print(f\"{current_char} is greater than {next_char}\")\n",
    "            else:\n",
    "                print(f\"{current_char} is equal to {next_char}\")\n",
    "\n",
    "# Example usage:\n",
    "compare_next(\"ABCDE\")"
   ]
  }
 ],
 "metadata": {
  "kernelspec": {
   "display_name": "base",
   "language": "python",
   "name": "python3"
  },
  "language_info": {
   "codemirror_mode": {
    "name": "ipython",
    "version": 3
   },
   "file_extension": ".py",
   "mimetype": "text/x-python",
   "name": "python",
   "nbconvert_exporter": "python",
   "pygments_lexer": "ipython3",
   "version": "3.8.13"
  }
 },
 "nbformat": 4,
 "nbformat_minor": 2
}
