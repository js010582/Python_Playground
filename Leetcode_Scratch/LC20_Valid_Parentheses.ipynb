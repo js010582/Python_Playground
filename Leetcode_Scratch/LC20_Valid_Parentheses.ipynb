{
 "cells": [
  {
   "cell_type": "code",
   "execution_count": null,
   "metadata": {},
   "outputs": [],
   "source": [
    "class Solution:\n",
    "    def isValid(self, s: str) -> bool:\n",
    "        \n",
    "        bracket_\n",
    "\n",
    "        for char in s:\n",
    "            if char == '{' or char == '[' or char == '(':\n",
    "\n",
    "\n",
    "s = \"{}\"\n",
    "sol = Solution()\n",
    "sol.isValid"
   ]
  },
  {
   "cell_type": "code",
   "execution_count": 8,
   "metadata": {},
   "outputs": [
    {
     "name": "stdout",
     "output_type": "stream",
     "text": [
      "w\n",
      "o\n",
      "r\n",
      "d\n"
     ]
    }
   ],
   "source": [
    "s = \"word\"\n",
    "\n",
    "for char in s:\n",
    "    print(char)"
   ]
  },
  {
   "cell_type": "code",
   "execution_count": 4,
   "metadata": {},
   "outputs": [
    {
     "name": "stdout",
     "output_type": "stream",
     "text": [
      "['(', '[', '{']\n",
      "['(', '[']\n"
     ]
    }
   ],
   "source": [
    "# Input: s = \"()[]{}\"\n",
    "\n",
    "stack = []\n",
    "stack.append('(')\n",
    "stack.append('[')\n",
    "stack.append('{')\n",
    "\n",
    "print(stack)\n",
    "\n",
    "stack.pop()\n",
    "print(stack)\n"
   ]
  }
 ],
 "metadata": {
  "kernelspec": {
   "display_name": "python38",
   "language": "python",
   "name": "python3"
  },
  "language_info": {
   "codemirror_mode": {
    "name": "ipython",
    "version": 3
   },
   "file_extension": ".py",
   "mimetype": "text/x-python",
   "name": "python",
   "nbconvert_exporter": "python",
   "pygments_lexer": "ipython3",
   "version": "3.8.13"
  }
 },
 "nbformat": 4,
 "nbformat_minor": 2
}
