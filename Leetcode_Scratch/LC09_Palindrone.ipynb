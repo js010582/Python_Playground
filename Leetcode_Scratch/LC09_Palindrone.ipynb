{
 "cells": [
  {
   "cell_type": "code",
   "execution_count": null,
   "metadata": {},
   "outputs": [],
   "source": [
    "class Solution:\n",
    "    def isPalindrome(self, x: int) -> bool:\n",
    "        currword = str(x)\n",
    "        cmpword = str(x)[::-1]\n",
    "        return  currword == cmpword"
   ]
  }
 ],
 "metadata": {
  "language_info": {
   "name": "python"
  }
 },
 "nbformat": 4,
 "nbformat_minor": 2
}
