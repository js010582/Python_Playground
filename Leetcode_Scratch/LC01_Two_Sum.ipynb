{
 "cells": [
  {
   "cell_type": "code",
   "execution_count": 16,
   "metadata": {},
   "outputs": [
    {
     "name": "stdout",
     "output_type": "stream",
     "text": [
      "x index 0\n",
      "y index: 1\n",
      "Found a match 0, and 1\n",
      "[0, 1]\n"
     ]
    },
    {
     "data": {
      "text/plain": [
       "[0, 1]"
      ]
     },
     "execution_count": 16,
     "metadata": {},
     "output_type": "execute_result"
    }
   ],
   "source": [
    "class Solution(object):\n",
    "    def twoSum(self, nums, target):\n",
    "        \"\"\"\n",
    "        :type nums: List[int]\n",
    "        :type target: int\n",
    "        :rtype: List[int]\n",
    "        \"\"\"\n",
    "        \n",
    "        for x in range(len(nums)):\n",
    "            # print(f\"x index {x}\")\n",
    "            for y in range(x+1, len(nums)):\n",
    "                # print (f\"y index: {y}\")\n",
    "                if (nums[x] + nums[y]) == target:\n",
    "                   print(f\"Found a match {x}, and {y}\")\n",
    "                #    print([x,y])\n",
    "                   return [x,y]\n",
    "\n",
    "nums = [2,7,11,15]\n",
    "target = 9\n",
    "\n",
    "sol = Solution()\n",
    "sol.twoSum(nums, target)"
   ]
  },
  {
   "cell_type": "code",
   "execution_count": 1,
   "metadata": {},
   "outputs": [
    {
     "name": "stdout",
     "output_type": "stream",
     "text": [
      "1\n",
      "2\n"
     ]
    }
   ],
   "source": [
    "#Testing Range\n",
    "x = [1,2,3,4,5]\n",
    "\n",
    "for x in range(1, 3):\n",
    "    print(x)"
   ]
  },
  {
   "cell_type": "code",
   "execution_count": 17,
   "metadata": {},
   "outputs": [
    {
     "name": "stdout",
     "output_type": "stream",
     "text": [
      "{'apple': 1, 'banana': 2, 'cherry': 3}\n"
     ]
    }
   ],
   "source": [
    "#Test Hashmap\n",
    "data = [(\"apple\", 1), (\"banana\", 2), (\"cherry\", 3)]\n",
    "\n",
    "# Converting the list of tuples into a dictionary\n",
    "hashmap = dict(data)\n",
    "\n",
    "# Printing the resulting hashmap\n",
    "print(hashmap)\n"
   ]
  },
  {
   "cell_type": "code",
   "execution_count": null,
   "metadata": {},
   "outputs": [],
   "source": [
    "def two_sum(nums, target):\n",
    "    hashmap = {}  # Create an empty hashmap\n",
    "    \n",
    "    # Iterate over the list\n",
    "    for index, num in enumerate(nums):\n",
    "        complement = target - num  # Calculate the complement\n",
    "        if complement in hashmap:\n",
    "            # If the complement is in the hashmap, return the indices\n",
    "            return [hashmap[complement], index]\n",
    "        # Otherwise, add the number and its index to the hashmap\n",
    "        hashmap[num] = index\n",
    "\n",
    "# Example usage:\n",
    "nums = [2, 7, 11, 15]\n",
    "target = 9\n",
    "result = two_sum(nums, target)\n",
    "print(result)  # Output: [0, 1]"
   ]
  }
 ],
 "metadata": {
  "kernelspec": {
   "display_name": "python38",
   "language": "python",
   "name": "python3"
  },
  "language_info": {
   "codemirror_mode": {
    "name": "ipython",
    "version": 3
   },
   "file_extension": ".py",
   "mimetype": "text/x-python",
   "name": "python",
   "nbconvert_exporter": "python",
   "pygments_lexer": "ipython3",
   "version": "3.8.13"
  }
 },
 "nbformat": 4,
 "nbformat_minor": 2
}
