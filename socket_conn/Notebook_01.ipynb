{
 "cells": [
  {
   "cell_type": "code",
   "execution_count": null,
   "metadata": {},
   "outputs": [],
   "source": [
    "# Creating a bytes object from a list of integers\n",
    "b = bytes([0, 1, 2, 3, 4, 255, 15])\n",
    "print(b)  # Outputs: b'\\x00\\x01\\x02\\x03\\x04\\xff'\n",
    "print(dir(b))\n",
    "\n",
    "# Creating a bytes object from a string\n",
    "s = \"hello world\"\n",
    "b = bytes(s, 'utf-8')  # utf-8 is a type of character encoding\n",
    "print(b)  # Outputs: b'hello world'"
   ]
  }
 ],
 "metadata": {
  "kernelspec": {
   "display_name": "python38_etl",
   "language": "python",
   "name": "python3"
  },
  "language_info": {
   "codemirror_mode": {
    "name": "ipython",
    "version": 3
   },
   "file_extension": ".py",
   "mimetype": "text/x-python",
   "name": "python",
   "nbconvert_exporter": "python",
   "pygments_lexer": "ipython3",
   "version": "3.9.13"
  },
  "orig_nbformat": 4
 },
 "nbformat": 4,
 "nbformat_minor": 2
}
