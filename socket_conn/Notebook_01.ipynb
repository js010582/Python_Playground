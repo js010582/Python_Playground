{
 "cells": [
  {
   "cell_type": "code",
   "execution_count": 1,
   "metadata": {},
   "outputs": [
    {
     "ename": "OSError",
     "evalue": "[WinError 10048] Only one usage of each socket address (protocol/network address/port) is normally permitted",
     "output_type": "error",
     "traceback": [
      "\u001b[1;31m---------------------------------------------------------------------------\u001b[0m",
      "\u001b[1;31mOSError\u001b[0m                                   Traceback (most recent call last)",
      "Cell \u001b[1;32mIn[1], line 11\u001b[0m\n\u001b[0;32m      8\u001b[0m tcp_socket \u001b[39m=\u001b[39m socket\u001b[39m.\u001b[39msocket(socket\u001b[39m.\u001b[39mAF_INET, socket\u001b[39m.\u001b[39mSOCK_STREAM)\n\u001b[0;32m     10\u001b[0m \u001b[39m# Bind the socket to the IP address and port\u001b[39;00m\n\u001b[1;32m---> 11\u001b[0m tcp_socket\u001b[39m.\u001b[39;49mbind((ip_address, port))\n\u001b[0;32m     13\u001b[0m \u001b[39m# Listen for incoming connections\u001b[39;00m\n\u001b[0;32m     14\u001b[0m tcp_socket\u001b[39m.\u001b[39mlisten()\n",
      "\u001b[1;31mOSError\u001b[0m: [WinError 10048] Only one usage of each socket address (protocol/network address/port) is normally permitted"
     ]
    }
   ],
   "source": [
    "import socket\n",
    "\n",
    "# Set the IP address and port you want to listen on\n",
    "ip_address = '192.168.1.168'\n",
    "port = 8080\n",
    "\n",
    "# Create a TCP socket\n",
    "tcp_socket = socket.socket(socket.AF_INET, socket.SOCK_STREAM)\n",
    "\n",
    "# Bind the socket to the IP address and port\n",
    "tcp_socket.bind((ip_address, port))\n",
    " \n",
    "# Listen for incoming connections\n",
    "tcp_socket.listen()\n",
    "\n",
    "print(f\"Listening on {ip_address}:{port}\")\n",
    "\n",
    "# Accept incoming connections\n",
    "client_socket, client_address = tcp_socket.accept()\n",
    "\n",
    "print(f\"Connection accepted from {client_address[0]}:{client_address[1]}\")\n",
    "\n",
    "# Now you can communicate with the client using the client_socket\n",
    "\n",
    "# Close the client socket\n",
    "client_socket.close()\n",
    "\n",
    "\n",
    "# Close the server socket\n",
    "tcp_socket.close()"
   ]
  }
 ],
 "metadata": {
  "kernelspec": {
   "display_name": "python38_etl",
   "language": "python",
   "name": "python3"
  },
  "language_info": {
   "codemirror_mode": {
    "name": "ipython",
    "version": 3
   },
   "file_extension": ".py",
   "mimetype": "text/x-python",
   "name": "python",
   "nbconvert_exporter": "python",
   "pygments_lexer": "ipython3",
   "version": "3.8.16"
  },
  "orig_nbformat": 4
 },
 "nbformat": 4,
 "nbformat_minor": 2
}
