{
 "cells": [
  {
   "cell_type": "markdown",
   "metadata": {},
   "source": [
    "9. Palindrome Number\n",
    "Easy\n",
    "\n",
    "5782\n",
    "\n",
    "2128\n",
    "\n",
    "Add to List\n",
    "\n",
    "Share\n",
    "Given an integer x, return true if x is palindrome integer.\n",
    "\n",
    "An integer is a palindrome when it reads the same backward as forward.\n",
    "\n",
    "For example, 121 is a palindrome while 123 is not.\n",
    " \n",
    "\n",
    "Example 1:\n",
    "\n",
    "Input: x = 121\n",
    "Output: true\n",
    "Explanation: 121 reads as 121 from left to right and from right to left.\n",
    "Example 2:\n",
    "\n",
    "Input: x = -121\n",
    "Output: false\n",
    "Explanation: From left to right, it reads -121. From right to left, it becomes 121-. Therefore it is not a palindrome.\n",
    "Example 3:\n",
    "\n",
    "Input: x = 10\n",
    "Output: false\n",
    "Explanation: Reads 01 from right to left. Therefore it is not a palindrome.\n",
    " \n",
    "\n",
    "Constraints:\n",
    "\n",
    "-231 <= x <= 231 - 1\n",
    " \n",
    "\n",
    "Follow up: Could you solve it without converting the integer to a string?"
   ]
  },
  {
   "cell_type": "code",
   "execution_count": 11,
   "metadata": {},
   "outputs": [
    {
     "name": "stdout",
     "output_type": "stream",
     "text": [
      "0\n",
      "1\n",
      "2\n",
      "3\n",
      "4\n",
      "\n",
      "\n",
      "\n",
      "5\n",
      "4\n",
      "3\n",
      "2\n",
      "1\n",
      "0\n"
     ]
    }
   ],
   "source": [
    "#For Loop reversing\n",
    "\n",
    "name = 'Jasper'\n",
    "\n",
    "for element in range(0,5,1):\n",
    "    print(element)\n",
    "\n",
    "print(\"\\n\\n\")\n",
    "\n",
    "for element in range(len(name)-1,-1,-1):\n",
    "    print(element)"
   ]
  },
  {
   "cell_type": "code",
   "execution_count": 31,
   "metadata": {},
   "outputs": [],
   "source": [
    "class Solution:\n",
    "    def isPalindrome(self, x: int) -> bool:\n",
    "        palin_input = str(x)\n",
    "        palin_compare = \"\" #Used for comparison\n",
    "        for element in range(len(palin_input)-1, -1, -1):\n",
    "            palin_compare+=(palin_input[element])\n",
    "        if palin_input == palin_compare:\n",
    "            return True\n",
    "        else:\n",
    "            return False"
   ]
  },
  {
   "cell_type": "code",
   "execution_count": 32,
   "metadata": {},
   "outputs": [
    {
     "data": {
      "text/plain": [
       "True"
      ]
     },
     "execution_count": 32,
     "metadata": {},
     "output_type": "execute_result"
    }
   ],
   "source": [
    "Input_1 = 121\n",
    "Input_2 = 454\n",
    "\n",
    "solve = Solution()\n",
    "solve.isPalindrome(Input_1)\n"
   ]
  },
  {
   "cell_type": "markdown",
   "metadata": {},
   "source": []
  }
 ],
 "metadata": {
  "interpreter": {
   "hash": "1270df1c966dc45aaea412178422fa798ec1ee8c5fe2455d0c2ae09a5171dbbf"
  },
  "kernelspec": {
   "display_name": "Python 3.9.7 ('Python_37')",
   "language": "python",
   "name": "python3"
  },
  "language_info": {
   "codemirror_mode": {
    "name": "ipython",
    "version": 3
   },
   "file_extension": ".py",
   "mimetype": "text/x-python",
   "name": "python",
   "nbconvert_exporter": "python",
   "pygments_lexer": "ipython3",
   "version": "3.9.7"
  },
  "orig_nbformat": 4
 },
 "nbformat": 4,
 "nbformat_minor": 2
}
