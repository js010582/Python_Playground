{
 "cells": [
  {
   "cell_type": "code",
   "execution_count": null,
   "metadata": {},
   "outputs": [],
   "source": [
    "# There is an ATM machine. Initially, it contains a total of K units of money. N people (numbered 1 through N) want to withdraw money; for each valid i, the i-th person wants to withdraw Ai units of money.\n",
    "\n",
    "# The people come in and try to withdraw money one by one, in the increasing order of their indices. Whenever someone tries to withdraw money, if the machine has at least the required amount of money, it will give out the required amount. Otherwise, it will throw an error and not give out anything; in that case, this person will return home directly without trying to do anything else.\n",
    "\n",
    "# For each person, determine whether they will get the required amount of money or not.\n",
    "\n",
    "# Input\n",
    "# The first line of the input contains a single integer T denoting the number of test cases. The description of T test cases follows.\n",
    "# The first line of each test case contains two space-separated integers N and K.\n",
    "# The second line contains N space-separated integers A1,A2,…,AN.\n",
    "# Output\n",
    "# For each test case, print a single line containing a string with length N. For each valid i, the i-th character of this string should be '1' if the i-th person will successfully withdraw their money or '0' otherwise.\n",
    "\n",
    "# Constraints\n",
    "# 1≤T≤100\n",
    "# 1≤N≤100\n",
    "# 1≤Ai≤1,000,000 for each valid i\n",
    "# 1≤K≤1,000,000\n",
    "# Sample Input 1 \n",
    "# 2\n",
    "# 5 10\n",
    "# 3 5 3 2 1\n",
    "# 4 6\n",
    "# 10 8 6 4\n",
    "# Sample Output 1 \n",
    "# 11010\n",
    "# 0010\n",
    "# Explanation\n",
    "# Example case 1: The ATM machine initially contains 10 units of money. The first person comes and withdraws 3 units, so the amount remaining in the machine is 7. Then the second person withdraws 5 units and the remaining amount is 2. The third person wants to withdraw 3 units, but since there are only 2 units of money in the machine, it throws an error and the third person must leave without getting anything. Then the fourth person withdraws 2 units, which leaves nothing in the machine, so the last person does not get anything.\n",
    "\n",
    "# Example case 2: The ATM machine initially contains 6 units of money, so it cannot give anything to the first and second person. When the third person comes, it gives them all the money it has, so the last person does not get anything either."
   ]
  },
  {
   "cell_type": "markdown",
   "metadata": {},
   "source": [
    "1) Enter T how many trials\n",
    "2) Loop through T and enter 2 lines of data and process it\n",
    "2\n",
    "5 10\n",
    "3 5 3 2 1\n",
    "4 6\n",
    "10 8 6 4\n"
   ]
  },
  {
   "cell_type": "code",
   "execution_count": 55,
   "metadata": {},
   "outputs": [
    {
     "name": "stdout",
     "output_type": "stream",
     "text": [
      "11010\n",
      "0010\n"
     ]
    }
   ],
   "source": [
    "T = int(input()) #Enter number of trials\n",
    "results = [''] * T\n",
    "\n",
    "for trial in range(T):\n",
    "    N, K = map(int,input().split(' ')) #Enter N People, and K Total money.\n",
    "    D = list(map(int,input().split()))\n",
    "\n",
    "    for each in range(N):\n",
    "        if D[each] <= K:\n",
    "            K-=D[each]\n",
    "            results[trial] += '1'\n",
    "        else:\n",
    "            pass\n",
    "            results[trial] += '0'\n",
    "\n",
    "for result in results:\n",
    "    print(result)"
   ]
  },
  {
   "cell_type": "code",
   "execution_count": 29,
   "metadata": {},
   "outputs": [
    {
     "name": "stdout",
     "output_type": "stream",
     "text": [
      "<1101>\n"
     ]
    }
   ],
   "source": [
    "numbers = []\n",
    "numbers.append('')\n",
    "numbers.append('')\n",
    "numbers[0] += '1'\n",
    "numbers[0] += '1'\n",
    "numbers[0] += '0'\n",
    "numbers[0] += '1'\n",
    "\n",
    "print(f\"<{numbers[0]}>\")\n"
   ]
  },
  {
   "cell_type": "code",
   "execution_count": 36,
   "metadata": {},
   "outputs": [
    {
     "name": "stdout",
     "output_type": "stream",
     "text": [
      "['23', '23']\n"
     ]
    }
   ],
   "source": [
    "  D = (input().split())\n",
    "  print (D)"
   ]
  }
 ],
 "metadata": {
  "interpreter": {
   "hash": "01823a5abaf8ad4f4cb94e693e943acbf3bedc50944c5169259d585e54326848"
  },
  "kernelspec": {
   "display_name": "Python 3.10.4 ('jovianml')",
   "language": "python",
   "name": "python3"
  },
  "language_info": {
   "codemirror_mode": {
    "name": "ipython",
    "version": 3
   },
   "file_extension": ".py",
   "mimetype": "text/x-python",
   "name": "python",
   "nbconvert_exporter": "python",
   "pygments_lexer": "ipython3",
   "version": "3.10.4"
  },
  "orig_nbformat": 4
 },
 "nbformat": 4,
 "nbformat_minor": 2
}
