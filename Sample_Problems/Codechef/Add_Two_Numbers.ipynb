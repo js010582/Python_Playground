{
 "cells": [
  {
   "cell_type": "code",
   "execution_count": 7,
   "metadata": {},
   "outputs": [
    {
     "name": "stdout",
     "output_type": "stream",
     "text": [
      "46\n"
     ]
    }
   ],
   "source": [
    "# You don't need to add/edit anything to the below solution. \n",
    "# Click on the SUBMIT button to solve your first problem on CodeChef.\n",
    "\n",
    "#Note that it's python3 Code. Here, we are using input() instead of raw_input().\n",
    "#You can check on your local machine the version of python by typing \"python --version\" in the terminal.\n",
    "\n",
    "#Read the number of test cases.\n",
    "T = int(input())\n",
    "for tc in range(T):\n",
    "\t# Read integers a and b.\n",
    "\t(a, b) = map(int, input().split(' '))\n",
    "\t\n",
    "\tans = a + b\n",
    "\tprint(ans)"
   ]
  }
 ],
 "metadata": {
  "interpreter": {
   "hash": "1270df1c966dc45aaea412178422fa798ec1ee8c5fe2455d0c2ae09a5171dbbf"
  },
  "kernelspec": {
   "display_name": "Python 3.9.7 ('Python_37')",
   "language": "python",
   "name": "python3"
  },
  "language_info": {
   "codemirror_mode": {
    "name": "ipython",
    "version": 3
   },
   "file_extension": ".py",
   "mimetype": "text/x-python",
   "name": "python",
   "nbconvert_exporter": "python",
   "pygments_lexer": "ipython3",
   "version": "3.9.7"
  },
  "orig_nbformat": 4
 },
 "nbformat": 4,
 "nbformat_minor": 2
}
