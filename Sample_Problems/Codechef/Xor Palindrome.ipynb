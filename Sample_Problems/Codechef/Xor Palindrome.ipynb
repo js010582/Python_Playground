{
 "cells": [
  {
   "cell_type": "code",
   "execution_count": 1,
   "metadata": {},
   "outputs": [],
   "source": [
    "#XOR_PAL\n",
    "\n",
    "# 1) Input (T) for total tests, Each test input (e.g. 6) total digits followed by the digits (e.g. 110011)\n",
    "\n",
    "# 1 1 2 1 2 0 1\n",
    "# 0 1 2 3 4 5 6 length is 7 - 1 / 2 = 3\n",
    "#       M\n",
    "\n",
    "# 1 1 2 2 0 1\n",
    "# 0 1 2 3 4 5 length is 6 -1 / 2 = 2.5\n",
    "#     M M"
   ]
  },
  {
   "cell_type": "code",
   "execution_count": 36,
   "metadata": {},
   "outputs": [
    {
     "name": "stdout",
     "output_type": "stream",
     "text": [
      "1 compared to 1\n",
      "1 compared to 0\n",
      "2 compared to 2\n",
      "1 compared to 1\n"
     ]
    }
   ],
   "source": [
    "\n",
    "\n",
    "palin_num = 112201 #6 / 2 = 3\n",
    "palin_num_2 = 1121201 #6 / 2 = 3.5\n",
    "palin_num_3 = 12\n",
    "\n",
    "palin_array = [int(a) for a in str(palin_num_2)]\n",
    "max = len(palin_array)-1\n",
    "mid = max / 2\n",
    "\n",
    "for count in range(len(palin_array)):\n",
    "    \n",
    "    #exits once mid point is reached\n",
    "    if count > mid or max == 0:\n",
    "        # print(\"Finished\")\n",
    "        break    \n",
    "    \n",
    "    print(f\"{palin_array[count]} compared to {palin_array[max-count]}\")\n",
    "    \n",
    "    \n",
    "\n",
    "    \n",
    "# print(palin_array)"
   ]
  },
  {
   "cell_type": "code",
   "execution_count": 57,
   "metadata": {},
   "outputs": [
    {
     "data": {
      "text/plain": [
       "2"
      ]
     },
     "execution_count": 57,
     "metadata": {},
     "output_type": "execute_result"
    }
   ],
   "source": [
    "import math\n",
    "\n",
    "int = 3\n",
    "math.ceil(3/2)"
   ]
  },
  {
   "cell_type": "code",
   "execution_count": 22,
   "metadata": {},
   "outputs": [
    {
     "name": "stdout",
     "output_type": "stream",
     "text": [
      "3.0\n",
      "3.5\n"
     ]
    }
   ],
   "source": [
    "palin_num_1 = 112201 #6 / 2 = 3\n",
    "palin_num_2 = 1121201 #6 / 2 = 3\n",
    "\n",
    "array_num_1 = [int(a) for a in str(palin_num_1)]\n",
    "array_num_2 = [int(a) for a in str(palin_num_2)]\n",
    "\n",
    "print(len(array_num_1)/2)\n",
    "print(len(array_num_2)/2)\n",
    "\n"
   ]
  },
  {
   "cell_type": "code",
   "execution_count": 1,
   "metadata": {},
   "outputs": [
    {
     "name": "stdout",
     "output_type": "stream",
     "text": [
      "0\n",
      "1\n",
      "0\n",
      "1\n"
     ]
    }
   ],
   "source": [
    "import math\n",
    "# palin_num = 112201 #6 / 2 = 3\n",
    "# palin_num_2 = 1121201 #6 / 2 = 3.5\n",
    "# palin_num_3 = 12\n",
    "\n",
    "\n",
    "11001100\n",
    "\n",
    "\n",
    "# 4\n",
    "# 5\n",
    "# 11011\n",
    "# 7\n",
    "# 0111010\n",
    "# 1\n",
    "# 1\n",
    "# 4\n",
    "# 1100\n",
    "\n",
    "\n",
    "for trials in range(int(input())):\n",
    "\n",
    "    input_num = int(input())\n",
    "    input_palin = int(input())\n",
    "\n",
    "    palin_array = [int(a) for a in str(input_palin)]\n",
    "    max = len(palin_array)-1\n",
    "    mid = max / 2\n",
    "    results, mismatch_count = [], 0\n",
    "\n",
    "    for count in range(len(palin_array)):\n",
    "\n",
    "        #exits once mid point is reached\n",
    "        if count > mid or max == 0:\n",
    "            # print(\"Finished\")\n",
    "            break\n",
    "        elif palin_array[count] != palin_array[max-count]:\n",
    "            # print(\"Added one\")\n",
    "            mismatch_count+=1\n",
    "        \n",
    "    print(math.ceil(mismatch_count/2))"
   ]
  },
  {
   "cell_type": "code",
   "execution_count": 23,
   "metadata": {},
   "outputs": [
    {
     "name": "stdout",
     "output_type": "stream",
     "text": [
      "0\n",
      "1\n",
      "0\n",
      "1\n"
     ]
    }
   ],
   "source": [
    "import math\n",
    "\n",
    "for trials in range(int(input())):\n",
    "\n",
    "    input_num = int(input())\n",
    "    input_palin = (input())\n",
    "\n",
    "    mis_count = 0\n",
    "    mid = input_num / 2\n",
    "\n",
    "    # print(input_palin)\n",
    "\n",
    "    for count in range(input_num//2):\n",
    "        # print(f\"On index {count}\")\n",
    "\n",
    "        # #exits once mid point is reached\n",
    "        # print(f\"Comparing {input_palin[count]} against {input_palin[(input_num-1)-count]}\")\n",
    "        if input_num == 1:\n",
    "            # print(\"Finished\")\n",
    "            break\n",
    "        elif input_palin[count] != input_palin[(input_num-1)-count]:\n",
    "            # print(\"Added one\")\n",
    "            mis_count+=1\n",
    "        \n",
    "    print(math.ceil(mis_count/2))"
   ]
  }
 ],
 "metadata": {
  "interpreter": {
   "hash": "18a88444c60b15ade15f3b7412e27f94167feb3c1614f51d86ea18cdd9c556c6"
  },
  "kernelspec": {
   "display_name": "Python 3.10.4 ('ML')",
   "language": "python",
   "name": "python3"
  },
  "language_info": {
   "codemirror_mode": {
    "name": "ipython",
    "version": 3
   },
   "file_extension": ".py",
   "mimetype": "text/x-python",
   "name": "python",
   "nbconvert_exporter": "python",
   "pygments_lexer": "ipython3",
   "version": "3.10.4"
  },
  "orig_nbformat": 4
 },
 "nbformat": 4,
 "nbformat_minor": 2
}
