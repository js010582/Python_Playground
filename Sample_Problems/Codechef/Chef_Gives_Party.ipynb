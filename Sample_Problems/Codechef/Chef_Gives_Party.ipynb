{
 "cells": [
  {
   "cell_type": "markdown",
   "metadata": {},
   "source": [
    "Chef wants to give a burger party to all his N friends i.e. he wants to buy one burger for each of his friends.\n",
    "\n",
    "The cost of each burger is X rupees while Chef has a total of K rupees.\n",
    "\n",
    "Determine whether he has enough money to buy a burger for each of his friends or not.\n",
    "\n",
    "Input Format\n",
    "The first line contains a single integer T - the number of test cases. Then the test cases follow.\n",
    "The first and only line of each test case contains the three integers N, X, and K - the number of Chef's friends, the cost of each burger, and the total money Chef has, respectively.\n",
    "Output Format\n",
    "For each test case, output YES if the Chef can give a party to all his N friends. Otherwise, output NO.\n",
    "\n",
    "You may print each character of YES and NO in uppercase or lowercase (for example, yes, yEs, Yes will be considered identical).\n",
    "\n",
    "Constraints\n",
    "1≤T≤1000\n",
    "1≤N,X≤100\n",
    "1≤K≤10000\n",
    "Sample Input 1 \n",
    "4\n",
    "5 10 70\n",
    "5 10 40\n",
    "10 40 400\n",
    "14 14 150\n",
    "Sample Output 1 \n",
    "YES\n",
    "NO\n",
    "YES\n",
    "NO\n",
    "Explanation\n",
    "Test case 1: Chef has 5 friends. The cost of buying a burger for each of them will be 10×5=50 while Chef has 70 rupees. Therefore, he can buy a burger for all of them.\n",
    "\n",
    "Test case 2: Chef has 5 friends. The cost of buying a burger for each of them will be 10×5=50 while Chef has 40 rupees. Therefore, he can not buy a burger for all of them.\n",
    "\n",
    "Test case 3: Chef has 10 friends. The cost of buying a burger for each of them will be 40×10=400 and Chef has 400 rupees. Therefore, he can buy a burger for all of them.\n",
    "\n",
    "Test case 4: Chef has 14 friends. The cost of buying a burger for each of them will be 14×14=196 while Chef has 150 rupees. Therefore, he can not buy a burger for all of them."
   ]
  },
  {
   "cell_type": "code",
   "execution_count": 2,
   "metadata": {},
   "outputs": [
    {
     "name": "stdout",
     "output_type": "stream",
     "text": [
      "YES\n",
      "NO\n",
      "YES\n",
      "NO\n"
     ]
    }
   ],
   "source": [
    "# 1st input T for how many test cases\n",
    "# 2nd input is each entry for (N = Number of friends, X = Cost of burger, K = How much money)\n",
    "\n",
    "T = int(input())\n",
    "results = []\n",
    "\n",
    "for tests in range(T):\n",
    "    n, x, k = map(int,input().split(' '))\n",
    "    if k >= n*x:\n",
    "        results.append('YES')\n",
    "    else:\n",
    "        results.append('NO')\n",
    "\n",
    "for elements in results:\n",
    "    print(elements) "
   ]
  }
 ],
 "metadata": {
  "interpreter": {
   "hash": "01823a5abaf8ad4f4cb94e693e943acbf3bedc50944c5169259d585e54326848"
  },
  "kernelspec": {
   "display_name": "Python 3.10.4 ('jovianml')",
   "language": "python",
   "name": "python3"
  },
  "language_info": {
   "codemirror_mode": {
    "name": "ipython",
    "version": 3
   },
   "file_extension": ".py",
   "mimetype": "text/x-python",
   "name": "python",
   "nbconvert_exporter": "python",
   "pygments_lexer": "ipython3",
   "version": "3.10.4"
  },
  "orig_nbformat": 4
 },
 "nbformat": 4,
 "nbformat_minor": 2
}
