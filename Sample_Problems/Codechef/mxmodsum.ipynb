{
 "cells": [
  {
   "cell_type": "code",
   "execution_count": null,
   "metadata": {},
   "outputs": [],
   "source": [
    "#Maximum Pairwise Modular Sum\n",
    "\n",
    "# You are given an array A containing N integers, and a positive integer M. Find the maximum value of\n",
    "# Ai+Aj+((Ai−Aj)modM)\n",
    "# across all pairs 1≤i,j≤N.\n",
    "\n",
    "# Note that xmodM refers to the smallest non-negative integer obtained as the remainder upon dividing x by M. For example, 4mod3=1 and (−10)mod3=2.\n",
    "\n",
    "# Input Format\n",
    "# The first line of input will contain a single integer T, the number of test cases. The description of test cases follows.\n",
    "# Each test case consists of two lines of input.\n",
    "# The first line of each test case contains two space-separated integers N and M.\n",
    "# The second line of each test case contains N space-separated integers A1,A2,…,AN.\n",
    "# Output Format\n",
    "# For each test case, output on a new line the maximum value of Ai+Aj+((Ai−Aj)modM).\n",
    "# Constraints\n",
    "# 1≤T≤100\n",
    "# 2≤N≤2⋅105\n",
    "# 2≤M≤5⋅108\n",
    "# 0≤Ai≤5⋅108\n",
    "# The sum of N across all test cases won't exceed 2⋅105.\n",
    "# Subtasks\n",
    "# Subtask 1 (10 points):\n",
    "# The sum of N across all test cases won't exceed 1000\n",
    "# Subtask 2 (20 points):\n",
    "# 2≤M≤1000\n",
    "# Subtask 3 (70 points):\n",
    "# Original constraints\n",
    "# Sample Input 1 \n",
    "# 4\n",
    "# 2 18\n",
    "# 12 1\n",
    "# 3 5\n",
    "# 4 5 6\n",
    "# 5 4\n",
    "# 79 29 80 58 80\n",
    "# 3 20\n",
    "# 33 46 56\n",
    "# Sample Output 1 \n",
    "# 24\n",
    "# 15\n",
    "# 162\n",
    "# 112\n",
    "# Explanation\n",
    "# Test case 1: There are 4 possible pairs of indices to choose from. Their respective values are:\n",
    "\n",
    "# i=1,j=1, giving 12+12+((12−12)mod18)=24+0=24\n",
    "# i=1,j=2, giving 12+1+((12−1)mod18)=13+11=24\n",
    "# i=2,j=1, giving 1+12+((1−12)mod18)=13+7=20\n",
    "# i=2,j=2, giving 1+1+((1−1)mod18)=2+0=2\n",
    "# Of these, the largest value is 24.\n",
    "\n",
    "# Test case 2: There are 3×3=9 choices for pairs (i,j). Of these, one way to achieve the maximum is by choosing i=2,j=3, giving 5+6+((5−6)mod5)=11+4=15.\n",
    "\n",
    "# Test case 3: Picking i=1,j=3 gives a value of 79+80+((79−80)mod4)=159+3=162, which is the largest possible.\n",
    "\n",
    "# Test case 4: Picking i=3,j=2 gives a value of 56+46+((56−46)mod20)=102+10=112, which is the largest possible."
   ]
  },
  {
   "cell_type": "code",
   "execution_count": null,
   "metadata": {},
   "outputs": [],
   "source": [
    "# #Solution\n",
    "# 1) perform list sort\n",
    "# 2) calculate max for highest value pairwise\n",
    "# 3) return highest value"
   ]
  },
  {
   "cell_type": "code",
   "execution_count": 14,
   "metadata": {},
   "outputs": [
    {
     "name": "stdout",
     "output_type": "stream",
     "text": [
      "24\n",
      "15\n",
      "162\n",
      "112\n"
     ]
    }
   ],
   "source": [
    "results = []\n",
    "for trials in range(int(input())):\n",
    "    n, m = map(int,input().split())\n",
    "    lnum = list(map(int,input().split()))\n",
    "    # print(f\"{n} and {m}\")\n",
    "    \n",
    "    #remove dupes\n",
    "    snum = []\n",
    "    for i in lnum:\n",
    "        if i not in snum:\n",
    "            snum.append(i)\n",
    "\n",
    "    snum.sort(reverse=True) #sort in descending order\n",
    " \n",
    "    results.append(None)\n",
    "    calc_1 = snum[0] + snum[1] + ((snum[0] - snum[1])%m)\n",
    "    calc_2 = snum[1] + snum[0] + ((snum[1] - snum[0])%m)\n",
    "    \n",
    "    results[trials] = max(calc_1, calc_2)\n",
    "for result in results:\n",
    "    print(result)"
   ]
  },
  {
   "cell_type": "code",
   "execution_count": 12,
   "metadata": {},
   "outputs": [
    {
     "data": {
      "text/plain": [
       "{4, 6}"
      ]
     },
     "execution_count": 12,
     "metadata": {},
     "output_type": "execute_result"
    }
   ],
   "source": [
    "n, m = 3, 5\n",
    "lnum = [4, 6, 6]\n",
    "\n",
    "lnum = set(lnum)\n",
    "\n",
    "lnum\n",
    "# calc_1 = lnum[0] + lnum[1] + ((lnum[0] - lnum[1]) % m)\n",
    "# calc_2 = lnum[1] + lnum[0] + ((lnum[1] - lnum[0]) % m)\n",
    "\n",
    "# print(f\"Calcualted values are {calc_1} and {calc_2}\")"
   ]
  }
 ],
 "metadata": {
  "interpreter": {
   "hash": "18a88444c60b15ade15f3b7412e27f94167feb3c1614f51d86ea18cdd9c556c6"
  },
  "kernelspec": {
   "display_name": "Python 3.10.4 ('ML')",
   "language": "python",
   "name": "python3"
  },
  "language_info": {
   "codemirror_mode": {
    "name": "ipython",
    "version": 3
   },
   "file_extension": ".py",
   "mimetype": "text/x-python",
   "name": "python",
   "nbconvert_exporter": "python",
   "pygments_lexer": "ipython3",
   "version": "3.10.4"
  },
  "orig_nbformat": 4
 },
 "nbformat": 4,
 "nbformat_minor": 2
}
