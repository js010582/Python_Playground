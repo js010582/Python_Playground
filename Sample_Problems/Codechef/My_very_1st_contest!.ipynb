{
 "cells": [
  {
   "cell_type": "code",
   "execution_count": null,
   "metadata": {},
   "outputs": [],
   "source": [
    "# Each contest - there are approximately 1500 - 2000 users who participate for the 1st time and get rated.\n",
    "\n",
    "# The Chef wanted to tell new users some tricks for their 1st contest:\n",
    "\n",
    "# Before the contest - you don’t have any rating. So even if you make a single submission - you will become part of the contest rank list and you will get a rating.\n",
    "# If you want your rating to increase - give the entire 3 hours to the contest & don’t quit! If you keep trying till the end, and the more time you get, the more problems you can solve. That means larger rating increases!\n",
    "# Do not ask your friends for their code. If you copy paste their code, you will get caught during plagiarism checks and your rating will be reduced by 275 points, along with a permanent black mark on your profile.\n",
    "# Now to the problem:\n",
    "\n",
    "# In a contest where N new users visited the contest,\n",
    "\n",
    "# A users just saw the problems and didn’t make any submissions and hence won’t get any rating.\n",
    "# B users who made a submission but could not solve any problem correctly. Thus, after the contest, they will get a rating in the range 800−1000.\n",
    "# Everyone else could correctly solve at least 1 problem. Thus, they will get a rating strictly greater than 1000 after the contest.\n",
    "# You need to output the number of new users in the contest who, after the contest, will get a rating and also the number of new users who will get a rating strictly greater than 1000.\n",
    "\n",
    "# Input Format\n",
    "# Each input file contains of a single line, with three integers N,A and B - the number of new users, the number of users who just saw the problem and didn't make any submission, and the number of users who made a submission but could not solve any problem correctly.\n",
    "# Output Format\n",
    "# Output two integers separated by a space in a single line - the number of new users who will get a rating at the end of the contest and the number of new users who will get a rating higher than 1000.\n",
    "\n",
    "# Constraints\n",
    "# 2≤N≤1000\n",
    "# 1≤A≤1000\n",
    "# 1≤B≤1000\n",
    "# A+B≤N\n",
    "# Sample Input 1 \n",
    "# 10 3 2\n",
    "# Sample Output 1 \n",
    "# 7 5\n",
    "# Explanation\n",
    "# There were 10 new users. Among those 10, 3 didn't make any submissions. This means that the other 10−3=7 users made submissions and will get a rating. This is the first integer of the output.\n",
    "\n",
    "# Now, among these 7 users, 2 couldn't solve any problem even though they submitted and tried. So, they will get a rating less than equal to 1000. The other 7−2=5 users were able to solve at least 1 problem and hence will get a rating greater than 1000. Hence, the second integer of the output is 5.\n",
    "\n",
    "# Sample Input 2 \n",
    "# 10 4 1\n",
    "# Sample Output 2 \n",
    "# 6 5\n",
    "# Explanation\n",
    "# There were 10 new users. Among those 10, 4 didn't make any submissions. This means that the other 10−4=6 users made submissions and will get a rating. This is the first integer of the output.\n",
    "\n",
    "# Now, among these 6 users, 1 couldn't solve any problem even though they submitted and tried. So, they will get a rating less than equal to 1000. The other 6−1=5 users were able to solve at least 1 problem and hence will get a rating greater than 1000. Hence, the second integer of the output is 5.\n",
    "\n",
    "# Sample Input 3 \n",
    "# 20 1 2\n",
    "# Sample Output 3 \n",
    "# 19 17\n",
    "# Explanation\n",
    "# There were 20 new users. Among those 20, 1 didn't make any submissions. This means that the other 20−1=19 users made submissions and will get a rating. This is the first integer of the output.\n",
    "\n",
    "# Now, among these 19 users, 2 couldn't solve any problem even though they submitted and tried. So, they will get a rating less than equal to 1000. The other 19−2=17 users were able to solve at least 1 problem and hence will get a rating greater than 1000. Hence, the second integer of the output is 17.\n",
    "\n",
    "# Sample Input 4 \n",
    "# 1000 300 700\n",
    "# Sample Output 4 \n",
    "# 700 0\n",
    "# Explanation\n",
    "# There were 1000 new users. Among those 1000, 300 didn't make any submissions. This means that the other 1000−300=700 users made submissions and will get a rating. This is the first integer of the output.\n",
    "\n",
    "# Now, among these 700 users, 700 couldn't solve any problem even though they submitted and tried. So, they will get a rating less than equal to 1000. The other 700−700=0 users were able to solve at least 1 problem and hence will get a rating greater than 1000. Hence, the second integer of the output is 0."
   ]
  },
  {
   "cell_type": "code",
   "execution_count": 4,
   "metadata": {},
   "outputs": [
    {
     "name": "stdout",
     "output_type": "stream",
     "text": [
      "6 5\n"
     ]
    }
   ],
   "source": [
    "\n",
    "userinput = list(map(int,input().split(' ')))\n",
    "results = []\n",
    "\n",
    "results.append(userinput[0]-userinput[1])\n",
    "results.append(userinput[0]-userinput[1]-userinput[2])\n",
    "\n",
    "print(*results)"
   ]
  },
  {
   "cell_type": "code",
   "execution_count": null,
   "metadata": {},
   "outputs": [],
   "source": [
    "# Alice has recently started playing Chess. Her current rating is X. She noticed that when she wins a game, her rating increases by 8 points.\n",
    "\n",
    "# Can you help Alice in finding out the minimum number of games she needs to win in order to make her rating greater than or equal to Y?\n",
    "\n",
    "# Input Format\n",
    "# The first line of input will contain an integer T — the number of test cases. The description of T test cases follows.\n",
    "# The first line of each test case contains two integers X and Y, as described in the problem statement.\n",
    "# Output Format\n",
    "# For each test case, output the minimum number of games that Alice needs to win in order to make her rating greater than or equal to Y.\n",
    "\n",
    "# Constraints\n",
    "# 1≤T≤104\n",
    "# 1≤X≤Y≤104\n",
    "# Sample Input 1 \n",
    "# 4\n",
    "# 10 10\n",
    "# 10 17\n",
    "# 10 18\n",
    "# 10 19\n",
    "# Sample Output 1 \n",
    "# 0\n",
    "# 1\n",
    "# 1\n",
    "# 2\n",
    "# Explanation\n",
    "# Test case 1: Since Alice's current rating X is already equal to her desired rating Y, she doesn't need to win any game.\n",
    "\n",
    "# Test case 2: Alice's current rating is 10. After winning 1 game, her rating will become 10+8=18, which is greater than her desired rating of 17. Thus, she has to win at least 1 game.\n",
    "\n",
    "# Test case 3: Alice's current rating is 10. After winning 1 game, her rating will become 10+8=18, which is equal to her desired rating of 18. Thus, she has to win at least 1 game.\n",
    "\n",
    "# Test case 4: Alice's current rating is 10. After winning 1 game, her rating will become 18, which is less than her desired rating of 19. She will need to win one more game in order to make her rating 26, which is greater than 19. Thus, she has to win at least 2 games."
   ]
  },
  {
   "cell_type": "code",
   "execution_count": 19,
   "metadata": {},
   "outputs": [
    {
     "name": "stdout",
     "output_type": "stream",
     "text": [
      "0\n",
      "1\n",
      "1\n",
      "2\n"
     ]
    }
   ],
   "source": [
    "from math import ceil\n",
    "\n",
    "T = int(input())\n",
    "results = []\n",
    "\n",
    "for elements in range(T):\n",
    "    current, score = map(int,input().split(' '))\n",
    "    if current >= score:\n",
    "        results.append(0)\n",
    "    else:\n",
    "        results.append(int(ceil((score - current)/8)))\n",
    "    \n",
    "for result in results:\n",
    "    print(result)"
   ]
  }
 ],
 "metadata": {
  "interpreter": {
   "hash": "18a88444c60b15ade15f3b7412e27f94167feb3c1614f51d86ea18cdd9c556c6"
  },
  "kernelspec": {
   "display_name": "Python 3.10.4 ('ML')",
   "language": "python",
   "name": "python3"
  },
  "language_info": {
   "codemirror_mode": {
    "name": "ipython",
    "version": 3
   },
   "file_extension": ".py",
   "mimetype": "text/x-python",
   "name": "python",
   "nbconvert_exporter": "python",
   "pygments_lexer": "ipython3",
   "version": "3.10.4"
  },
  "orig_nbformat": 4
 },
 "nbformat": 4,
 "nbformat_minor": 2
}
