{
 "cells": [
  {
   "cell_type": "code",
   "execution_count": null,
   "metadata": {},
   "outputs": [],
   "source": [
    "# Lots of geeky customers visit our chef's restaurant everyday. So, when asked to fill the feedback form, these customers represent the feedback using a binary string (i.e a string that contains only characters '0' and '1'.\n",
    "\n",
    "# Now since chef is not that great in deciphering binary strings, he has decided the following criteria to classify the feedback as Good or Bad :\n",
    "\n",
    "\n",
    "# If the string contains the substring \"010\" or \"101\", then the feedback is Good, else it is Bad. Note that, to be Good it is not necessary to have both of them as substring.\n",
    "\n",
    "\n",
    "# So given some binary strings, you need to output whether according to the chef, the strings are Good or Bad.\n",
    "\n",
    "# Input\n",
    "# The first line contains an integer T denoting the number of feedbacks. Each of the next T lines contains a string composed of only '0' and '1'.\n",
    "\n",
    "# Output\n",
    "# For every test case, print in a single line Good or Bad as per the Chef's method of classification.\n",
    "\n",
    "# Constraints\n",
    "# 1 ≤ T ≤ 100\n",
    "# 1 ≤ |S| ≤ 105\n",
    "\n",
    "# Sum of length of all strings in one test file will not exceed 6*106.\n",
    "# Sample 1:\n",
    "# Input\n",
    "# Output\n",
    "# 2\n",
    "# 11111110\n",
    "# 10101010101010\n",
    "# Bad\n",
    "# Good\n",
    "# Explanation:\n",
    "# Example case 1.\n",
    "# The string doesn't contain 010 or 101 as substrings.\n",
    "\n",
    "# Example case 2.\n",
    "# The string contains both 010 and 101 as substrings."
   ]
  },
  {
   "cell_type": "markdown",
   "metadata": {},
   "source": [
    "#### Solution Steps\n",
    "1) Store \"010 and 101\" into an array list to be later used to compare the input string against.\n",
    "2) If input str is less than 3 strings output bad.\n",
    "\n",
    "\n"
   ]
  },
  {
   "cell_type": "code",
   "execution_count": 25,
   "metadata": {},
   "outputs": [
    {
     "ename": "TypeError",
     "evalue": "'int' object is not callable",
     "output_type": "error",
     "traceback": [
      "\u001b[0;31m---------------------------------------------------------------------------\u001b[0m",
      "\u001b[0;31mTypeError\u001b[0m                                 Traceback (most recent call last)",
      "\u001b[1;32m/home/js010582/git_work_workspace/Python_Playground/Sample_Problems/Codechef/Chef and Feedback.ipynb Cell 3'\u001b[0m in \u001b[0;36m<cell line: 4>\u001b[0;34m()\u001b[0m\n\u001b[1;32m      <a href='vscode-notebook-cell:/home/js010582/git_work_workspace/Python_Playground/Sample_Problems/Codechef/Chef%20and%20Feedback.ipynb#ch0000002?line=0'>1</a>\u001b[0m goodstr \u001b[39m=\u001b[39m [\u001b[39m'\u001b[39m\u001b[39m010\u001b[39m\u001b[39m'\u001b[39m,\u001b[39m'\u001b[39m\u001b[39m101\u001b[39m\u001b[39m'\u001b[39m]\n\u001b[1;32m      <a href='vscode-notebook-cell:/home/js010582/git_work_workspace/Python_Playground/Sample_Problems/Codechef/Chef%20and%20Feedback.ipynb#ch0000002?line=1'>2</a>\u001b[0m passlen \u001b[39m=\u001b[39m \u001b[39m3\u001b[39m\n\u001b[0;32m----> <a href='vscode-notebook-cell:/home/js010582/git_work_workspace/Python_Playground/Sample_Problems/Codechef/Chef%20and%20Feedback.ipynb#ch0000002?line=3'>4</a>\u001b[0m T \u001b[39m=\u001b[39m \u001b[39mint\u001b[39m(\u001b[39minput\u001b[39;49m())\n\u001b[1;32m      <a href='vscode-notebook-cell:/home/js010582/git_work_workspace/Python_Playground/Sample_Problems/Codechef/Chef%20and%20Feedback.ipynb#ch0000002?line=4'>5</a>\u001b[0m inputs \u001b[39m=\u001b[39m \u001b[39mlist\u001b[39m(\u001b[39mmap\u001b[39m(\u001b[39mstr\u001b[39m,\u001b[39minput\u001b[39m()\u001b[39m.\u001b[39msplit()))\n\u001b[1;32m      <a href='vscode-notebook-cell:/home/js010582/git_work_workspace/Python_Playground/Sample_Problems/Codechef/Chef%20and%20Feedback.ipynb#ch0000002?line=5'>6</a>\u001b[0m \u001b[39m# print(inputs[0][1])\u001b[39;00m\n",
      "\u001b[0;31mTypeError\u001b[0m: 'int' object is not callable"
     ]
    }
   ],
   "source": [
    "goodstr = ['010','101']\n",
    "passlen = 3\n",
    "\n",
    "T = int(input())\n",
    "inputs = list(map(str,input().split()))\n",
    "# print(inputs[0][1])\n",
    "results = []\n",
    "\n",
    "for tests in range(T):\n",
    "    for input in range(len(inputs[tests])):\n",
    "        print(f\"Going through {input[input]}\")\n",
    "    \n",
    "    # for string in range(len(goodstr)): # Compare to each string in goodstr e.g. string[0][*]\n",
    "    #     print(string)\n",
    "    #     for element in range(inputs)\n",
    "\n",
    "    \n"
   ]
  },
  {
   "cell_type": "code",
   "execution_count": 11,
   "metadata": {},
   "outputs": [
    {
     "name": "stdout",
     "output_type": "stream",
     "text": [
      "2\n"
     ]
    }
   ],
   "source": [
    "print(len(goodstr))"
   ]
  }
 ],
 "metadata": {
  "interpreter": {
   "hash": "18a88444c60b15ade15f3b7412e27f94167feb3c1614f51d86ea18cdd9c556c6"
  },
  "kernelspec": {
   "display_name": "Python 3.10.4 ('ML')",
   "language": "python",
   "name": "python3"
  },
  "language_info": {
   "codemirror_mode": {
    "name": "ipython",
    "version": 3
   },
   "file_extension": ".py",
   "mimetype": "text/x-python",
   "name": "python",
   "nbconvert_exporter": "python",
   "pygments_lexer": "ipython3",
   "version": "3.10.4"
  },
  "orig_nbformat": 4
 },
 "nbformat": 4,
 "nbformat_minor": 2
}
