{
 "cells": [
  {
   "cell_type": "code",
   "execution_count": 1,
   "metadata": {},
   "outputs": [],
   "source": [
    "# Chef is judging a game called \"Broken telephone\". There are total N players taking part in the game. They are all sitting in a line. In the start of the game, first player is given a secret message written on a sheet of paper. Then they keep sending the message by whispering it to the player sitting immediate right to one and so on until it reaches the last person.\n",
    "\n",
    "# Finally, the message received by the last player is compared with the message said by first player. If these messages aren't equal, there is someone who has misheard the message or whispered it wrongly to the next player. If messages is equal, then the players win and receive a tasty chocolate.\n",
    "\n",
    "# Note that first player receives the message on a sheet of paper, thus he cannot mishear it.\n",
    "\n",
    "# As Chef wants to be sure that every player has fulfilled his/ her role in the game, so he asks everyone to state their received messages after the end of the game. You are given an array A of N integers denoting messages received by each person.\n",
    "\n",
    "# Please help Chef to find the number of players that could mishear the message or whisper it wrongly.\n",
    "\n",
    "# Input\n",
    "# The first line of the input contains an integer T denoting the number of test cases.\n",
    "# The first line of each test case contains a single integer N denoting the number of players\n",
    "# The second line contains N space-separated integers A1, A2, ..., AN denoting the messages of players.\n",
    "# Output\n",
    "# For each test case, output a single line containing an integer corresponding to the number of players that could mishear the message or whisper it wrongly.\n",
    "# Constraints and Subtasks\n",
    "# 1 ≤ T ≤ 5\n",
    "# 1 ≤ Ai ≤ 109\n",
    "# Subtask 1: 40 points\n",
    "\n",
    "# 2 ≤ N ≤ 103\n",
    "# Subtask 2: 60 points\n",
    "\n",
    "# 2 ≤ N ≤ 105\n",
    "# Sample 1:\n",
    "# Input\n",
    "# Output\n",
    "# 3\n",
    "# 7\n",
    "# 1 1 1 3 3 3 2\n",
    "# 5\n",
    "# 1 3 1 1 1\n",
    "# 4\n",
    "# 5 5 5 5\n",
    "# 4\n",
    "# 3\n",
    "# 0\n",
    "# Explanation:\n",
    "# Example 1: The 3-rd, 4-th, 6-th and 7-th player could mishear the message or whisper it wrongly.\n",
    "# Example 2: First 3 players could mishear the message or whisper it wrongly."
   ]
  },
  {
   "cell_type": "code",
   "execution_count": 20,
   "metadata": {},
   "outputs": [
    {
     "name": "stdout",
     "output_type": "stream",
     "text": [
      "4\n",
      "3\n",
      "0\n"
     ]
    }
   ],
   "source": [
    "results = []\n",
    "for trials in range(int(input())):\n",
    "\n",
    "    input_total = int(input())\n",
    "    input_array = list(map(int,input().split()))\n",
    "    \n",
    "    #sets counter to keep track of miscommunication\n",
    "    counter = 0\n",
    "    answer = True\n",
    "\n",
    "    for count in range(0,input_total-1):\n",
    "\n",
    "        if answer == True and input_array[count] != input_array[count+1]:\n",
    "            counter +=2\n",
    "            answer = False\n",
    "        \n",
    "        elif answer == False and input_array[count] != input_array[count+1]:\n",
    "            counter +=1\n",
    "        \n",
    "        elif answer == False and input_array[count] == input_array[count+1]:\n",
    "            answer = True\n",
    "  \n",
    "    results.append(counter)\n",
    "\n",
    "for item in results:\n",
    "    print(item)"
   ]
  },
  {
   "cell_type": "code",
   "execution_count": 10,
   "metadata": {},
   "outputs": [
    {
     "data": {
      "text/plain": [
       "[0]"
      ]
     },
     "execution_count": 10,
     "metadata": {},
     "output_type": "execute_result"
    }
   ],
   "source": [
    "results"
   ]
  }
 ],
 "metadata": {
  "interpreter": {
   "hash": "18a88444c60b15ade15f3b7412e27f94167feb3c1614f51d86ea18cdd9c556c6"
  },
  "kernelspec": {
   "display_name": "Python 3.10.4 ('ML')",
   "language": "python",
   "name": "python3"
  },
  "language_info": {
   "codemirror_mode": {
    "name": "ipython",
    "version": 3
   },
   "file_extension": ".py",
   "mimetype": "text/x-python",
   "name": "python",
   "nbconvert_exporter": "python",
   "pygments_lexer": "ipython3",
   "version": "3.10.4"
  },
  "orig_nbformat": 4
 },
 "nbformat": 4,
 "nbformat_minor": 2
}
