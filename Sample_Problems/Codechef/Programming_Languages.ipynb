{
 "cells": [
  {
   "cell_type": "code",
   "execution_count": null,
   "metadata": {},
   "outputs": [
    {
     "ename": "",
     "evalue": "",
     "output_type": "error",
     "traceback": [
      "\u001b[1;31mRunning cells with 'Python 3.10.4 64-bit' requires ipykernel package.\n",
      "Run the following command to install 'ipykernel' into the Python environment. \n",
      "Command: '/bin/python3 -m pip install ipykernel -U --user --force-reinstall'"
     ]
    }
   ],
   "source": [
    "# Chef is a software developer, so he has to switch between different languages sometimes. Each programming language has some features, which are represented by integers here.\n",
    "\n",
    "# Currently, Chef has to use a language with two given features A and B. He has two options --- switching to a language with two features A1 and B1, or to a language with two features A2 and B2. All four features of these two languages are pairwise distinct.\n",
    "\n",
    "# Tell Chef whether he can use the first language, the second language or neither of these languages (if no single language has all the required features).\n",
    "\n",
    "# Input Format\n",
    "# The first line of the input contains a single integer T denoting the number of test cases. The description of T test cases follows.\n",
    "# The first and only line of each test case contains six space-separated integers A,B,A1,B1,A2,B2.\n",
    "# Output Format\n",
    "# For each test case, print a single line containing the integer 1 if Chef should switch to the first language, or 2 if Chef should switch to the second language, or 0 if Chef cannot switch to either language.\n",
    "\n",
    "# Constraints\n",
    "# 1≤T≤288\n",
    "# 1≤A,B,A1,B1,A2,B2≤4\n",
    "# A,B are distinct\n",
    "# A1,B1,A2,B2 are pairwise distinct\n",
    "# Subtasks\n",
    "# Subtask #1 (100 points): original constraints\n",
    "\n",
    "# Sample Input 1 \n",
    "# 3\n",
    "# 1 2 2 1 3 4\n",
    "# 3 4 2 1 4 3\n",
    "# 1 2 1 3 2 4\n",
    "# Sample Output 1 \n",
    "# 1\n",
    "# 2\n",
    "# 0\n",
    "# Explanation\n",
    "# Example case 1: The first language has the required features --- features 1 and 2.\n",
    "\n",
    "# Example case 2: The second language has the required features --- features 3 and 4.\n",
    "\n",
    "# Example case 3: Neither language has both features 1 and 2."
   ]
  }
 ],
 "metadata": {
  "interpreter": {
   "hash": "01823a5abaf8ad4f4cb94e693e943acbf3bedc50944c5169259d585e54326848"
  },
  "kernelspec": {
   "display_name": "Python 3.10.4 ('jovianml')",
   "language": "python",
   "name": "python3"
  },
  "language_info": {
   "name": "python",
   "version": "3.10.4"
  },
  "orig_nbformat": 4
 },
 "nbformat": 4,
 "nbformat_minor": 2
}
