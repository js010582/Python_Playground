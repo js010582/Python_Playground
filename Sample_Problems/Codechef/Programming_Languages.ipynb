{
 "cells": [
  {
   "cell_type": "code",
   "execution_count": 2,
   "metadata": {},
   "outputs": [],
   "source": [
    "# Chef is a software developer, so he has to switch between different languages sometimes. Each programming language has some features, which are represented by integers here.\n",
    "\n",
    "# Currently, Chef has to use a language with two given features A and B. He has two options --- switching to a language with two features A1 and B1, or to a language with two features A2 and B2. All four features of these two languages are pairwise distinct.\n",
    "\n",
    "# Tell Chef whether he can use the first language, the second language or neither of these languages (if no single language has all the required features).\n",
    "\n",
    "# Input Format\n",
    "# The first line of the input contains a single integer T denoting the number of test cases. The description of T test cases follows.\n",
    "# The first and only line of each test case contains six space-separated integers A,B,A1,B1,A2,B2.\n",
    "# Output Format\n",
    "# For each test case, print a single line containing the integer 1 if Chef should switch to the first language, or 2 if Chef should switch to the second language, or 0 if Chef cannot switch to either language.\n",
    "\n",
    "# Constraints\n",
    "# 1≤T≤288\n",
    "# 1≤A,B,A1,B1,A2,B2≤4\n",
    "# A,B are distinct\n",
    "# A1,B1,A2,B2 are pairwise distinct\n",
    "# Subtasks\n",
    "# Subtask #1 (100 points): original constraints\n",
    "\n",
    "# Sample Input 1 \n",
    "# 3\n",
    "# 1 2 2 1 3 4\n",
    "# 3 4 2 1 4 3\n",
    "# 1 2 1 3 2 4\n",
    "# Sample Output 1 \n",
    "# 1\n",
    "# 2\n",
    "# 0\n",
    "# Explanation\n",
    "# Example case 1: The first language has the required features --- features 1 and 2.\n",
    "\n",
    "# Example case 2: The second language has the required features --- features 3 and 4.\n",
    "\n",
    "# Example case 3: Neither language has both features 1 and 2."
   ]
  },
  {
   "cell_type": "code",
   "execution_count": 23,
   "metadata": {},
   "outputs": [
    {
     "name": "stdout",
     "output_type": "stream",
     "text": [
      "nomatch\n"
     ]
    }
   ],
   "source": [
    "x = 1\n",
    "y = 1\n",
    "\n",
    "if (x == 1 and y == 2):\n",
    "    print(\"match\")\n",
    "else:\n",
    "    print(\"nomatch\")"
   ]
  },
  {
   "cell_type": "code",
   "execution_count": 1,
   "metadata": {},
   "outputs": [],
   "source": [
    "# Steps to solution\n",
    "1) Enter (T) single integer number of test\n",
    "2) Loop through total (T), Enter String of numbers and store into array.\n",
    "3) create logic compare items 0&1 with 2/3 and 4/5 and check if there's a match. If match found store 1, else 0\n",
    "4) print results\n"
   ]
  },
  {
   "cell_type": "code",
   "execution_count": null,
   "metadata": {},
   "outputs": [],
   "source": [
    "T = int(input())\n",
    "results = [None] * T\n",
    "\n",
    "for trials in range(T):\n",
    "    DI = list(map(int,input().split(' ')))\n",
    "\n",
    "    if (DI[0] == DI[2] and DI[1] == DI[3]) or (DI[0] == DI[3] and DI[1] == DI[2]):\n",
    "        results[trials] = '1'\n",
    "    elif (DI[0] == DI[4] and DI[1] == DI[5]) or (DI[0] == DI[5] and DI[1] == DI[4]):\n",
    "        results[trials] = '2'\n",
    "    else:\n",
    "        results[trials] = '0'\n",
    "for result in results:\n",
    "    print(result)\n",
    "    \n"
   ]
  }
 ],
 "metadata": {
  "interpreter": {
   "hash": "18a88444c60b15ade15f3b7412e27f94167feb3c1614f51d86ea18cdd9c556c6"
  },
  "kernelspec": {
   "display_name": "Python 3.10.4 ('ML')",
   "language": "python",
   "name": "python3"
  },
  "language_info": {
   "codemirror_mode": {
    "name": "ipython",
    "version": 3
   },
   "file_extension": ".py",
   "mimetype": "text/x-python",
   "name": "python",
   "nbconvert_exporter": "python",
   "pygments_lexer": "ipython3",
   "version": "3.10.4"
  },
  "orig_nbformat": 4
 },
 "nbformat": 4,
 "nbformat_minor": 2
}
