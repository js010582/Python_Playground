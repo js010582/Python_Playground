{
 "cells": [
  {
   "cell_type": "code",
   "execution_count": null,
   "metadata": {},
   "outputs": [],
   "source": [
    "# Chef wants to conduct a lecture for which he needs to set up an online meeting of exactly X minutes.\n",
    "\n",
    "# The meeting platform supports a meeting of maximum 30 minutes without subscription and a meeting of unlimited duration with subscription.\n",
    "\n",
    "# Determine whether Chef needs to take a subscription or not for setting up the meet.\n",
    "\n",
    "# Input Format\n",
    "# First line will contain T, the number of test cases. Then the test cases follow.\n",
    "# Each test case contains a single integer X - denoting the duration of the lecture.\n",
    "# Output Format\n",
    "# For each test case, print in a single line, YES if Chef needs to take the subscription, otherwise print NO.\n",
    "\n",
    "# You may print each character of the string in uppercase or lowercase (for example, the strings YES, yEs, yes, and yeS will all be treated as identical).\n",
    "\n",
    "# Constraints\n",
    "# 1≤T≤100\n",
    "# 1≤X≤100\n",
    "# Sample Input 1 \n",
    "# 4\n",
    "# 50\n",
    "# 3\n",
    "# 30\n",
    "# 80\n",
    "# Sample Output 1 \n",
    "# YES\n",
    "# NO\n",
    "# NO\n",
    "# YES\n",
    "# Explanation\n",
    "# Test Case 1: Without subscription, the platform allows only 30 minutes of duration. Since Chef needs to conduct a lecture of 50 minutes, he needs to buy the subscription.\n",
    "\n",
    "# Test Case 2: Without subscription, the platform allows 30 minutes of duration. Since Chef needs to conduct a lecture of 3 minutes only, he does not need to buy the subscription.\n",
    "\n",
    "# Test Case 3: Without subscription, the platform allows 30 minutes of duration. Since Chef needs to conduct a lecture of 30 minutes only, he does not need to buy the subscription.\n",
    "\n",
    "# Test Case 4: Without subscription, the platform allows only 30 minutes of duration. Since Chef needs to conduct a lecture of 80 minutes, he needs to buy the subscription."
   ]
  },
  {
   "cell_type": "markdown",
   "metadata": {},
   "source": [
    "1) Input total tests\n",
    "2) Input series of tests separated by space\n",
    "3) If nums < int(30) "
   ]
  },
  {
   "cell_type": "code",
   "execution_count": 1,
   "metadata": {},
   "outputs": [
    {
     "ename": "ValueError",
     "evalue": "invalid literal for int() with base 10: ''",
     "output_type": "error",
     "traceback": [
      "\u001b[0;31m---------------------------------------------------------------------------\u001b[0m",
      "\u001b[0;31mValueError\u001b[0m                                Traceback (most recent call last)",
      "\u001b[1;32m/home/js010582/git_work_workspace/Python_Playground/Sample_Problems/Codechef/Get_Subscription.ipynb Cell 3'\u001b[0m in \u001b[0;36m<cell line: 1>\u001b[0;34m()\u001b[0m\n\u001b[0;32m----> <a href='vscode-notebook-cell:/home/js010582/git_work_workspace/Python_Playground/Sample_Problems/Codechef/Get_Subscription.ipynb#ch0000002?line=0'>1</a>\u001b[0m T \u001b[39m=\u001b[39m \u001b[39mint\u001b[39;49m(\u001b[39minput\u001b[39;49m())\n\u001b[1;32m      <a href='vscode-notebook-cell:/home/js010582/git_work_workspace/Python_Playground/Sample_Problems/Codechef/Get_Subscription.ipynb#ch0000002?line=1'>2</a>\u001b[0m results \u001b[39m=\u001b[39m []\n\u001b[1;32m      <a href='vscode-notebook-cell:/home/js010582/git_work_workspace/Python_Playground/Sample_Problems/Codechef/Get_Subscription.ipynb#ch0000002?line=3'>4</a>\u001b[0m \u001b[39mfor\u001b[39;00m tests \u001b[39min\u001b[39;00m \u001b[39mrange\u001b[39m(T):\n",
      "\u001b[0;31mValueError\u001b[0m: invalid literal for int() with base 10: ''"
     ]
    }
   ],
   "source": [
    "T = int(input())\n",
    "results = []\n",
    "\n",
    "for tests in range(T):\n",
    "    nums = (int(input()))\n",
    "    \n",
    "    if nums < 31:\n",
    "        results.append(\"NO\")\n",
    "    else:\n",
    "        results.append(\"YES\")\n",
    "\n",
    "for elements in results:\n",
    "    print(elements)"
   ]
  }
 ],
 "metadata": {
  "interpreter": {
   "hash": "18a88444c60b15ade15f3b7412e27f94167feb3c1614f51d86ea18cdd9c556c6"
  },
  "kernelspec": {
   "display_name": "Python 3.10.4 ('ML')",
   "language": "python",
   "name": "python3"
  },
  "language_info": {
   "codemirror_mode": {
    "name": "ipython",
    "version": 3
   },
   "file_extension": ".py",
   "mimetype": "text/x-python",
   "name": "python",
   "nbconvert_exporter": "python",
   "pygments_lexer": "ipython3",
   "version": "3.10.4"
  },
  "orig_nbformat": 4
 },
 "nbformat": 4,
 "nbformat_minor": 2
}
