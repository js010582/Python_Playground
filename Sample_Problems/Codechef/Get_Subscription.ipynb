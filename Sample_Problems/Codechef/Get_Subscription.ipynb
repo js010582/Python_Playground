{
 "cells": [
  {
   "cell_type": "markdown",
   "metadata": {},
   "source": [
    "Chef wants to conduct a lecture for which he needs to set up an online meeting of exactly X minutes.\n",
    "\n",
    "The meeting platform supports a meeting of maximum 30 minutes without subscription and a meeting of unlimited duration with subscription.\n",
    "\n",
    "Determine whether Chef needs to take a subscription or not for setting up the meet.\n",
    "\n",
    "Input Format\n",
    "First line will contain T, the number of test cases. Then the test cases follow.\n",
    "Each test case contains a single integer X - denoting the duration of the lecture.\n",
    "Output Format\n",
    "For each test case, print in a single line, YES if Chef needs to take the subscription, otherwise print NO.\n",
    "\n",
    "You may print each character of the string in uppercase or lowercase (for example, the strings YES, yEs, yes, and yeS will all be treated as identical).\n",
    "\n",
    "Constraints\n",
    "1≤T≤100\n",
    "1≤X≤100\n",
    "Sample Input 1 \n",
    "4\n",
    "50\n",
    "3\n",
    "30\n",
    "80\n",
    "Sample Output 1 \n",
    "YES\n",
    "NO\n",
    "NO\n",
    "YES\n",
    "Explanation\n",
    "Test Case 1: Without subscription, the platform allows only 30 minutes of duration. Since Chef needs to conduct a lecture of 50 minutes, he needs to buy the subscription.\n",
    "\n",
    "Test Case 2: Without subscription, the platform allows 30 minutes of duration. Since Chef needs to conduct a lecture of 3 minutes only, he does not need to buy the subscription.\n",
    "\n",
    "Test Case 3: Without subscription, the platform allows 30 minutes of duration. Since Chef needs to conduct a lecture of 30 minutes only, he does not need to buy the subscription.\n",
    "\n",
    "Test Case 4: Without subscription, the platform allows only 30 minutes of duration. Since Chef needs to conduct a lecture of 80 minutes, he needs to buy the subscription."
   ]
  },
  {
   "cell_type": "markdown",
   "metadata": {},
   "source": [
    "1) Input total tests\n",
    "2) Input series of tests separated by space\n",
    "3) If nums < int(30) "
   ]
  },
  {
   "cell_type": "code",
   "execution_count": 8,
   "metadata": {},
   "outputs": [
    {
     "name": "stdout",
     "output_type": "stream",
     "text": [
      "Enter number of inputs: \n",
      "YES\n",
      "NO\n"
     ]
    }
   ],
   "source": [
    "T = int(input())\n",
    "results = []\n",
    "\n",
    "for tests in range(T):\n",
    "    nums = (int(input()))\n",
    "    \n",
    "    if nums < 31:\n",
    "        results.append(\"NO\")\n",
    "    else:\n",
    "        results.append(\"YES\")\n",
    "\n",
    "for elements in results:\n",
    "    print(elements)"
   ]
  }
 ],
 "metadata": {
  "interpreter": {
   "hash": "01823a5abaf8ad4f4cb94e693e943acbf3bedc50944c5169259d585e54326848"
  },
  "kernelspec": {
   "display_name": "Python 3.10.4 ('jovianml')",
   "language": "python",
   "name": "python3"
  },
  "language_info": {
   "codemirror_mode": {
    "name": "ipython",
    "version": 3
   },
   "file_extension": ".py",
   "mimetype": "text/x-python",
   "name": "python",
   "nbconvert_exporter": "python",
   "pygments_lexer": "ipython3",
   "version": "3.10.4"
  },
  "orig_nbformat": 4
 },
 "nbformat": 4,
 "nbformat_minor": 2
}
