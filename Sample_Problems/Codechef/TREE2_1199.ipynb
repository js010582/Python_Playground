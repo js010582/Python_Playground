{
 "cells": [
  {
   "cell_type": "code",
   "execution_count": 21,
   "metadata": {},
   "outputs": [],
   "source": [
    "# A Problem on Sticks\n",
    "\n",
    "#1 Brute force Method\n",
    "\n",
    "# 1) Remove uniques from input_a\n",
    "# 2) bubble sort input_a (longest to shortest)\n",
    "# 3) all non zeros is the total cuts required."
   ]
  },
  {
   "cell_type": "code",
   "execution_count": 20,
   "metadata": {},
   "outputs": [
    {
     "name": "stdout",
     "output_type": "stream",
     "text": [
      "2\n"
     ]
    }
   ],
   "source": [
    "for trials in range(int(input())):\n",
    "    input_n = int(input())\n",
    "    input_a = list(map(int,input().split()))\n",
    "\n",
    "    #remove uniques\n",
    "    array_list = list(set(input_a))\n",
    "       \n",
    "    counter=0\n",
    "    for elements in array_list:\n",
    "        if elements != 0:\n",
    "            counter+=1\n",
    "\n",
    "    print(counter)"
   ]
  }
 ],
 "metadata": {
  "interpreter": {
   "hash": "18a88444c60b15ade15f3b7412e27f94167feb3c1614f51d86ea18cdd9c556c6"
  },
  "kernelspec": {
   "display_name": "Python 3.10.4 ('ML')",
   "language": "python",
   "name": "python3"
  },
  "language_info": {
   "codemirror_mode": {
    "name": "ipython",
    "version": 3
   },
   "file_extension": ".py",
   "mimetype": "text/x-python",
   "name": "python",
   "nbconvert_exporter": "python",
   "pygments_lexer": "ipython3",
   "version": "3.10.4"
  },
  "orig_nbformat": 4
 },
 "nbformat": 4,
 "nbformat_minor": 2
}
