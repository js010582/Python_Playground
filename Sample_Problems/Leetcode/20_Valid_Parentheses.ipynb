{
 "cells": [
  {
   "cell_type": "code",
   "execution_count": null,
   "metadata": {},
   "outputs": [],
   "source": [
    "# Given a string s containing just the characters '(', ')', '{', '}', '[' and ']', determine if the input string is valid.\n",
    "\n",
    "# An input string is valid if:\n",
    "\n",
    "# Open brackets must be closed by the same type of brackets.\n",
    "# Open brackets must be closed in the correct order."
   ]
  },
  {
   "cell_type": "code",
   "execution_count": 37,
   "metadata": {},
   "outputs": [],
   "source": [
    "class Solution(object):\n",
    "    def isValid(self, s):\n",
    "        \"\"\"\n",
    "        :type s: str\n",
    "        :rtype: bool\n",
    "        \"\"\"\n",
    "        strqueue = []\n",
    "\n",
    "        for c in s:\n",
    "            #end if reach end of string s\n",
    "\n",
    "            if c in ['[','(','{']:\n",
    "                # print(f\"Added: {c}\")\n",
    "                strqueue.append(c)\n",
    "            elif c == ']' and len(strqueue) != 0 and strqueue[-1] == '[':\n",
    "                # print(f\"Removed: {c}\")\n",
    "                strqueue.pop()\n",
    "            elif c == ')' and len(strqueue) != 0 and strqueue[-1] == '(':\n",
    "                # print(f\"Removed: {c}\")\n",
    "                strqueue.pop()\n",
    "            elif c == '}' and len(strqueue) != 0 and strqueue[-1] == '{':\n",
    "                # print(f\"Removed: {c}\")\n",
    "                strqueue.pop()\n",
    "            else:\n",
    "                return False\n",
    "        \n",
    "        return strqueue == []\n",
    "        \n"
   ]
  },
  {
   "cell_type": "code",
   "execution_count": 38,
   "metadata": {},
   "outputs": [
    {
     "data": {
      "text/plain": [
       "False"
      ]
     },
     "execution_count": 38,
     "metadata": {},
     "output_type": "execute_result"
    }
   ],
   "source": [
    "# str = '()[]{}'\n",
    "# str = '(]'\n",
    "str = ']'\n",
    "\n",
    "solve = Solution()\n",
    "solve.isValid(str)"
   ]
  },
  {
   "cell_type": "code",
   "execution_count": 35,
   "metadata": {},
   "outputs": [
    {
     "ename": "IndexError",
     "evalue": "list index out of range",
     "output_type": "error",
     "traceback": [
      "\u001b[0;31m---------------------------------------------------------------------------\u001b[0m",
      "\u001b[0;31mIndexError\u001b[0m                                Traceback (most recent call last)",
      "\u001b[1;32m/home/js010582/git_work_workspace/Python_Playground/Sample_Problems/Leetcode/20_Valid_Parentheses.ipynb Cell 4'\u001b[0m in \u001b[0;36m<cell line: 5>\u001b[0;34m()\u001b[0m\n\u001b[1;32m      <a href='vscode-notebook-cell:/home/js010582/git_work_workspace/Python_Playground/Sample_Problems/Leetcode/20_Valid_Parentheses.ipynb#ch0000003?line=0'>1</a>\u001b[0m \u001b[39mstr\u001b[39m \u001b[39m=\u001b[39m []\n\u001b[1;32m      <a href='vscode-notebook-cell:/home/js010582/git_work_workspace/Python_Playground/Sample_Problems/Leetcode/20_Valid_Parentheses.ipynb#ch0000003?line=2'>3</a>\u001b[0m \u001b[39m# str.append('f')\u001b[39;00m\n\u001b[0;32m----> <a href='vscode-notebook-cell:/home/js010582/git_work_workspace/Python_Playground/Sample_Problems/Leetcode/20_Valid_Parentheses.ipynb#ch0000003?line=4'>5</a>\u001b[0m \u001b[39mprint\u001b[39m(\u001b[39mstr\u001b[39;49m[\u001b[39m-\u001b[39;49m\u001b[39m1\u001b[39;49m])\n",
      "\u001b[0;31mIndexError\u001b[0m: list index out of range"
     ]
    }
   ],
   "source": [
    "str = []\n",
    "\n",
    "# str.append('f')\n",
    "\n",
    "print(str[-1])"
   ]
  }
 ],
 "metadata": {
  "kernelspec": {
   "display_name": "Python 3.10.4 ('ML')",
   "language": "python",
   "name": "python3"
  },
  "language_info": {
   "codemirror_mode": {
    "name": "ipython",
    "version": 3
   },
   "file_extension": ".py",
   "mimetype": "text/x-python",
   "name": "python",
   "nbconvert_exporter": "python",
   "pygments_lexer": "ipython3",
   "version": "3.10.4"
  },
  "orig_nbformat": 4,
  "vscode": {
   "interpreter": {
    "hash": "18a88444c60b15ade15f3b7412e27f94167feb3c1614f51d86ea18cdd9c556c6"
   }
  }
 },
 "nbformat": 4,
 "nbformat_minor": 2
}
