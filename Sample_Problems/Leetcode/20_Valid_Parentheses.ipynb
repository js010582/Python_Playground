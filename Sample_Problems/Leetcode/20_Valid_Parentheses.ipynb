{
 "cells": [
  {
   "cell_type": "code",
   "execution_count": null,
   "metadata": {},
   "outputs": [],
   "source": [
    "# Given a string s containing just the characters '(', ')', '{', '}', '[' and ']', determine if the input string is valid.\n",
    "\n",
    "# An input string is valid if:\n",
    "\n",
    "# Open brackets must be closed by the same type of brackets.\n",
    "# Open brackets must be closed in the correct order."
   ]
  },
  {
   "cell_type": "code",
   "execution_count": 17,
   "metadata": {},
   "outputs": [],
   "source": [
    "class Solution(object):\n",
    "    def isValid(self, s):\n",
    "        \"\"\"\n",
    "        :type s: str\n",
    "        :rtype: bool\n",
    "        \"\"\"\n",
    "        strqueue = []\n",
    "\n",
    "        for c in s:\n",
    "            if c in ['[','(','{']:\n",
    "                print(f\"Added: {c}\")\n",
    "                strqueue.append(c)\n",
    "            elif c == ']' and strqueue[-1] == '[':\n",
    "                print(f\"Removed: {c}\")\n",
    "                strqueue.pop()\n",
    "            elif c == ')' and strqueue[-1] == '(':\n",
    "                print(f\"Removed: {c}\")\n",
    "                strqueue.pop()\n",
    "            elif c == '}' and strqueue[-1] == '{':\n",
    "                print(f\"Removed: {c}\")\n",
    "                strqueue.pop()\n",
    "            else:\n",
    "                return 'False'\n",
    "        \n"
   ]
  },
  {
   "cell_type": "code",
   "execution_count": 19,
   "metadata": {},
   "outputs": [
    {
     "name": "stdout",
     "output_type": "stream",
     "text": [
      "Added: (\n",
      "Removed: )\n",
      "Added: [\n",
      "Added: {\n"
     ]
    }
   ],
   "source": [
    "str = \"()[]{}\"\n",
    "\n",
    "solve = Solution()\n",
    "solve.isValid(str)"
   ]
  },
  {
   "cell_type": "code",
   "execution_count": 16,
   "metadata": {},
   "outputs": [
    {
     "name": "stdout",
     "output_type": "stream",
     "text": [
      "f\n"
     ]
    }
   ],
   "source": [
    "str = []\n",
    "\n",
    "str.append('f')\n",
    "\n",
    "print(str[-1])"
   ]
  }
 ],
 "metadata": {
  "kernelspec": {
   "display_name": "Python 3.10.4 ('ML')",
   "language": "python",
   "name": "python3"
  },
  "language_info": {
   "codemirror_mode": {
    "name": "ipython",
    "version": 3
   },
   "file_extension": ".py",
   "mimetype": "text/x-python",
   "name": "python",
   "nbconvert_exporter": "python",
   "pygments_lexer": "ipython3",
   "version": "3.10.4"
  },
  "orig_nbformat": 4,
  "vscode": {
   "interpreter": {
    "hash": "18a88444c60b15ade15f3b7412e27f94167feb3c1614f51d86ea18cdd9c556c6"
   }
  }
 },
 "nbformat": 4,
 "nbformat_minor": 2
}
