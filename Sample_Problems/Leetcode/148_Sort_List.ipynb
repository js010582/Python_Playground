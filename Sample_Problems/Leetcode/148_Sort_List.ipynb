{
 "cells": [
  {
   "cell_type": "markdown",
   "metadata": {},
   "source": [
    "# Using Merge Sort to sort link list"
   ]
  },
  {
   "cell_type": "code",
   "execution_count": 98,
   "metadata": {},
   "outputs": [],
   "source": [
    "#Need a helper function to convert array of integers into a linked list\n",
    "class linkNode:\n",
    "    def __init__(self, val = None):\n",
    "        self.val = val\n",
    "        self.next = None\n",
    "\n",
    "class linkList:\n",
    "    def __init__(self):\n",
    "        self.head = None\n",
    "\n",
    "    def add(self,input):\n",
    "        newnode = linkNode() #creates new node\n",
    "        newnode.val = input #saves input variable into new node\n",
    "        newnode.next = self.head #linkes previous head to next pointer on new node\n",
    "        self.head = newnode #sets the newly created node to be the new head of list\n",
    "    \n",
    "    def show(self):\n",
    "        node = self.head\n",
    "        while node:\n",
    "            print(node.val)\n",
    "            node = node.next\n",
    "\n",
    "    #Returns link list as an array\n",
    "    def linklistarray(self,heada):\n",
    "        returnarray = []\n",
    "        while heada:\n",
    "            returnarray.append(heada.val)\n",
    "            heada = heada.next\n",
    "        return returnarray\n",
    "    \n",
    "    #Adds a list of values to link list\n",
    "    def listadd(self, heada):\n",
    "        length = len(heada) #length of list\n",
    "        for count in range(length-1,-1,-1): #iterate from end of array to begining\n",
    "            self.add(heada[count])\n",
    "    \n",
    "    def linksort(self,head):\n",
    "        if not head or not head.next:\n",
    "            return head\n",
    "\n",
    "        # splitting list into two parts\n",
    "        left = head\n",
    "        right = self.getMid(head)\n",
    "        tmp = right.next\n",
    "        right.next = None\n",
    "        right = tmp\n",
    "\n",
    "        left = self.linksort(left)\n",
    "        right = self.linksort(right)\n",
    "        return self.merge(left,right)\n",
    "    \n",
    "    def getMid(self,head):\n",
    "        slow, fast = head, head.next\n",
    "        while fast and fast.next:\n",
    "            slow = slow.next\n",
    "            fast = fast.next.next\n",
    "        return slow #item that will set the right list\n",
    "       \n",
    "    def merge(self, left, right):\n",
    "        tail = dummy = linkNode()\n",
    "        while left and right:\n",
    "            if left.val < right.val:\n",
    "                tail.next = left\n",
    "                left = left.next\n",
    "            else:\n",
    "                tail.next = right\n",
    "                right = right.next\n",
    "            tail = tail.next\n",
    "        if left:\n",
    "            tail.next = left\n",
    "        if right:\n",
    "            tail.next = right\n",
    "\n",
    "        return dummy.next"
   ]
  },
  {
   "cell_type": "code",
   "execution_count": 97,
   "metadata": {},
   "outputs": [
    {
     "name": "stdout",
     "output_type": "stream",
     "text": [
      "7\n",
      "4\n",
      "3\n",
      "1\n",
      "2\n",
      "4\n",
      "5\n",
      "6\n",
      "9\n",
      "0\n",
      "---------------\n",
      "0\n",
      "1\n",
      "2\n",
      "3\n",
      "4\n",
      "4\n",
      "5\n",
      "6\n",
      "7\n",
      "9\n"
     ]
    }
   ],
   "source": [
    "# Input: head = [4,2,1,3]\n",
    "# Output: [1,2,3,4]\n",
    "\n",
    "llist = linkList()\n",
    "llist.add(0)\n",
    "llist.add(9)\n",
    "llist.add(6)\n",
    "llist.add(5)\n",
    "llist.add(4)\n",
    "llist.add(2)\n",
    "llist.add(1)\n",
    "llist.add(3)\n",
    "llist.add(4)\n",
    "llist.add(7)\n",
    "llist.show()\n",
    "\n",
    "print(\"---------------\")\n",
    "\n",
    "newnode = linkNode()\n",
    "newnode = llist.linksort(llist.head)\n",
    "\n",
    "while newnode:\n",
    "    print(newnode.val)\n",
    "    newnode = newnode.next"
   ]
  },
  {
   "cell_type": "code",
   "execution_count": 14,
   "metadata": {},
   "outputs": [
    {
     "name": "stdout",
     "output_type": "stream",
     "text": [
      "slow is on: 2\n",
      "fast is on: 3\n"
     ]
    },
    {
     "data": {
      "text/plain": [
       "<__main__.linkNode at 0x7ff576e4e4a0>"
      ]
     },
     "execution_count": 14,
     "metadata": {},
     "output_type": "execute_result"
    }
   ],
   "source": [
    "# Input: head = [4,2,1,3]\n",
    "# Output: [1,2,3,4]\n",
    "\n",
    "llist = linkList()\n",
    "llist.add(3)\n",
    "llist.add(1)\n",
    "llist.add(2)\n",
    "llist.add(4)\n",
    "\n",
    "llist.getMid(llist.head)"
   ]
  },
  {
   "cell_type": "code",
   "execution_count": null,
   "metadata": {},
   "outputs": [],
   "source": []
  }
 ],
 "metadata": {
  "kernelspec": {
   "display_name": "Python 3.10.4 64-bit",
   "language": "python",
   "name": "python3"
  },
  "language_info": {
   "codemirror_mode": {
    "name": "ipython",
    "version": 3
   },
   "file_extension": ".py",
   "mimetype": "text/x-python",
   "name": "python",
   "nbconvert_exporter": "python",
   "pygments_lexer": "ipython3",
   "version": "3.10.4"
  },
  "orig_nbformat": 4,
  "vscode": {
   "interpreter": {
    "hash": "916dbcbb3f70747c44a77c7bcd40155683ae19c65e1c03b4aa3499c5328201f1"
   }
  }
 },
 "nbformat": 4,
 "nbformat_minor": 2
}
