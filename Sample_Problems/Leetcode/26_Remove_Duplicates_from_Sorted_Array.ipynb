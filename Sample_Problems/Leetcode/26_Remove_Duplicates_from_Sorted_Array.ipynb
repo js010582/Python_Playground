{
 "cells": [
  {
   "cell_type": "code",
   "execution_count": 3,
   "metadata": {},
   "outputs": [],
   "source": [
    "# 26. Remove Duplicates from Sorted Array\n",
    "from typing import List\n",
    "\n",
    "Input: nums = [1,1,2]\n",
    "Output: 2, nums = [1,2,_]\n",
    "Explanation: Your function should return k = 2, with the first two elements of nums being 1 and 2 respectively.\n",
    "It does not matter what you leave beyond the returned k (hence they are underscores)."
   ]
  },
  {
   "cell_type": "code",
   "execution_count": 11,
   "metadata": {},
   "outputs": [],
   "source": [
    "#Must edit item in place\n",
    "\n",
    "class Solution:\n",
    "    def removeDuplicates(self, nums: List[int]) -> int:\n",
    "        count, result, tempitem = 0, [], -101\n",
    "\n",
    "        for item in nums:\n",
    "            if tempitem != item:\n",
    "                nums[count] = item\n",
    "                count+=1\n",
    "            tempitem = item\n",
    "        \n",
    "        return count"
   ]
  },
  {
   "cell_type": "code",
   "execution_count": 13,
   "metadata": {},
   "outputs": [
    {
     "name": "stdout",
     "output_type": "stream",
     "text": [
      "3\n",
      "[1, 2, 3, 1, 1, 1, 1, 2, 2, 2, 2, 2, 3, 3, 3, 3]\n"
     ]
    }
   ],
   "source": [
    "nums = [1,1,1,1,1,1,1,2,2,2,2,2,3,3,3,3]\n",
    "\n",
    "solve = Solution()\n",
    "k = solve.removeDuplicates(nums)\n",
    "\n",
    "print(k)\n",
    "print(nums)"
   ]
  },
  {
   "cell_type": "code",
   "execution_count": null,
   "metadata": {},
   "outputs": [],
   "source": [
    "# int[] nums = [...]; // Input array\n",
    "# int[] expectedNums = [...]; // The expected answer with correct length\n",
    "\n",
    "# int k = removeDuplicates(nums); // Calls your implementation\n",
    "\n",
    "# assert k == expectedNums.length;\n",
    "# for (int i = 0; i < k; i++) {\n",
    "#     assert nums[i] == expectedNums[i];\n",
    "# }"
   ]
  },
  {
   "cell_type": "code",
   "execution_count": 2,
   "metadata": {},
   "outputs": [
    {
     "ename": "NameError",
     "evalue": "name 'List' is not defined",
     "output_type": "error",
     "traceback": [
      "\u001b[0;31m---------------------------------------------------------------------------\u001b[0m",
      "\u001b[0;31mNameError\u001b[0m                                 Traceback (most recent call last)",
      "\u001b[1;32m/home/js010582/git_workspaces/Python_Playground/Sample_Problems/Leetcode/26_Remove_Duplicates_from_Sorted_Array.ipynb Cell 4'\u001b[0m in \u001b[0;36m<cell line: 1>\u001b[0;34m()\u001b[0m\n\u001b[0;32m----> <a href='vscode-notebook-cell:/home/js010582/git_workspaces/Python_Playground/Sample_Problems/Leetcode/26_Remove_Duplicates_from_Sorted_Array.ipynb#ch0000003?line=0'>1</a>\u001b[0m \u001b[39mclass\u001b[39;00m \u001b[39mSolution\u001b[39;00m:\n\u001b[1;32m      <a href='vscode-notebook-cell:/home/js010582/git_workspaces/Python_Playground/Sample_Problems/Leetcode/26_Remove_Duplicates_from_Sorted_Array.ipynb#ch0000003?line=1'>2</a>\u001b[0m     \u001b[39mdef\u001b[39;00m \u001b[39mremoveDuplicates\u001b[39m(\u001b[39mself\u001b[39m, nums: List[\u001b[39mint\u001b[39m]) \u001b[39m-\u001b[39m\u001b[39m>\u001b[39m \u001b[39mint\u001b[39m:\n\u001b[1;32m      <a href='vscode-notebook-cell:/home/js010582/git_workspaces/Python_Playground/Sample_Problems/Leetcode/26_Remove_Duplicates_from_Sorted_Array.ipynb#ch0000003?line=2'>3</a>\u001b[0m         \u001b[39mpass\u001b[39;00m\n",
      "\u001b[1;32m/home/js010582/git_workspaces/Python_Playground/Sample_Problems/Leetcode/26_Remove_Duplicates_from_Sorted_Array.ipynb Cell 4'\u001b[0m in \u001b[0;36mSolution\u001b[0;34m()\u001b[0m\n\u001b[1;32m      <a href='vscode-notebook-cell:/home/js010582/git_workspaces/Python_Playground/Sample_Problems/Leetcode/26_Remove_Duplicates_from_Sorted_Array.ipynb#ch0000003?line=0'>1</a>\u001b[0m \u001b[39mclass\u001b[39;00m \u001b[39mSolution\u001b[39;00m:\n\u001b[0;32m----> <a href='vscode-notebook-cell:/home/js010582/git_workspaces/Python_Playground/Sample_Problems/Leetcode/26_Remove_Duplicates_from_Sorted_Array.ipynb#ch0000003?line=1'>2</a>\u001b[0m     \u001b[39mdef\u001b[39;00m \u001b[39mremoveDuplicates\u001b[39m(\u001b[39mself\u001b[39m, nums: List[\u001b[39mint\u001b[39m]) \u001b[39m-\u001b[39m\u001b[39m>\u001b[39m \u001b[39mint\u001b[39m:\n\u001b[1;32m      <a href='vscode-notebook-cell:/home/js010582/git_workspaces/Python_Playground/Sample_Problems/Leetcode/26_Remove_Duplicates_from_Sorted_Array.ipynb#ch0000003?line=2'>3</a>\u001b[0m         \u001b[39mpass\u001b[39;00m\n",
      "\u001b[0;31mNameError\u001b[0m: name 'List' is not defined"
     ]
    }
   ],
   "source": [
    "class Solution:\n",
    "    def removeDuplicates(self, nums: List[int]) -> int:\n",
    "        pass"
   ]
  }
 ],
 "metadata": {
  "kernelspec": {
   "display_name": "Python 3.10.4 ('jovianml')",
   "language": "python",
   "name": "python3"
  },
  "language_info": {
   "codemirror_mode": {
    "name": "ipython",
    "version": 3
   },
   "file_extension": ".py",
   "mimetype": "text/x-python",
   "name": "python",
   "nbconvert_exporter": "python",
   "pygments_lexer": "ipython3",
   "version": "3.10.4"
  },
  "orig_nbformat": 4,
  "vscode": {
   "interpreter": {
    "hash": "01823a5abaf8ad4f4cb94e693e943acbf3bedc50944c5169259d585e54326848"
   }
  }
 },
 "nbformat": 4,
 "nbformat_minor": 2
}
