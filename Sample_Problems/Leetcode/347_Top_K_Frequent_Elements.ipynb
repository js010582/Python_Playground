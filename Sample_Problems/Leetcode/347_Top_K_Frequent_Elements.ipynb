{
 "cells": [
  {
   "cell_type": "code",
   "execution_count": 1,
   "metadata": {},
   "outputs": [],
   "source": [
    "# Given an integer array nums and an integer k, return the k most frequent elements. You may return the answer in any order."
   ]
  },
  {
   "cell_type": "code",
   "execution_count": 26,
   "metadata": {},
   "outputs": [
    {
     "ename": "SyntaxError",
     "evalue": "invalid syntax (4034360522.py, line 7)",
     "output_type": "error",
     "traceback": [
      "\u001b[1;36m  File \u001b[1;32m\"C:\\Users\\js010582\\AppData\\Local\\Temp\\ipykernel_17256\\4034360522.py\"\u001b[1;36m, line \u001b[1;32m7\u001b[0m\n\u001b[1;33m    -[] for  ]\u001b[0m\n\u001b[1;37m             ^\u001b[0m\n\u001b[1;31mSyntaxError\u001b[0m\u001b[1;31m:\u001b[0m invalid syntax\n"
     ]
    }
   ],
   "source": [
    "from typing import List\n",
    "\n",
    "class Solution:\n",
    "    def topKFrequent(self, nums: List[int], k: int) -> List[int]:\n",
    "        numhash = {}\n",
    "        res = ['-\"?]p[;'/0\n",
    "        -[] for  ]\n",
    "        for i in nums:\n",
    "            print(f\"on {i}\")\n",
    "            numhash[i] = 1 + numhash.get(i,0)\n",
    "        for items in numhash:\n",
    "            print(f\"key: {items}\")\n",
    "            \n",
    "\n",
    "        # print(numhash)\n",
    "\n",
    "if __name__ == \"__main__\":\n",
    "    nums = [1,1,1,2,2,3,7]\n",
    "    k = 2\n",
    "\n",
    "    solve = Solution()\n",
    "    solve.topKFrequent(nums, k)"
   ]
  },
  {
   "cell_type": "code",
   "execution_count": null,
   "metadata": {},
   "outputs": [],
   "source": [
    "I'm not even sure if I like these profiles. I think i have to get use to them before i make a decision if i like them or not.ghfsdjklAHZkjlhdfsa"
   ]
  },
  {
   "cell_type": "code",
   "execution_count": null,
   "metadata": {},
   "outputs": [],
   "source": []
  }
 ],
 "metadata": {
  "kernelspec": {
   "display_name": "Python 3.7.13 ('Python_37_')",
   "language": "python",
   "name": "python3"
  },
  "language_info": {
   "codemirror_mode": {
    "name": "ipython",
    "version": 3
   },
   "file_extension": ".py",
   "mimetype": "text/x-python",
   "name": "python",
   "nbconvert_exporter": "python",
   "pygments_lexer": "ipython3",
   "version": "3.7.13"
  },
  "orig_nbformat": 4,
  "vscode": {
   "interpreter": {
    "hash": "18b1d3956e4bc07f5bda42b48ea6c804d878c969f9ec30e5a7709cfc0fa67b24"
   }
  }
 },
 "nbformat": 4,
 "nbformat_minor": 2
}
