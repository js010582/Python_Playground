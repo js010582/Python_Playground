{
 "cells": [
  {
   "cell_type": "code",
   "execution_count": null,
   "metadata": {},
   "outputs": [],
   "source": [
    "# You are given the heads of two sorted linked lists list1 and list2.\n",
    "\n",
    "# Merge the two lists in a one sorted list. The list should be made by splicing together the nodes of the first two lists.\n",
    "\n",
    "# Return the head of the merged linked list."
   ]
  },
  {
   "cell_type": "code",
   "execution_count": 62,
   "metadata": {},
   "outputs": [],
   "source": [
    "# l1 = [1,2,4]\n",
    "# l2 = [1,3,4]\n",
    "\n",
    "# create 2 pointers idx1 and idx2 to iterate through each list.\n",
    "\n",
    "# if list1.val < list2.val:\n",
    "#     set head to list1.val and point idx1 to list1.next\n",
    "# elif list2.val < list1.val:\n",
    "#     set head to list2.val and point idx2 to list2.next\n",
    "# else:\n",
    "#     return 0"
   ]
  },
  {
   "cell_type": "code",
   "execution_count": 63,
   "metadata": {},
   "outputs": [],
   "source": [
    "class Node(object):\n",
    "    def __init__(self, val=0):\n",
    "        self.val = val\n",
    "        self.next = next\n",
    "\n",
    "class Listnode:\n",
    "    def __init__(self):\n",
    "        self.head = None\n",
    "\n",
    "    def list(self):\n",
    "        node = self.head \n",
    "        while node:\n",
    "            value = node.val\n",
    "            node = node.next\n",
    "            print(value)\n",
    "    \n",
    "    def add(self,newdata):\n",
    "        newnode = Node(newdata)\n",
    "        newnode.next = self.head\n",
    "        self.head = newnode\n",
    "    \n",
    "    def multiadd(self,list1 = []):\n",
    "        print(f\"Adding items: {list1}\")\n",
    "        for item in list1:\n",
    "            newnode = Node(item)\n",
    "            newnode.next = self.head\n",
    "            self.head = newnode\n",
    "\n",
    "            "
   ]
  },
  {
   "cell_type": "code",
   "execution_count": 64,
   "metadata": {},
   "outputs": [],
   "source": [
    "# Definition for singly-linked list.\n",
    "# class ListNode(object):\n",
    "#     def __init__(self, val=0, next=None):\n",
    "#         self.val = val\n",
    "#         self.next = next\n",
    "\n",
    "class Solution(object):\n",
    "\n",
    "    def mergeTwoLists(self, list1, list2):     \n",
    "        \"\"\"\n",
    "        :type list1: Optional[ListNode]\n",
    "        :type list2: Optional[ListNode]\n",
    "        :rtype: Optional[ListNode]\n",
    "        \"\"\"\n",
    "        result, idx1, idx2 = None, None, None\n",
    "        \n",
    "        #Determine which list starts with the smallest number\n",
    "        if list1.val < list2.val:\n",
    "            print(f\"Merging: {list1.val}\")\n",
    "            result = list1\n",
    "            idx1 = list1.next\n",
    "        elif list2.val < list1.val:\n",
    "            print(f\"Merging: {list2.val}\")\n",
    "            result = list2.val \n",
    "            idx2 = list2.next\n",
    "        else:\n",
    "            pass    \n",
    "        return result\n",
    "        "
   ]
  },
  {
   "cell_type": "code",
   "execution_count": 66,
   "metadata": {},
   "outputs": [
    {
     "name": "stdout",
     "output_type": "stream",
     "text": [
      "Adding items: [8, 7, 6, 5]\n",
      "Adding items: [4, 3, 2, 1]\n",
      "Merging: 1\n"
     ]
    },
    {
     "ename": "AttributeError",
     "evalue": "'int' object has no attribute 'val'",
     "output_type": "error",
     "traceback": [
      "\u001b[0;31m---------------------------------------------------------------------------\u001b[0m",
      "\u001b[0;31mAttributeError\u001b[0m                            Traceback (most recent call last)",
      "\u001b[1;32m/home/js010582/git_work_workspace/Python_Playground/Sample_Problems/Leetcode/21_Merge_Two_Sorted_Lists.ipynb Cell 5'\u001b[0m in \u001b[0;36m<cell line: 18>\u001b[0;34m()\u001b[0m\n\u001b[1;32m     <a href='vscode-notebook-cell:/home/js010582/git_work_workspace/Python_Playground/Sample_Problems/Leetcode/21_Merge_Two_Sorted_Lists.ipynb#ch0000003?line=15'>16</a>\u001b[0m solve \u001b[39m=\u001b[39m Solution()\n\u001b[1;32m     <a href='vscode-notebook-cell:/home/js010582/git_work_workspace/Python_Playground/Sample_Problems/Leetcode/21_Merge_Two_Sorted_Lists.ipynb#ch0000003?line=16'>17</a>\u001b[0m result \u001b[39m=\u001b[39m solve\u001b[39m.\u001b[39mmergeTwoLists(idx1, idx2)\n\u001b[0;32m---> <a href='vscode-notebook-cell:/home/js010582/git_work_workspace/Python_Playground/Sample_Problems/Leetcode/21_Merge_Two_Sorted_Lists.ipynb#ch0000003?line=17'>18</a>\u001b[0m \u001b[39mprint\u001b[39m(result\u001b[39m.\u001b[39;49mval)\n",
      "\u001b[0;31mAttributeError\u001b[0m: 'int' object has no attribute 'val'"
     ]
    }
   ],
   "source": [
    "# list1 = [1,2,4]\n",
    "# list2 = [1,3,4]\n",
    "# Output: [1,1,2,3,4,4]\n",
    "\n",
    "list1, list2 = Listnode(), Listnode()\n",
    "\n",
    "list1.multiadd([8,7,6,5])\n",
    "list2.multiadd([4,3,2,1])\n",
    "\n",
    "idx1 = list1.head\n",
    "# print(idx1.val)\n",
    "# print(idx2.val)\n",
    "idx2 = list2.head\n",
    "\n",
    "\n",
    "solve = Solution()\n",
    "result = solve.mergeTwoLists(idx1, idx2)\n",
    "print(result.val)"
   ]
  }
 ],
 "metadata": {
  "kernelspec": {
   "display_name": "Python 3.10.4 ('ML')",
   "language": "python",
   "name": "python3"
  },
  "language_info": {
   "codemirror_mode": {
    "name": "ipython",
    "version": 3
   },
   "file_extension": ".py",
   "mimetype": "text/x-python",
   "name": "python",
   "nbconvert_exporter": "python",
   "pygments_lexer": "ipython3",
   "version": "3.10.4"
  },
  "orig_nbformat": 4,
  "vscode": {
   "interpreter": {
    "hash": "18a88444c60b15ade15f3b7412e27f94167feb3c1614f51d86ea18cdd9c556c6"
   }
  }
 },
 "nbformat": 4,
 "nbformat_minor": 2
}
