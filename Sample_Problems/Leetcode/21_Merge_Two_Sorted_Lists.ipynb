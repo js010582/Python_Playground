{
 "cells": [
  {
   "cell_type": "code",
   "execution_count": 1,
   "metadata": {},
   "outputs": [],
   "source": [
    "# You are given the heads of two sorted linked lists list1 and list2.\n",
    "\n",
    "# Merge the two lists in a one sorted list. The list should be made by splicing together the nodes of the first two lists.\n",
    "\n",
    "# Return the head of the merged linked list."
   ]
  },
  {
   "cell_type": "code",
   "execution_count": 2,
   "metadata": {},
   "outputs": [],
   "source": [
    "# l1 = [1,2,4]\n",
    "# l2 = [1,3,4]\n",
    "\n",
    "# create 2 pointers idx1 and idx2 to iterate through each list.\n",
    "\n",
    "# if list1.val < list2.val:\n",
    "#     set head to list1.val and point idx1 to list1.next\n",
    "# elif list2.val < list1.val:\n",
    "#     set head to list2.val and point idx2 to list2.next\n",
    "# else:\n",
    "#     return 0"
   ]
  },
  {
   "cell_type": "code",
   "execution_count": 3,
   "metadata": {},
   "outputs": [],
   "source": [
    "class Node(object):\n",
    "    def __init__(self, val=0):\n",
    "        self.val = val\n",
    "        self.next = next\n",
    "\n",
    "class Listnode:\n",
    "    def __init__(self):\n",
    "        self.head = None\n",
    "\n",
    "    def list(self):\n",
    "        node = self.head \n",
    "        while node:\n",
    "            value = node.val\n",
    "            node = node.next\n",
    "            print(value)\n",
    "    \n",
    "    def add(self,newdata):\n",
    "        newnode = Node(newdata)\n",
    "        newnode.next = self.head\n",
    "        self.head = newnode\n",
    "    \n",
    "    def multiadd(self,list1 = []):\n",
    "        print(f\"Adding items: {list1}\")\n",
    "        for item in list1:\n",
    "            newnode = Node(item)\n",
    "            newnode.next = self.head\n",
    "            self.head = newnode\n",
    "        # if list1.val < list2.val:\n",
    "        #     print(f\"Merging: {list1.val}\")\n",
    "        #     result = list1\n",
    "        #     idx1 = list1.next\n",
    "        # elif list2.val < list1.val:\n",
    "        #     print(f\"Merging: {list2.val}\")\n",
    "        #     result = list2.val \n",
    "        #     idx2 = list2.next\n",
    "        # else:\n",
    "        #     pass    \n",
    "\n",
    "            "
   ]
  },
  {
   "cell_type": "code",
   "execution_count": 53,
   "metadata": {},
   "outputs": [],
   "source": [
    "# Definition for singly-linked list.\n",
    "# class ListNode(object):\n",
    "#     def __init__(self, val=0, next=None):\n",
    "#         self.val = val\n",
    "#         self.next = next\n",
    "\n",
    "class Solution(object):\n",
    "\n",
    "    def mergeTwoLists(self, list1, list2):     \n",
    "        \"\"\"\n",
    "        :type list1: Optional[ListNode]\n",
    "        :type list2: Optional[ListNode]\n",
    "        :rtype: Optional[ListNode]\n",
    "        \"\"\"\n",
    "\n",
    "        result = ListNode()\n",
    "        current = None\n",
    "        if list1 is None:\n",
    "            return list2\n",
    "        elif list2 is None:\n",
    "            return list1\n",
    "        elif list1 is None and list2 is None:\n",
    "            return None\n",
    "        \n",
    "        #Set result to lowest value between each list\n",
    "        print(\"Setting head\")\n",
    "        if list1.val <= list2.val:\n",
    "            result.next = list1\n",
    "            list1 = list1.next\n",
    "        elif list1.val > list2.val:\n",
    "            result.next = list2\n",
    "            list2 = list2.next\n",
    "        \n",
    "        #keeps track of next node to assign\n",
    "        current = result.next\n",
    "\n",
    "        while True:\n",
    "            if list1 is None:\n",
    "                print(\"list1 is empty\")\n",
    "                current.next = list2\n",
    "                break\n",
    "            elif list2 is None:\n",
    "                print(\"list2 is empty\")\n",
    "                current.next = list1\n",
    "                break\n",
    "\n",
    "            if list1.val <= list2.val:\n",
    "                current.next = list1\n",
    "                list1 = list1.next\n",
    "\n",
    "            elif list1.val > list2.val:\n",
    "                current.next = list2\n",
    "                list2 = list2.next\n",
    "\n",
    "            current = current.next            \n",
    "        \n",
    "        print(\"done merging\")\n",
    "        return result.next"
   ]
  },
  {
   "cell_type": "code",
   "execution_count": 54,
   "metadata": {},
   "outputs": [
    {
     "name": "stdout",
     "output_type": "stream",
     "text": [
      "Adding items: [5, 4, 3, 2, 1]\n",
      "Adding items: [9, 8, 6, 5, 4, 3]\n",
      "Setting head\n",
      "Set head to 1\n",
      "merging now\n",
      "Merging from list 1: 2\n",
      "Merging from list 1: 3\n",
      "Merging from list 2: 3\n",
      "Merging from list 1: 4\n",
      "Merging from list 2: 4\n",
      "Merging from list 1: 5\n",
      "list1 is empty\n",
      "done merging\n"
     ]
    }
   ],
   "source": [
    "# list1 = [1,2,4]\n",
    "# list2 = [1,3,4]\n",
    "# Output: [1,1,2,3,4,4]\n",
    "\n",
    "list1, list2 = Listnode(), Listnode()\n",
    "\n",
    "list1.multiadd([5,4,3,2,1])\n",
    "list2.multiadd([9,8,6,5,4,3])\n",
    "\n",
    "idx1 = list1.head\n",
    "idx2 = list2.head\n",
    "\n",
    "# print(idx1.val)\n",
    "# print(idx2.val)\n",
    "\n",
    "solve = Solution()\n",
    "result = solve.mergeTwoLists(idx1, idx2)\n"
   ]
  },
  {
   "cell_type": "code",
   "execution_count": 55,
   "metadata": {},
   "outputs": [
    {
     "name": "stdout",
     "output_type": "stream",
     "text": [
      "1\n",
      "2\n",
      "3\n",
      "3\n",
      "4\n",
      "4\n",
      "5\n",
      "5\n",
      "6\n",
      "8\n",
      "9\n"
     ]
    }
   ],
   "source": [
    "while result:\n",
    "    print(result.val)\n",
    "    result = result.next"
   ]
  }
 ],
 "metadata": {
  "kernelspec": {
   "display_name": "Python 3.10.4 ('ML')",
   "language": "python",
   "name": "python3"
  },
  "language_info": {
   "codemirror_mode": {
    "name": "ipython",
    "version": 3
   },
   "file_extension": ".py",
   "mimetype": "text/x-python",
   "name": "python",
   "nbconvert_exporter": "python",
   "pygments_lexer": "ipython3",
   "version": "3.10.4"
  },
  "orig_nbformat": 4,
  "vscode": {
   "interpreter": {
    "hash": "18a88444c60b15ade15f3b7412e27f94167feb3c1614f51d86ea18cdd9c556c6"
   }
  }
 },
 "nbformat": 4,
 "nbformat_minor": 2
}
