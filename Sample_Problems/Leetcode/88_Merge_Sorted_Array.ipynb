{
 "cells": [
  {
   "cell_type": "markdown",
   "metadata": {},
   "source": [
    "You are given two integer arrays nums1 and nums2, sorted in non-decreasing order, and two integers m and n, representing the number of elements in nums1 and nums2 respectively.\n",
    "\n",
    "Merge nums1 and nums2 into a single array sorted in non-decreasing order.\n",
    "\n",
    "The final sorted array should not be returned by the function, but instead be stored inside the array nums1. To accommodate this, nums1 has a length of m + n, where the first m elements denote the elements that should be merged, and the last n elements are set to 0 and should be ignored. nums2 has a length of n."
   ]
  },
  {
   "cell_type": "code",
   "execution_count": null,
   "metadata": {},
   "outputs": [],
   "source": [
    "# Input: nums1 = [1,2,3,0,0,0], m = 3, nums2 = [2,5,6], n = 3\n",
    "# Output: [1,2,2,3,5,6]\n",
    "# Explanation: The arrays we are merging are [1,2,3] and [2,5,6].\n",
    "# The result of the merge is [1,2,2,3,5,6] with the underlined elements coming from nums1."
   ]
  },
  {
   "cell_type": "code",
   "execution_count": null,
   "metadata": {},
   "outputs": [],
   "source": [
    "Setting Pointer to be equal to length of (m + n)\n",
    "Filling nums1 from end of array will require sorting by larger values by sorting from end of each array.\n"
   ]
  },
  {
   "cell_type": "code",
   "execution_count": 27,
   "metadata": {},
   "outputs": [],
   "source": [
    "from typing import List\n",
    "\n",
    "# Input: nums1 = [1,2,3,0,0,0], m = 3, \n",
    "#        nums2 = [2,5,6], n = 3\n",
    "\n",
    "class Solution:\n",
    "    def merge(self, nums1: List[int], m: int, nums2: List[int], n: int) -> None:\n",
    "        \"\"\"\n",
    "        Do not return anything, modify nums1 in-place instead.\n",
    "        \"\"\"\n",
    "        len = (m + n) - 1\n",
    "\n",
    "        while m and n:\n",
    "            print(f\"Comparing {nums1[m-1]} and {nums2[n-1]}\")\n",
    "            if nums1[m-1] > nums2[n-1]:\n",
    "                print(f\"Comparing {nums1[m-1]} and {nums2[n-1]}\")\n",
    "                nums1[len] = nums1[m-1]\n",
    "                m-=1\n",
    "            else:\n",
    "                nums1[len] = nums2[n-1]\n",
    "                n-=1\n",
    "            len -=1\n",
    "\n",
    "        while n > 0:\n",
    "            nums1[len] = nums2[n-1]\n",
    "            n-=1\n",
    "            len-=1\n",
    "\n"
   ]
  },
  {
   "cell_type": "code",
   "execution_count": 29,
   "metadata": {},
   "outputs": [
    {
     "name": "stdout",
     "output_type": "stream",
     "text": [
      "on\n",
      "None\n",
      "[1]\n"
     ]
    }
   ],
   "source": [
    "solve = Solution()\n",
    "\n",
    "# nums1 = [1,2,3,0,0,0]\n",
    "# m = 3\n",
    "# nums2 = [2,5,6]\n",
    "# n = 3\n",
    "\n",
    "nums1 = [0]\n",
    "m = 0\n",
    "nums2 = [1]\n",
    "n = 1\n",
    "\n",
    "\n",
    "print(solve.merge(nums1,m,nums2,n))\n",
    "print(nums1)"
   ]
  }
 ],
 "metadata": {
  "kernelspec": {
   "display_name": "Python 3.7.13 ('Python_37_')",
   "language": "python",
   "name": "python3"
  },
  "language_info": {
   "codemirror_mode": {
    "name": "ipython",
    "version": 3
   },
   "file_extension": ".py",
   "mimetype": "text/x-python",
   "name": "python",
   "nbconvert_exporter": "python",
   "pygments_lexer": "ipython3",
   "version": "3.7.13"
  },
  "orig_nbformat": 4,
  "vscode": {
   "interpreter": {
    "hash": "18b1d3956e4bc07f5bda42b48ea6c804d878c969f9ec30e5a7709cfc0fa67b24"
   }
  }
 },
 "nbformat": 4,
 "nbformat_minor": 2
}
