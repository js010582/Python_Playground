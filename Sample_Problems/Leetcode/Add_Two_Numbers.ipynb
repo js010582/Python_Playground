{
 "cells": [
  {
   "cell_type": "code",
   "execution_count": 49,
   "metadata": {},
   "outputs": [],
   "source": [
    "#Adding 2 numbers link list\n",
    "\n",
    "class Node:\n",
    "    def __init__(self,data = None):\n",
    "        self.data = data\n",
    "        self.next = None\n",
    "\n",
    "class Linklist:\n",
    "    def __init__(self):\n",
    "        self.head = None\n",
    "        self.tail = None\n",
    "\n",
    "    def add(self, data = None):\n",
    "        new_node = Node(data)\n",
    "\n",
    "        if self.head:\n",
    "            new_node.next = self.head\n",
    "            self.head = new_node\n",
    "        else:\n",
    "            self.head = new_node\n",
    "    \n",
    "    def list_add(self, data = [None]):\n",
    "        \n",
    "        for elements in data:\n",
    "            # print(elements)\n",
    "            new_node = Node(elements)\n",
    "\n",
    "            if self.head:\n",
    "                \n",
    "                new_node.next = self.head\n",
    "                self.head = new_node\n",
    "            \n",
    "            else:\n",
    "            \n",
    "                self.head = new_node\n",
    "    \n",
    "\n",
    "    def list(self):\n",
    "        # print (self.head)\n",
    "\n",
    "        node = self.head\n",
    "        while node is not None:\n",
    "            print (node.data)\n",
    "            node = node.next"
   ]
  },
  {
   "cell_type": "code",
   "execution_count": 51,
   "metadata": {},
   "outputs": [
    {
     "name": "stdout",
     "output_type": "stream",
     "text": [
      "3\n",
      "2\n",
      "1\n"
     ]
    }
   ],
   "source": [
    "templist_1 = Linklist()\n",
    "\n",
    "# templist.add('Jasper')\n",
    "# templist.add('Carina')\n",
    "\n",
    "num_1 = [1,2,3]\n",
    "# num_2 = [2,2,2]\n",
    "\n",
    "\n",
    "templist_1.list_add(num_1)\n",
    "\n",
    "templist_1.list()"
   ]
  }
 ],
 "metadata": {
  "interpreter": {
   "hash": "01823a5abaf8ad4f4cb94e693e943acbf3bedc50944c5169259d585e54326848"
  },
  "kernelspec": {
   "display_name": "Python 3.10.4 ('jovianml')",
   "language": "python",
   "name": "python3"
  },
  "language_info": {
   "codemirror_mode": {
    "name": "ipython",
    "version": 3
   },
   "file_extension": ".py",
   "mimetype": "text/x-python",
   "name": "python",
   "nbconvert_exporter": "python",
   "pygments_lexer": "ipython3",
   "version": "3.10.4"
  },
  "orig_nbformat": 4
 },
 "nbformat": 4,
 "nbformat_minor": 2
}
