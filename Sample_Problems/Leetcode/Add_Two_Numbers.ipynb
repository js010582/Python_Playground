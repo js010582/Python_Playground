{
 "cells": [
  {
   "cell_type": "code",
   "execution_count": 36,
   "metadata": {},
   "outputs": [],
   "source": [
    "#Adding 2 numbers link list\n",
    "\n",
    "class ListNode:\n",
    "    def __init__(self,data = None):\n",
    "        self.val = data\n",
    "        self.next = None\n",
    "\n",
    "class Linklist:\n",
    "    def __init__(self):\n",
    "        self.head = None\n",
    "        self.tail = None\n",
    "\n",
    "    def add(self, data = None):\n",
    "        new_node = ListNode(data)\n",
    "\n",
    "        if self.head:\n",
    "            new_node.next = self.head\n",
    "            self.head = new_node\n",
    "        else:\n",
    "            self.head = new_node\n",
    "    \n",
    "    def list_add(self, data = [None]):\n",
    "        for elements in data:\n",
    "            # print(elements)\n",
    "            new_node = ListNode(elements)\n",
    "            if self.head:\n",
    "                new_node.next = self.head\n",
    "                self.head = new_node\n",
    "            else:\n",
    "                self.head = new_node\n",
    "\n",
    "    def list(self):\n",
    "        # print (self.head)\n",
    "\n",
    "        node = self.head\n",
    "        while node is not None:\n",
    "            print (node.val)\n",
    "            node = node.next"
   ]
  },
  {
   "cell_type": "code",
   "execution_count": 42,
   "metadata": {},
   "outputs": [
    {
     "name": "stdout",
     "output_type": "stream",
     "text": [
      "3\n",
      "2\n",
      "1\n",
      "6\n",
      "5\n",
      "4\n"
     ]
    }
   ],
   "source": [
    "list_1 = Linklist()\n",
    "list_2 = Linklist()\n",
    "\n",
    "num_1 = [1,2,3]\n",
    "num_2 = [4,5,6]\n",
    "\n",
    "\n",
    "list_1.list_add(num_1)\n",
    "list_2.list_add(num_2)\n",
    "\n",
    "list_1.list()\n",
    "list_2.list()\n",
    "\n"
   ]
  },
  {
   "cell_type": "code",
   "execution_count": 76,
   "metadata": {},
   "outputs": [],
   "source": [
    "# Definition for singly-linked list.\n",
    "# class ListNode(object):\n",
    "#     def __init__(self, val=0, next=None):\n",
    "#         self.val = val\n",
    "#         self.next = next\n",
    "class Solution(object):\n",
    "    def addTwoNumbers(self, l1, l2):\n",
    "        \"\"\"\n",
    "        :type l1: ListNode\n",
    "        :type l2: ListNode\n",
    "        :rtype: ListNode\n",
    "        \"\"\"\n",
    "        #Convert l1 & l2 to integers\n",
    "        node = l1.head\n",
    "        a_array = []\n",
    "        while node:\n",
    "            a_array.append(node.val)\n",
    "            node = node.next\n",
    "        strings = [str(integer) for integer in a_array]\n",
    "        a_string = \"\".join(strings)\n",
    "        a_integer_1 = int(a_string)\n",
    "        # print(f\"First number list {a_integer_1}\")\n",
    "\n",
    "        node = l2.head\n",
    "        a_array = []\n",
    "        while node:\n",
    "            a_array.append(node.val)\n",
    "            node = node.next\n",
    "        strings = [str(integer) for integer in a_array]\n",
    "        a_string = \"\".join(strings)\n",
    "        a_integer_2 = int(a_string)\n",
    "        # print(f\"Second number list {a_integer_2}\")\n",
    "\n",
    "        result = a_integer_1 + a_integer_2\n",
    "        list_res = list(map(int,str(result)))\n",
    "        \n",
    "        # print(list_res)\n",
    "\n",
    "        self.head = None\n",
    "\n",
    "        for elements in list_res:\n",
    "            new_node = ListNode(elements)\n",
    "            new_node.next = self.head\n",
    "            self.head = new_node\n",
    "        \n",
    "        return self.head\n",
    "            \n",
    "        \n",
    "\n",
    "\n",
    "\n",
    "        "
   ]
  },
  {
   "cell_type": "code",
   "execution_count": 77,
   "metadata": {},
   "outputs": [
    {
     "data": {
      "text/plain": [
       "<__main__.ListNode at 0x7fe0f8354be0>"
      ]
     },
     "execution_count": 77,
     "metadata": {},
     "output_type": "execute_result"
    }
   ],
   "source": [
    "addsolve = Solution()\n",
    "addsolve.addTwoNumbers(list_1,list_2)"
   ]
  },
  {
   "cell_type": "code",
   "execution_count": 17,
   "metadata": {},
   "outputs": [
    {
     "name": "stdout",
     "output_type": "stream",
     "text": [
      "412351236\n"
     ]
    }
   ],
   "source": [
    "var1 = '123'\n",
    "var2 = '456'\n",
    "\n",
    "result = \"\".join(var1)\n",
    "print(result.join(var2))\n",
    "\n",
    "# result\n"
   ]
  },
  {
   "cell_type": "code",
   "execution_count": 18,
   "metadata": {},
   "outputs": [
    {
     "name": "stdout",
     "output_type": "stream",
     "text": [
      "123\n"
     ]
    }
   ],
   "source": [
    "integers = [1, 2, 3]\n",
    "\n",
    "strings = [str(integer) for integer in integers]\n",
    "a_string = \"\".join(strings)\n",
    "an_integer = int(a_string)\n",
    "\n",
    "print(an_integer)"
   ]
  },
  {
   "cell_type": "code",
   "execution_count": 71,
   "metadata": {},
   "outputs": [
    {
     "name": "stdout",
     "output_type": "stream",
     "text": [
      "The original number is 2019\n",
      "The list from number is [2, 0, 1, 9]\n"
     ]
    }
   ],
   "source": [
    "\n",
    "# Python3 code to demonstrate \n",
    "# conversion of number to list of integers\n",
    "# using list comprehension\n",
    "  \n",
    "# initializing number \n",
    "num = 2019\n",
    "  \n",
    "# printing number \n",
    "print (\"The original number is \" + str(num))\n",
    "  \n",
    "# using list comprehension\n",
    "# to convert number to list of integers\n",
    "res = [int(x) for x in str(num)]\n",
    "  \n",
    "# printing result \n",
    "print (\"The list from number is \" + str(res))"
   ]
  }
 ],
 "metadata": {
  "interpreter": {
   "hash": "18a88444c60b15ade15f3b7412e27f94167feb3c1614f51d86ea18cdd9c556c6"
  },
  "kernelspec": {
   "display_name": "Python 3.10.4 ('ML')",
   "language": "python",
   "name": "python3"
  },
  "language_info": {
   "codemirror_mode": {
    "name": "ipython",
    "version": 3
   },
   "file_extension": ".py",
   "mimetype": "text/x-python",
   "name": "python",
   "nbconvert_exporter": "python",
   "pygments_lexer": "ipython3",
   "version": "3.10.4"
  },
  "orig_nbformat": 4
 },
 "nbformat": 4,
 "nbformat_minor": 2
}
