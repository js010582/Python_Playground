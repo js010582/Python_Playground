{
 "cells": [
  {
   "cell_type": "code",
   "execution_count": 1,
   "metadata": {},
   "outputs": [],
   "source": [
    "# 14. Longest Common Prefix"
   ]
  },
  {
   "cell_type": "code",
   "execution_count": 8,
   "metadata": {},
   "outputs": [],
   "source": [
    "class Solution(object):\n",
    "    def longestCommonPrefix(self, strs):\n",
    "        \"\"\"\n",
    "        :type strs: List[str]\n",
    "        :rtype: str\n",
    "        \"\"\"\n",
    "        \n",
    "        \n",
    "                "
   ]
  },
  {
   "cell_type": "code",
   "execution_count": null,
   "metadata": {},
   "outputs": [],
   "source": [
    "# 1) Create empty string array[] to store saved common characters\n",
    "# 2) Iterate through all strings with a count equal to the minimum of all strings.\n",
    "#       a) Create temporary variable to store for character in array to be compared other character from all strings.\n",
    "#       b) If temp stored variable is the same for all characters in strings append to empty string array.\n",
    "#       b) If come across null return 0.\n",
    "# 3) Return string array."
   ]
  },
  {
   "cell_type": "code",
   "execution_count": 1,
   "metadata": {},
   "outputs": [
    {
     "ename": "NameError",
     "evalue": "name 'Solution' is not defined",
     "output_type": "error",
     "traceback": [
      "\u001b[0;31m---------------------------------------------------------------------------\u001b[0m",
      "\u001b[0;31mNameError\u001b[0m                                 Traceback (most recent call last)",
      "\u001b[1;32m/home/js010582/git_work_workspace/Python_Playground/Sample_Problems/Leetcode/Longest_Common_Prefix.ipynb Cell 1'\u001b[0m in \u001b[0;36m<cell line: 4>\u001b[0;34m()\u001b[0m\n\u001b[1;32m      <a href='vscode-notebook-cell:/home/js010582/git_work_workspace/Python_Playground/Sample_Problems/Leetcode/Longest_Common_Prefix.ipynb#ch0000000?line=0'>1</a>\u001b[0m strs \u001b[39m=\u001b[39m [\u001b[39m\"\u001b[39m\u001b[39mflower\u001b[39m\u001b[39m\"\u001b[39m,\u001b[39m\"\u001b[39m\u001b[39mflow\u001b[39m\u001b[39m\"\u001b[39m,\u001b[39m\"\u001b[39m\u001b[39mflight\u001b[39m\u001b[39m\"\u001b[39m]\n\u001b[1;32m      <a href='vscode-notebook-cell:/home/js010582/git_work_workspace/Python_Playground/Sample_Problems/Leetcode/Longest_Common_Prefix.ipynb#ch0000000?line=1'>2</a>\u001b[0m \u001b[39mstr\u001b[39m \u001b[39m=\u001b[39m \u001b[39m'\u001b[39m\u001b[39mflower\u001b[39m\u001b[39m'\u001b[39m\n\u001b[0;32m----> <a href='vscode-notebook-cell:/home/js010582/git_work_workspace/Python_Playground/Sample_Problems/Leetcode/Longest_Common_Prefix.ipynb#ch0000000?line=3'>4</a>\u001b[0m solve \u001b[39m=\u001b[39m Solution()\n\u001b[1;32m      <a href='vscode-notebook-cell:/home/js010582/git_work_workspace/Python_Playground/Sample_Problems/Leetcode/Longest_Common_Prefix.ipynb#ch0000000?line=4'>5</a>\u001b[0m solve\u001b[39m.\u001b[39mlongestCommonPrefix(strs)\n",
      "\u001b[0;31mNameError\u001b[0m: name 'Solution' is not defined"
     ]
    }
   ],
   "source": [
    "strs = [\"flower\",\"flow\",\"flight\"]\n",
    "# str = 'flower'\n",
    "\n",
    "solve = Solution()\n",
    "solve.longestCommonPrefix(strs)"
   ]
  }
 ],
 "metadata": {
  "interpreter": {
   "hash": "18a88444c60b15ade15f3b7412e27f94167feb3c1614f51d86ea18cdd9c556c6"
  },
  "kernelspec": {
   "display_name": "Python 3.10.4 ('ML')",
   "language": "python",
   "name": "python3"
  },
  "language_info": {
   "codemirror_mode": {
    "name": "ipython",
    "version": 3
   },
   "file_extension": ".py",
   "mimetype": "text/x-python",
   "name": "python",
   "nbconvert_exporter": "python",
   "pygments_lexer": "ipython3",
   "version": "3.10.4"
  },
  "orig_nbformat": 4
 },
 "nbformat": 4,
 "nbformat_minor": 2
}
