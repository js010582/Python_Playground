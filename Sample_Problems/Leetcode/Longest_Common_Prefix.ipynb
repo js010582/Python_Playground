{
 "cells": [
  {
   "cell_type": "code",
   "execution_count": 1,
   "metadata": {},
   "outputs": [],
   "source": [
    "# 14. Longest Common Prefix"
   ]
  },
  {
   "cell_type": "code",
   "execution_count": null,
   "metadata": {},
   "outputs": [],
   "source": [
    "# 1) Create empty string array[] to store saved common characters\n",
    "# 2) Iterate through all strings with a count equal to the minimum of all strings.\n",
    "#       a) Create temporary variable to store for character in array to be compared other character from all strings.\n",
    "#       b) If temp stored variable is the same for all characters in strings append to empty string array.\n",
    "#       b) If come across null return 0.\n",
    "# 3) Return string array."
   ]
  },
  {
   "cell_type": "code",
   "execution_count": 82,
   "metadata": {},
   "outputs": [],
   "source": [
    "class Solution(object):\n",
    "    def longestCommonPrefix(self, strs):\n",
    "        \"\"\"\n",
    "        :type strs: List[str]\n",
    "        :rtype: str\n",
    "        \"\"\"\n",
    "        \n",
    "        min_len = min(list(map(len,strs)))\n",
    "        result = \"\"\n",
    "        count = 0\n",
    "        \n",
    "        # print(min_len)\n",
    "\n",
    "        #Loop up to min_len times\n",
    "        for i in range(min_len):\n",
    "            #set to character of first string in list\n",
    "            temp_char = strs[0][i]\n",
    "            # print(f\"Setting temp to character {temp_char}\")\n",
    "            count = 0\n",
    "\n",
    "            for j in range(1,len(strs)):\n",
    "                # print(f\"Checking character: {strs[j][i]} from string: {strs[j]}\")\n",
    "                if strs[j][i] == temp_char:\n",
    "                    count+=1\n",
    "                    # print(f\"count increased\")\n",
    "            \n",
    "            if count == len(strs)-1:\n",
    "                result+=temp_char\n",
    "                # print(f\"Appended {temp_char}\")\n",
    "            else:\n",
    "                break\n",
    "            \n",
    "        return result"
   ]
  },
  {
   "cell_type": "code",
   "execution_count": 84,
   "metadata": {},
   "outputs": [
    {
     "data": {
      "text/plain": [
       "'fl'"
      ]
     },
     "execution_count": 84,
     "metadata": {},
     "output_type": "execute_result"
    }
   ],
   "source": [
    "strs = [\"flower\",\"flow\",\"flight\"]\n",
    "# strs = [\"dog\",\"racecar\",\"car\"]\n",
    "# str = 'flower'\n",
    "\n",
    "solve = Solution()\n",
    "solve.longestCommonPrefix(strs)"
   ]
  },
  {
   "cell_type": "code",
   "execution_count": 80,
   "metadata": {},
   "outputs": [
    {
     "name": "stdout",
     "output_type": "stream",
     "text": [
      "[6, 4, 6]\n",
      "4\n"
     ]
    }
   ],
   "source": [
    "strs = [\"flower\",\"flow\",\"flight\"]\n",
    "# len(strs)\n",
    "# print(sorted(len(strs)))\n",
    "list_len = list(map(len,strs))\n",
    "print(list_len)\n",
    "min_str = min(list_len)\n",
    "print(min_str)\n"
   ]
  }
 ],
 "metadata": {
  "interpreter": {
   "hash": "18a88444c60b15ade15f3b7412e27f94167feb3c1614f51d86ea18cdd9c556c6"
  },
  "kernelspec": {
   "display_name": "Python 3.10.4 ('ML')",
   "language": "python",
   "name": "python3"
  },
  "language_info": {
   "codemirror_mode": {
    "name": "ipython",
    "version": 3
   },
   "file_extension": ".py",
   "mimetype": "text/x-python",
   "name": "python",
   "nbconvert_exporter": "python",
   "pygments_lexer": "ipython3",
   "version": "3.10.4"
  },
  "orig_nbformat": 4
 },
 "nbformat": 4,
 "nbformat_minor": 2
}
