{
 "cells": [
  {
   "cell_type": "code",
   "execution_count": 1,
   "metadata": {},
   "outputs": [],
   "source": [
    "# Given an array of strings strs, group the anagrams together. You can return the answer in any order.\n",
    "\n",
    "# An Anagram is a word or phrase formed by rearranging the letters of a different word or phrase, typically using all the original letters exactly once."
   ]
  },
  {
   "cell_type": "code",
   "execution_count": null,
   "metadata": {},
   "outputs": [],
   "source": []
  },
  {
   "cell_type": "code",
   "execution_count": 96,
   "metadata": {},
   "outputs": [
    {
     "name": "stdout",
     "output_type": "stream",
     "text": [
      "on : eat\n",
      "Storing count: [1, 0, 0, 0, 1, 0, 0, 0, 0, 0, 0, 0, 0, 0, 0, 0, 0, 0, 0, 1, 0, 0, 0, 0, 0, 0] with value eat\n",
      "on : tea\n",
      "Storing count: [1, 0, 0, 0, 1, 0, 0, 0, 0, 0, 0, 0, 0, 0, 0, 0, 0, 0, 0, 1, 0, 0, 0, 0, 0, 0] with value tea\n",
      "on : tan\n",
      "Storing count: [1, 0, 0, 0, 0, 0, 0, 0, 0, 0, 0, 0, 0, 1, 0, 0, 0, 0, 0, 1, 0, 0, 0, 0, 0, 0] with value tan\n",
      "on : ate\n",
      "Storing count: [1, 0, 0, 0, 1, 0, 0, 0, 0, 0, 0, 0, 0, 0, 0, 0, 0, 0, 0, 1, 0, 0, 0, 0, 0, 0] with value ate\n",
      "on : nat\n",
      "Storing count: [1, 0, 0, 0, 0, 0, 0, 0, 0, 0, 0, 0, 0, 1, 0, 0, 0, 0, 0, 1, 0, 0, 0, 0, 0, 0] with value nat\n",
      "on : bat\n",
      "Storing count: [1, 1, 0, 0, 0, 0, 0, 0, 0, 0, 0, 0, 0, 0, 0, 0, 0, 0, 0, 1, 0, 0, 0, 0, 0, 0] with value bat\n"
     ]
    }
   ],
   "source": [
    "# Input: strs = [\"eat\",\"tea\",\"tan\",\"ate\",\"nat\",\"bat\"]\n",
    "# Output: [[\"bat\"],[\"nat\",\"tan\"],[\"ate\",\"eat\",\"tea\"]]\n",
    "\n",
    "from typing import List\n",
    "from collections import defaultdict\n",
    "\n",
    "class Solution:\n",
    "    def groupAnagrams(self, strs: List[str]) -> List[List[str]]:\n",
    "        # strhash = {}\n",
    "        strhash = defaultdict(list)\n",
    "        for s in strs:\n",
    "            print(f\"on : {s}\")\n",
    "            count = [0] * 26\n",
    "            for c in s:\n",
    "                # print(f\"character {c}\")         \n",
    "                count[ord(c)-ord('a')] += 1\n",
    "            print(f\"Storing count: {count} with value {s}\")   \n",
    "            strhash[tuple(count)] = s\n",
    "        return strhash.values()\n",
    "        # print(strhash.values())\n",
    "        # for values in strhash:\n",
    "            # print(strhash[values])\n",
    "\n",
    "if __name__ == \"__main__\":\n",
    "    inputstr = [\"eat\",\"tea\",\"tan\",\"ate\",\"nat\",\"bat\"]\n",
    "\n",
    "    solve = Solution()\n",
    "    solve.groupAnagrams(inputstr)"
   ]
  },
  {
   "cell_type": "code",
   "execution_count": 79,
   "metadata": {},
   "outputs": [],
   "source": [
    "#Needcode Solution\n",
    "class Solution:\n",
    "    def groupAnagrams(self, strs: List[str]) -> List[List[str]]:\n",
    "        ans = collections.defaultdict(list)\n",
    "        \n",
    "        for s in strs:\n",
    "            count = [0] * 26\n",
    "            for c in s:\n",
    "                count[ord(c) - (ord('a')-1)] += 1\n",
    "            ans[tuple(count)].append(s)\n",
    "        return ans.values()"
   ]
  }
 ],
 "metadata": {
  "kernelspec": {
   "display_name": "Python 3.7.13 ('Python_37_')",
   "language": "python",
   "name": "python3"
  },
  "language_info": {
   "codemirror_mode": {
    "name": "ipython",
    "version": 3
   },
   "file_extension": ".py",
   "mimetype": "text/x-python",
   "name": "python",
   "nbconvert_exporter": "python",
   "pygments_lexer": "ipython3",
   "version": "3.7.13"
  },
  "orig_nbformat": 4,
  "vscode": {
   "interpreter": {
    "hash": "18b1d3956e4bc07f5bda42b48ea6c804d878c969f9ec30e5a7709cfc0fa67b24"
   }
  }
 },
 "nbformat": 4,
 "nbformat_minor": 2
}
