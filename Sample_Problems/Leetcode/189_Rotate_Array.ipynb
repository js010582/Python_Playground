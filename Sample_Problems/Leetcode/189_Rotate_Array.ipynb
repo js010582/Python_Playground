{
 "cells": [
  {
   "cell_type": "code",
   "execution_count": null,
   "metadata": {},
   "outputs": [],
   "source": [
    "# Given an array, rotate the array to the right by k steps, where k is non-negative.\n",
    "# Input: nums = [1,2,3,4,5,6,7], k = 3\n",
    "# Output: [5,6,7,1,2,3,4]\n",
    "# Explanation:\n",
    "# rotate 1 steps to the right: [7,1,2,3,4,5,6]\n",
    "# rotate 2 steps to the right: [6,7,1,2,3,4,5]\n",
    "# rotate 3 steps to the right: [5,6,7,1,2,3,4]"
   ]
  },
  {
   "cell_type": "code",
   "execution_count": null,
   "metadata": {},
   "outputs": [],
   "source": [
    "class Solution:\n",
    "    def rotate(self, nums: List[int], k: int) -> None:\n",
    "        \"\"\"\n",
    "        Do not return anything, modify nums in-place instead.\n",
    "        \"\"\"\n",
    "        "
   ]
  },
  {
   "cell_type": "code",
   "execution_count": null,
   "metadata": {},
   "outputs": [],
   "source": [
    "1 2 3 4 5 6\n",
    "\n",
    "count = len - 3"
   ]
  }
 ],
 "metadata": {
  "language_info": {
   "name": "python"
  },
  "orig_nbformat": 4
 },
 "nbformat": 4,
 "nbformat_minor": 2
}
