{
 "cells": [
  {
   "cell_type": "markdown",
   "metadata": {},
   "source": [
    "Roman numerals are represented by seven different symbols: I, V, X, L, C, D and M.\n",
    "\n",
    "Symbol       Value\n",
    "I             1\n",
    "V             5\n",
    "X             10\n",
    "L             50\n",
    "C             100\n",
    "D             500\n",
    "M             1000\n",
    "For example, 2 is written as II in Roman numeral, just two one's added together. 12 is written as XII, which is simply X + II. The number 27 is written as XXVII, which is XX + V + II.\n",
    "\n",
    "Roman numerals are usually written largest to smallest from left to right. However, the numeral for four is not IIII. Instead, the number four is written as IV. Because the one is before the five we subtract it making four. The same principle applies to the number nine, which is written as IX. There are six instances where subtraction is used:\n",
    "\n",
    "I can be placed before V (5) and X (10) to make 4 and 9. \n",
    "X can be placed before L (50) and C (100) to make 40 and 90. \n",
    "C can be placed before D (500) and M (1000) to make 400 and 900.\n",
    "Given a roman numeral, convert it to an integer.\n",
    "\n",
    " \n",
    "\n",
    "Example 1:\n",
    "\n",
    "Input: s = \"III\"\n",
    "Output: 3\n",
    "Explanation: III = 3.\n",
    "Example 2:\n",
    "\n",
    "Input: s = \"LVIII\"\n",
    "Output: 58\n",
    "Explanation: L = 50, V= 5, III = 3.\n",
    "Example 3:\n",
    "\n",
    "Input: s = \"MCMXCIV\"\n",
    "Output: 1994\n",
    "Explanation: M = 1000, CM = 900, XC = 90 and IV = 4.\n",
    " \n",
    "\n",
    "Constraints:\n",
    "\n",
    "1 <= s.length <= 15\n",
    "s contains only the characters ('I', 'V', 'X', 'L', 'C', 'D', 'M').\n",
    "It is guaranteed that s is a valid roman numeral in the range [1, 3999]."
   ]
  },
  {
   "cell_type": "markdown",
   "metadata": {},
   "source": [
    "#Method for solving\n",
    "1) Iterate through each character in string.\n",
    "    Check if Letter I is before V or X, If so subtract 1 from total\n",
    "    Check if Letter X is before L or C, If so subtract 10 from total\n",
    "    Check if Letter C is before D or M, If so subtract 100 from total\n",
    "    else convert to integer and add to total"
   ]
  },
  {
   "cell_type": "code",
   "execution_count": 21,
   "metadata": {},
   "outputs": [],
   "source": [
    "\n",
    "class Solution:\n",
    "    \n",
    "    def romanToInt(self, s: str) -> int:\n",
    "\n",
    "        rome_dict = {'I': 1, \"V\": 5, \"X\": 10, \"L\": 50, \"C\": 100, \"D\": 500, \"M\": 1000}\n",
    "        count = 0\n",
    "\n",
    "        for element in range(len(s)):\n",
    "            converted_int = rome_dict[s[element]] # Convert Letter to Integer\n",
    "            # print(f\"currently on {s[element]}, before {s[element+1]}\")\n",
    "            if element >= (len(s)-1):\n",
    "                count += converted_int\n",
    "            elif (s[element] == 'I' and (s[element+1] == 'V')) or (s[element] == 'I' and (s[element+1] == 'X')):\n",
    "                print(\"subtract 1\")\n",
    "                count -= converted_int\n",
    "            elif (s[element] == 'X' and (s[element+1] == 'L')) or (s[element] == 'X' and (s[element+1] == 'C')):\n",
    "                print(\"subtract 10\")\n",
    "                count -= converted_int\n",
    "            elif (s[element] == 'C' and (s[element+1] == 'D')) or (s[element] == 'C' and (s[element+1] == 'M')):\n",
    "                print(\"subtract 100\")\n",
    "                count -= converted_int\n",
    "            else:\n",
    "                count += converted_int\n",
    "        return count"
   ]
  },
  {
   "cell_type": "code",
   "execution_count": 34,
   "metadata": {},
   "outputs": [],
   "source": [
    "#Version 2\n",
    "class Solution:\n",
    "    def romanToInt(self, s: str) -> int:\n",
    "        rome_dict = {'I': 1, \"V\": 5, \"X\": 10, \"L\": 50, \"C\": 100, \"D\": 500, \"M\": 1000}\n",
    "        count = 0\n",
    "\n",
    "        for element in range(len(s)):\n",
    "            converted_int = rome_dict[s[element]]\n",
    "            \n",
    "            if element < (len(s)-1) and converted_int < rome_dict[s[element+1]]:\n",
    "                     count -= converted_int\n",
    "            else:\n",
    "                count += converted_int\n",
    "        return count"
   ]
  },
  {
   "cell_type": "code",
   "execution_count": 35,
   "metadata": {},
   "outputs": [
    {
     "name": "stdout",
     "output_type": "stream",
     "text": [
      "converted int is 1000\n",
      "converted int is 100\n",
      "converted int is 1000\n",
      "converted int is 10\n",
      "converted int is 100\n",
      "converted int is 1\n",
      "converted int is 5\n"
     ]
    },
    {
     "data": {
      "text/plain": [
       "1994"
      ]
     },
     "execution_count": 35,
     "metadata": {},
     "output_type": "execute_result"
    }
   ],
   "source": [
    "input_1 = \"III\" #3\n",
    "input_2 = \"LVIII\" #58\n",
    "input_3 = \"MCMXCIV\" #1994\n",
    "\n",
    "solve = Solution()\n",
    "solve.romanToInt(input_3)"
   ]
  }
 ],
 "metadata": {
  "interpreter": {
   "hash": "1270df1c966dc45aaea412178422fa798ec1ee8c5fe2455d0c2ae09a5171dbbf"
  },
  "kernelspec": {
   "display_name": "Python 3.9.7 ('Python_37')",
   "language": "python",
   "name": "python3"
  },
  "language_info": {
   "codemirror_mode": {
    "name": "ipython",
    "version": 3
   },
   "file_extension": ".py",
   "mimetype": "text/x-python",
   "name": "python",
   "nbconvert_exporter": "python",
   "pygments_lexer": "ipython3",
   "version": "3.9.7"
  },
  "orig_nbformat": 4
 },
 "nbformat": 4,
 "nbformat_minor": 2
}
